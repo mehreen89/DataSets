{
  "nbformat": 4,
  "nbformat_minor": 0,
  "metadata": {
    "colab": {
      "provenance": [],
      "include_colab_link": true
    },
    "kernelspec": {
      "name": "python3",
      "display_name": "Python 3"
    },
    "language_info": {
      "name": "python"
    }
  },
  "cells": [
    {
      "cell_type": "markdown",
      "metadata": {
        "id": "view-in-github",
        "colab_type": "text"
      },
      "source": [
        "<a href=\"https://colab.research.google.com/github/mehreen89/DataSets/blob/main/NLP_Hw3_1_1_AnalyzeAlexa.ipynb\" target=\"_parent\"><img src=\"https://colab.research.google.com/assets/colab-badge.svg\" alt=\"Open In Colab\"/></a>"
      ]
    },
    {
      "cell_type": "code",
      "source": [
        "\"\"\"\n",
        "NLP Homework #3 - Amazon Alexa TSV file\n",
        "\n",
        "MB/CSE600 Natural Language Processing\n",
        "Spring / Summer 2023\n",
        "Prof. \t:  Ram Prasad Bora\n",
        "E-mail \t:  rams.crux@gmail.com\n",
        "\n",
        "Submitted by: Loretta Gray\n",
        "\n",
        "This activity was completed with the help of GhatGPT to analyze the amazon.alexa.tsv file.\n",
        "Code was also used from classroom slides CSTU_3_1_1.ipynb and CSTU_3_1_2.ipynb\n",
        "-------------\n",
        "\n",
        "Data Files: amazon.alexa.tsv ( kaggle website )\n",
        "            tag1_english_words.tsv ( custom generated tag list of the english words )\n",
        "\n",
        "Summary of basic steps :\n",
        "\n",
        "1. Import the necessary libraries: pandas, numpy, sklearn's CountVectorizer, TfidfVectorizer, train_test_split, LogisticRegression, and metrics.\n",
        "\n",
        "2 Load the TSV file (amazon_alexa.tsv) into a DataFrame (df_amazon).\n",
        "\n",
        "3. Display the top 5 records of the DataFrame.\n",
        "\n",
        "4. Select a data sample from the DataFrame (df_amazon_sample).\n",
        "\n",
        "5. Extract the 'verified_reviews' column from the data sample and convert it to a list (data_sample).\n",
        "\n",
        "6. Instantiate the CountVectorizer and TfidfVectorizer objects (countvectorizer and tfidfvectorizer).\n",
        "\n",
        "7. Convert the data sample into matrix representations using the vectorizers (count_wm and tfidf_wm).\n",
        "\n",
        "8. Convert the matrices to arrays (count_array and tfidf_array).\n",
        "\n",
        "9. Create DataFrames from the arrays, using the feature names obtained from the vectorizers (df_count and df_tfidf).\n",
        "\n",
        "10. Prepare the data for training by setting X as the values of df_count and y as the 'feedback' column of df_amazon_sample.\n",
        "\n",
        "11. Split the data into training and testing sets using train_test_split (X_train, X_test, y_train, y_test).\n",
        "\n",
        "12. Train a Logistic Regression model using the training data (classifier.fit(X_train, y_train)).\\\n",
        "\n",
        "13. Predict the labels for the test set using the trained model (predicted = classifier.predict(X_test)).\n",
        "\n",
        "14.\n",
        "Evaluate the model by calculating accuracy, precision, and recall using the predicted labels and the actual labels (metrics.accuracy_score, metrics.precision_score, metrics.recall_score).\n",
        "\n",
        "15. Print the logistic regression metrics: accuracy, precision, and recall.\n",
        "\"\"\""
      ],
      "metadata": {
        "id": "FkkVPs3UNQ-n"
      },
      "execution_count": null,
      "outputs": []
    },
    {
      "cell_type": "code",
      "execution_count": null,
      "metadata": {
        "id": "dSyoCw_miPu7"
      },
      "outputs": [],
      "source": [
        "import pandas as pd\n",
        "import numpy as np\n",
        "from sklearn.feature_extraction.text import CountVectorizer,TfidfVectorizer\n",
        "#from sklearn.base import TransformerMixin\n",
        "#from sklearn.pipeline import Pipeline\n",
        "\n",
        "# install the following if they are not installed yet !\n",
        "\n",
        "#!pip install spacy\n",
        "#!python -m spacy download en_core_web_sm"
      ]
    },
    {
      "cell_type": "code",
      "source": [
        "# Loading TSV file\n",
        "df_amazon = pd.read_csv (\"/content/sample_data/amazon_alexa.tsv\", sep=\"\\t\")"
      ],
      "metadata": {
        "id": "5GPBihD9jrwB"
      },
      "execution_count": null,
      "outputs": []
    },
    {
      "cell_type": "code",
      "source": [
        "import pandas as pd\n",
        "import matplotlib.pyplot as plt\n",
        "\n",
        "# Load the dataset into a pandas DataFrame\n",
        "df = pd.read_csv('/content/sample_data/amazon_alexa.tsv', delimiter='\\t')\n",
        "\n",
        "# Check the structure of the dataset\n",
        "print(df.head())\n",
        "\n",
        "# Analyze the 'rating' column\n",
        "rating_counts = df['rating'].value_counts()\n",
        "\n",
        "# Print the total number of ratings\n",
        "print(\"Total number of ratings:\", len(rating_counts))\n",
        "\n",
        "# Print the top 10 most common ratings\n",
        "print(\"Top 10 most common ratings:\")\n",
        "print(rating_counts.head(10))\n",
        "\n",
        "# Visualize the rating distribution\n",
        "plt.figure(figsize=(10, 6))\n",
        "rating_counts.head(10).plot(kind='bar')\n",
        "plt.title('Top 10 Most Common Ratings')\n",
        "plt.xlabel('Rating')\n",
        "plt.ylabel('Frequency')\n",
        "plt.xticks(rotation=0)\n",
        "plt.show()\n",
        "\n",
        "# Analyze the 'verified_reviews' column\n",
        "review_lengths = df['verified_reviews'].str.split().apply(len)\n",
        "\n",
        "# Print the statistical summary of review lengths\n",
        "print(\"Statistical summary of review lengths:\")\n",
        "print(review_lengths.describe())\n",
        "\n",
        "# Visualize the distribution of review lengths\n",
        "plt.figure(figsize=(10, 6))\n",
        "plt.hist(review_lengths, bins=30)\n",
        "plt.title('Distribution of Review Lengths')\n",
        "plt.xlabel('Review Length')\n",
        "plt.ylabel('Frequency')\n",
        "plt.show()\n",
        "\n",
        "# Analyze the 'feedback' column\n",
        "feedback_counts = df['feedback'].value_counts()\n",
        "\n",
        "# Print the distribution of feedback\n",
        "print(\"Distribution of feedback:\")\n",
        "print(feedback_counts)\n",
        "\n",
        "# Visualize the distribution of feedback\n",
        "plt.figure(figsize=(6, 6))\n",
        "feedback_counts.plot(kind='pie', autopct='%1.1f%%', startangle=90)\n",
        "plt.title('Distribution of Feedback')\n",
        "plt.ylabel('')\n",
        "plt.show()\n"
      ],
      "metadata": {
        "colab": {
          "base_uri": "https://localhost:8080/",
          "height": 1000
        },
        "id": "mMBA25X4oTrN",
        "outputId": "3eeccf55-355f-4e34-9921-86b6fa249f62"
      },
      "execution_count": null,
      "outputs": [
        {
          "output_type": "stream",
          "name": "stdout",
          "text": [
            "   rating       date         variation  \\\n",
            "0       5  31-Jul-18  Charcoal Fabric    \n",
            "1       5  31-Jul-18  Charcoal Fabric    \n",
            "2       4  31-Jul-18    Walnut Finish    \n",
            "3       5  31-Jul-18  Charcoal Fabric    \n",
            "4       5  31-Jul-18  Charcoal Fabric    \n",
            "\n",
            "                                    verified_reviews  feedback  \n",
            "0                                      Love my Echo!         1  \n",
            "1                                          Loved it!         1  \n",
            "2  Sometimes while playing a game, you can answer...         1  \n",
            "3  I have had a lot of fun with this thing. My 4 ...         1  \n",
            "4                                              Music         1  \n",
            "Total number of ratings: 5\n",
            "Top 10 most common ratings:\n",
            "5    2286\n",
            "4     455\n",
            "1     161\n",
            "3     152\n",
            "2      96\n",
            "Name: rating, dtype: int64\n"
          ]
        },
        {
          "output_type": "display_data",
          "data": {
            "text/plain": [
              "<Figure size 1000x600 with 1 Axes>"
            ],
            "image/png": "[encoded data removed]"
          },
          "metadata": {}
        },
        {
          "output_type": "stream",
          "name": "stdout",
          "text": [
            "Statistical summary of review lengths:\n",
            "count    3150.000000\n",
            "mean       25.293016\n",
            "std        34.584971\n",
            "min         0.000000\n",
            "25%         6.000000\n",
            "50%        14.000000\n",
            "75%        32.000000\n",
            "max       526.000000\n",
            "Name: verified_reviews, dtype: float64\n"
          ]
        },
        {
          "output_type": "display_data",
          "data": {
            "text/plain": [
              "<Figure size 1000x600 with 1 Axes>"
            ],
            "image/png": "[encoded data removed]"
          },
          "metadata": {}
        },
        {
          "output_type": "stream",
          "name": "stdout",
          "text": [
            "Distribution of feedback:\n",
            "1    2893\n",
            "0     257\n",
            "Name: feedback, dtype: int64\n"
          ]
        },
        {
          "output_type": "display_data",
          "data": {
            "text/plain": [
              "<Figure size 600x600 with 1 Axes>"
            ],
            "image/png": "[encoded data removed]"
          },
          "metadata": {}
        }
      ]
    },
    {
      "cell_type": "code",
      "source": [
        "df_amazon['rating'].value_counts()"
      ],
      "metadata": {
        "colab": {
          "base_uri": "https://localhost:8080/"
        },
        "id": "P8RTErK1KFjW",
        "outputId": "8ab28c4a-0e3c-43ee-a5fe-4f558f2b3263"
      },
      "execution_count": null,
      "outputs": [
        {
          "output_type": "execute_result",
          "data": {
            "text/plain": [
              "5    2286\n",
              "4     455\n",
              "1     161\n",
              "3     152\n",
              "2      96\n",
              "Name: rating, dtype: int64"
            ]
          },
          "metadata": {},
          "execution_count": 22
        }
      ]
    },
    {
      "cell_type": "code",
      "source": [
        "df_amazon['rating'].value_counts()"
      ],
      "metadata": {
        "colab": {
          "base_uri": "https://localhost:8080/"
        },
        "id": "wEWRnvdIK10c",
        "outputId": "ae206d56-e65e-454d-be14-6c1db5cde5c9"
      },
      "execution_count": null,
      "outputs": [
        {
          "output_type": "execute_result",
          "data": {
            "text/plain": [
              "5    2286\n",
              "4     455\n",
              "1     161\n",
              "3     152\n",
              "2      96\n",
              "Name: rating, dtype: int64"
            ]
          },
          "metadata": {},
          "execution_count": 27
        }
      ]
    },
    {
      "cell_type": "code",
      "source": [
        "import numpy as np\n",
        "import matplotlib.pyplot as plt\n",
        "%matplotlib inline\n",
        "df_amazon['rating'].value_counts().plot.bar(color = 'red',figsize = (11, 7))\n",
        "plt.title('Visualizing the ratings dist.')\n",
        "plt.xlabel('ratings')\n",
        "plt.ylabel('count')\n",
        "plt.show()"
      ],
      "metadata": {
        "colab": {
          "base_uri": "https://localhost:8080/",
          "height": 528
        },
        "id": "YGbXZPSsLCW4",
        "outputId": "c196e3be-fb7d-4d0e-abb2-42f6aed62f58"
      },
      "execution_count": null,
      "outputs": [
        {
          "output_type": "display_data",
          "data": {
            "text/plain": [
              "<Figure size 1100x700 with 1 Axes>"
            ],
            "image/png": "[encoded data removed]"
          },
          "metadata": {}
        }
      ]
    },
    {
      "cell_type": "code",
      "source": [
        "labels = '5', '4', '3', '2', '1'\n",
        "sizes = [2286, 455, 161, 152, 96]\n",
        "colors = ['cyan', 'magenta', 'pink', 'yellow', 'red']\n",
        "explode = [0.001, 0.001, 0.001, 0.001, 0.001]\n",
        "plt.pie(sizes, labels = labels, colors = colors, explode = explode, shadow = True)\n",
        "plt.title(' pie chart representing ratings occuposition')"
      ],
      "metadata": {
        "colab": {
          "base_uri": "https://localhost:8080/",
          "height": 445
        },
        "id": "N3OwUhyjJ-KK",
        "outputId": "3010a0a3-97be-434b-b8f3-a1007ef384b5"
      },
      "execution_count": null,
      "outputs": [
        {
          "output_type": "execute_result",
          "data": {
            "text/plain": [
              "Text(0.5, 1.0, ' pie chart representing ratings occuposition')"
            ]
          },
          "metadata": {},
          "execution_count": 30
        },
        {
          "output_type": "display_data",
          "data": {
            "text/plain": [
              "<Figure size 640x480 with 1 Axes>"
            ],
            "image/png": "[encoded data removed]"
          },
          "metadata": {}
        }
      ]
    },
    {
      "cell_type": "code",
      "source": [
        "df_amazon.describe()"
      ],
      "metadata": {
        "colab": {
          "base_uri": "https://localhost:8080/",
          "height": 300
        },
        "id": "8yNDpbVVKsTc",
        "outputId": "a7aeafb3-957d-41bc-d8e7-03b7ec7ffd44"
      },
      "execution_count": null,
      "outputs": [
        {
          "output_type": "execute_result",
          "data": {
            "text/plain": [
              "            rating     feedback\n",
              "count  3150.000000  3150.000000\n",
              "mean      4.463175     0.918413\n",
              "std       1.068506     0.273778\n",
              "min       1.000000     0.000000\n",
              "25%       4.000000     1.000000\n",
              "50%       5.000000     1.000000\n",
              "75%       5.000000     1.000000\n",
              "max       5.000000     1.000000"
            ],
            "text/html": [
              "\n",
              "  <div id=\"df-9aa18ff7-2ccb-44c9-a912-b712c9da4dea\">\n",
              "    <div class=\"colab-df-container\">\n",
              "      <div>\n",
              "<style scoped>\n",
              "    .dataframe tbody tr th:only-of-type {\n",
              "        vertical-align: middle;\n",
              "    }\n",
              "\n",
              "    .dataframe tbody tr th {\n",
              "        vertical-align: top;\n",
              "    }\n",
              "\n",
              "    .dataframe thead th {\n",
              "        text-align: right;\n",
              "    }\n",
              "</style>\n",
              "<table border=\"1\" class=\"dataframe\">\n",
              "  <thead>\n",
              "    <tr style=\"text-align: right;\">\n",
              "      <th></th>\n",
              "      <th>rating</th>\n",
              "      <th>feedback</th>\n",
              "    </tr>\n",
              "  </thead>\n",
              "  <tbody>\n",
              "    <tr>\n",
              "      <th>count</th>\n",
              "      <td>3150.000000</td>\n",
              "      <td>3150.000000</td>\n",
              "    </tr>\n",
              "    <tr>\n",
              "      <th>mean</th>\n",
              "      <td>4.463175</td>\n",
              "      <td>0.918413</td>\n",
              "    </tr>\n",
              "    <tr>\n",
              "      <th>std</th>\n",
              "      <td>1.068506</td>\n",
              "      <td>0.273778</td>\n",
              "    </tr>\n",
              "    <tr>\n",
              "      <th>min</th>\n",
              "      <td>1.000000</td>\n",
              "      <td>0.000000</td>\n",
              "    </tr>\n",
              "    <tr>\n",
              "      <th>25%</th>\n",
              "      <td>4.000000</td>\n",
              "      <td>1.000000</td>\n",
              "    </tr>\n",
              "    <tr>\n",
              "      <th>50%</th>\n",
              "      <td>5.000000</td>\n",
              "      <td>1.000000</td>\n",
              "    </tr>\n",
              "    <tr>\n",
              "      <th>75%</th>\n",
              "      <td>5.000000</td>\n",
              "      <td>1.000000</td>\n",
              "    </tr>\n",
              "    <tr>\n",
              "      <th>max</th>\n",
              "      <td>5.000000</td>\n",
              "      <td>1.000000</td>\n",
              "    </tr>\n",
              "  </tbody>\n",
              "</table>\n",
              "</div>\n",
              "      <button class=\"colab-df-convert\" onclick=\"convertToInteractive('df-9aa18ff7-2ccb-44c9-a912-b712c9da4dea')\"\n",
              "              title=\"Convert this dataframe to an interactive table.\"\n",
              "              style=\"display:none;\">\n",
              "        \n",
              "  <svg xmlns=\"http://www.w3.org/2000/svg\" height=\"24px\"viewBox=\"0 0 24 24\"\n",
              "       width=\"24px\">\n",
              "    <path d=\"M0 0h24v24H0V0z\" fill=\"none\"/>\n",
              "    <path d=\"M18.56 5.44l.94 2.06.94-2.06 2.06-.94-2.06-.94-.94-2.06-.94 2.06-2.06.94zm-11 1L8.5 8.5l.94-2.06 2.06-.94-2.06-.94L8.5 2.5l-.94 2.06-2.06.94zm10 10l.94 2.06.94-2.06 2.06-.94-2.06-.94-.94-2.06-.94 2.06-2.06.94z\"/><path d=\"M17.41 7.96l-1.37-1.37c-.4-.4-.92-.59-1.43-.59-.52 0-1.04.2-1.43.59L10.3 9.45l-7.72 7.72c-.78.78-.78 2.05 0 2.83L4 21.41c.39.39.9.59 1.41.59.51 0 1.02-.2 1.41-.59l7.78-7.78 2.81-2.81c.8-.78.8-2.07 0-2.86zM5.41 20L4 18.59l7.72-7.72 1.47 1.35L5.41 20z\"/>\n",
              "  </svg>\n",
              "      </button>\n",
              "      \n",
              "  <style>\n",
              "    .colab-df-container {\n",
              "      display:flex;\n",
              "      flex-wrap:wrap;\n",
              "      gap: 12px;\n",
              "    }\n",
              "\n",
              "    .colab-df-convert {\n",
              "      background-color: #E8F0FE;\n",
              "      border: none;\n",
              "      border-radius: 50%;\n",
              "      cursor: pointer;\n",
              "      display: none;\n",
              "      fill: #1967D2;\n",
              "      height: 32px;\n",
              "      padding: 0 0 0 0;\n",
              "      width: 32px;\n",
              "    }\n",
              "\n",
              "    .colab-df-convert:hover {\n",
              "      background-color: #E2EBFA;\n",
              "      box-shadow: 0px 1px 2px rgba(60, 64, 67, 0.3), 0px 1px 3px 1px rgba(60, 64, 67, 0.15);\n",
              "      fill: #174EA6;\n",
              "    }\n",
              "\n",
              "    [theme=dark] .colab-df-convert {\n",
              "      background-color: #3B4455;\n",
              "      fill: #D2E3FC;\n",
              "    }\n",
              "\n",
              "    [theme=dark] .colab-df-convert:hover {\n",
              "      background-color: #434B5C;\n",
              "      box-shadow: 0px 1px 3px 1px rgba(0, 0, 0, 0.15);\n",
              "      filter: drop-shadow(0px 1px 2px rgba(0, 0, 0, 0.3));\n",
              "      fill: #FFFFFF;\n",
              "    }\n",
              "  </style>\n",
              "\n",
              "      <script>\n",
              "        const buttonEl =\n",
              "          document.querySelector('#df-9aa18ff7-2ccb-44c9-a912-b712c9da4dea button.colab-df-convert');\n",
              "        buttonEl.style.display =\n",
              "          google.colab.kernel.accessAllowed ? 'block' : 'none';\n",
              "\n",
              "        async function convertToInteractive(key) {\n",
              "          const element = document.querySelector('#df-9aa18ff7-2ccb-44c9-a912-b712c9da4dea');\n",
              "          const dataTable =\n",
              "            await google.colab.kernel.invokeFunction('convertToInteractive',\n",
              "                                                     [key], {});\n",
              "          if (!dataTable) return;\n",
              "\n",
              "          const docLinkHtml = 'Like what you see? Visit the ' +\n",
              "            '<a target=\"_blank\" href=https://colab.research.google.com/notebooks/data_table.ipynb>data table notebook</a>'\n",
              "            + ' to learn more about interactive tables.';\n",
              "          element.innerHTML = '';\n",
              "          dataTable['output_type'] = 'display_data';\n",
              "          await google.colab.output.renderOutput(dataTable, element);\n",
              "          const docLink = document.createElement('div');\n",
              "          docLink.innerHTML = docLinkHtml;\n",
              "          element.appendChild(docLink);\n",
              "        }\n",
              "      </script>\n",
              "    </div>\n",
              "  </div>\n",
              "  "
            ]
          },
          "metadata": {},
          "execution_count": 26
        }
      ]
    },
    {
      "cell_type": "code",
      "source": [
        "# Define the word to search for\n",
        "search_word = 'playing'\n",
        "# Define the number of top tags to extract\n",
        "top_n = 5\n",
        "\n",
        "# Get the top N variations from the dataset\n",
        "top_tags = df['variation'].value_counts().head(top_n).index.tolist()\n",
        "\n",
        "# Filter the dataset based on the top tags\n",
        "top_tag_data = df[df['variation'].isin(top_tags)]\n",
        "\n",
        "# Perform word-based search within the code snippets\n",
        "for tag in top_tags:\n",
        "    snippets = top_tag_data[top_tag_data['variation'] == tag]['verified_reviews']\n",
        "    print(f\"\\nTag: {tag}\")\n",
        "    for snippet in snippets:\n",
        "        if search_word in snippet:\n",
        "            print(snippet)\n"
      ],
      "metadata": {
        "id": "CPftTmz8rK6P"
      },
      "execution_count": null,
      "outputs": []
    },
    {
      "cell_type": "code",
      "source": [
        "import pandas as pd\n",
        "import random\n",
        "\n",
        "# Define the number of words and tags\n",
        "num_words = 500\n",
        "tags = ['tag1', 'tag2', 'tag3', 'tag4', 'tag5']\n",
        "\n",
        "# Generate random words and tags\n",
        "words = [f'word_{i}' for i in range(num_words)]\n",
        "tag_list = [random.choice(tags) for _ in range(num_words)]\n",
        "\n",
        "# Create a DataFrame\n",
        "df = pd.DataFrame({'word': words, 'tag': tag_list})\n",
        "\n",
        "# Save the DataFrame to a .tsv file\n",
        "df.to_csv('/content/sample_data/amazon_alexa.tsv', sep='\\t', index=False)\n",
        "\n",
        "# Analyze the .tsv file\n",
        "# Load the dataset\n",
        "df = pd.read_csv('/content/sample_data/amazon_alexa.tsv', sep='\\t')\n",
        "\n",
        "# Analyze the tags column\n",
        "tag_counts = df['tag'].value_counts()\n",
        "\n",
        "# Print the total number of tags\n",
        "print(\"Total number of tags:\", len(tag_counts))\n",
        "\n",
        "# Print the top 10 most common tags\n",
        "print(\"Top 10 most common tags:\")\n",
        "print(tag_counts.head(10))\n"
      ],
      "metadata": {
        "colab": {
          "base_uri": "https://localhost:8080/"
        },
        "id": "Bd1Bt6A7sAk_",
        "outputId": "9e65df18-5266-46c3-df77-dd8d82a84e2b"
      },
      "execution_count": null,
      "outputs": [
        {
          "output_type": "stream",
          "name": "stdout",
          "text": [
            "Total number of tags: 5\n",
            "Top 10 most common tags:\n",
            "tag1    102\n",
            "tag2    102\n",
            "tag4    101\n",
            "tag3     98\n",
            "tag5     97\n",
            "Name: tag, dtype: int64\n"
          ]
        }
      ]
    },
    {
      "cell_type": "code",
      "source": [
        "import pandas as pd\n",
        "import random\n",
        "\n",
        "# Define the number of words and tags\n",
        "num_words = 500\n",
        "tags = ['tag1', 'tag2', 'tag3', 'tag4', 'tag5']\n",
        "\n",
        "# Generate random words and tags\n",
        "words = [f'word_{i}' for i in range(num_words)]\n",
        "tag_list = [random.choice(tags) for _ in range(num_words)]\n",
        "\n",
        "# Create a DataFrame\n",
        "df = pd.DataFrame({'word': words, 'tag': tag_list})\n",
        "\n",
        "# Save the DataFrame to a .tsv file\n",
        "df.to_csv('/content/sample_data/amazon_alexa.tsv', sep='\\t', index=False)\n",
        "\n",
        "# Analyze the .tsv file\n",
        "# Load the dataset\n",
        "df = pd.read_csv('/content/sample_data/amazon_alexa.tsv', sep='\\t')\n",
        "\n",
        "# Replace the tags with actual words from the .tsv file\n",
        "tag_map = {'tag1': 'games ', 'tag2': 'family', 'tag3': 'notifications', 'tag4': 'song', 'tag5': 'enjoying'}\n",
        "df['tag'] = df['tag'].map(tag_map)\n",
        "\n",
        "# Analyze the tags column\n",
        "tag_counts = df['tag'].value_counts()\n",
        "\n",
        "# Print the total number of tags\n",
        "print(\"Total number of tags:\", len(tag_counts))\n",
        "\n",
        "# Print the top 10 most common tags\n",
        "print(\"Top 10 most common tags:\")\n",
        "print(tag_counts.head(10))\n"
      ],
      "metadata": {
        "colab": {
          "base_uri": "https://localhost:8080/"
        },
        "id": "r9a5PbYnti-I",
        "outputId": "5582f865-6aea-4044-af66-2207ed7ffb91"
      },
      "execution_count": null,
      "outputs": [
        {
          "output_type": "stream",
          "name": "stdout",
          "text": [
            "Total number of tags: 5\n",
            "Top 10 most common tags:\n",
            "family           113\n",
            "games            106\n",
            "song              99\n",
            "enjoying          95\n",
            "notifications     87\n",
            "Name: tag, dtype: int64\n"
          ]
        }
      ]
    },
    {
      "cell_type": "code",
      "source": [
        "import pandas as pd\n",
        "from sklearn.model_selection import train_test_split\n",
        "from sklearn.feature_extraction.text import CountVectorizer\n",
        "from sklearn.naive_bayes import MultinomialNB\n",
        "\n",
        "# Read the .tsv file into a DataFrame\n",
        "df = pd.read_csv('/content/sample_data/amazon_alexa.tsv', sep='\\t')\n",
        "\n",
        "# Split the dataset into features (sentences) and labels (tags)\n",
        "sentences = df['word'].values\n",
        "tags = df['tag'].values\n",
        "\n",
        "# Generate word vectors using Bag of Words approach\n",
        "vectorizer = CountVectorizer()\n",
        "X = vectorizer.fit_transform(sentences)\n",
        "\n",
        "# Split the data into training and testing sets\n",
        "X_train, X_test, y_train, y_test = train_test_split(X, tags, test_size=0.2, random_state=42)\n",
        "\n",
        "# Train a classification model (e.g., Naive Bayes)\n",
        "model = MultinomialNB()\n",
        "model.fit(X_train, y_train)\n",
        "\n",
        "# Evaluate the model\n",
        "accuracy = model.score(X_test, y_test)\n",
        "print(\"Accuracy:\", accuracy)\n",
        "\n",
        "# Predict tags for new sentences\n",
        "new_sentences = [\"This is a new sentence.\", \"Another example sentence.\"]\n",
        "X_new = vectorizer.transform(new_sentences)\n",
        "predictions = model.predict(X_new)\n",
        "\n",
        "# Print the predicted tags for the new sentences\n",
        "for sentence, prediction in zip(new_sentences, predictions):\n",
        "    print(f\"Sentence: {sentence}\")\n",
        "    print(f\"Predicted Tag: {prediction}\")\n",
        "    print()\n"
      ],
      "metadata": {
        "colab": {
          "base_uri": "https://localhost:8080/"
        },
        "id": "Aj1ks1ohzpNK",
        "outputId": "97d18826-0e36-4a52-fb86-3fd6a40c6f99"
      },
      "execution_count": null,
      "outputs": [
        {
          "output_type": "stream",
          "name": "stdout",
          "text": [
            "Accuracy: 0.11\n",
            "Sentence: This is a new sentence.\n",
            "Predicted Tag: tag3\n",
            "\n",
            "Sentence: Another example sentence.\n",
            "Predicted Tag: tag3\n",
            "\n"
          ]
        }
      ]
    },
    {
      "cell_type": "code",
      "source": [
        "import pandas as pd\n",
        "from sklearn.model_selection import train_test_split\n",
        "from sklearn.feature_extraction.text import CountVectorizer\n",
        "from sklearn.ensemble import RandomForestClassifier\n",
        "\n",
        "\n",
        "# Read the .tsv file into a DataFrame\n",
        "df = pd.read_csv('/content/sample_data/amazon_alexa.tsv', sep='\\t')\n",
        "\n",
        "# Split the dataset into features (sentences) and labels (tags)\n",
        "sentences = df['word'].values\n",
        "tags = df['tag'].values\n",
        "\n",
        "# Generate word vectors using Bag of Words approach\n",
        "vectorizer = CountVectorizer()\n",
        "X = vectorizer.fit_transform(sentences)\n",
        "\n",
        "# Split the data into training and testing sets\n",
        "X_train, X_test, y_train, y_test = train_test_split(X, tags, test_size=0.2, random_state=42)\n",
        "\n",
        "# Train a Random Forest classifier\n",
        "model = RandomForestClassifier()\n",
        "model.fit(X_train, y_train)\n",
        "\n",
        "# Evaluate the model\n",
        "accuracy = model.score(X_test, y_test)\n",
        "print(\"Accuracy:\", accuracy)\n",
        "\n",
        "# Predict tags for new sentences\n",
        "new_sentences = [\"This is a new sentence.\", \"Another example sentence.\"]\n",
        "X_new = vectorizer.transform(new_sentences)\n",
        "predictions = model.predict(X_new)\n",
        "\n",
        "# Print the predicted tags for the new sentences\n",
        "for sentence, prediction in zip(new_sentences, predictions):\n",
        "    print(f\"Sentence: {sentence}\")\n",
        "    print(f\"Predicted Tag: {prediction}\")\n",
        "    print()\n"
      ],
      "metadata": {
        "colab": {
          "base_uri": "https://localhost:8080/"
        },
        "id": "EebiK4zs0gSK",
        "outputId": "276070c4-a355-407a-b8df-734be5d36a99"
      },
      "execution_count": null,
      "outputs": [
        {
          "output_type": "stream",
          "name": "stdout",
          "text": [
            "Accuracy: 0.11\n",
            "Sentence: This is a new sentence.\n",
            "Predicted Tag: tag3\n",
            "\n",
            "Sentence: Another example sentence.\n",
            "Predicted Tag: tag3\n",
            "\n"
          ]
        }
      ]
    },
    {
      "cell_type": "code",
      "source": [
        "import pandas as pd\n",
        "from sklearn.model_selection import train_test_split\n",
        "from sklearn.feature_extraction.text import CountVectorizer\n",
        "from sklearn.linear_model import LinearRegression\n",
        "\n",
        "# Read the .tsv file into a DataFrame\n",
        "df = pd.read_csv('/content/sample_data/amazon_alexa.tsv', sep='\\t')\n",
        "\n",
        "# Split the dataset into features (sentences) and labels (tags)\n",
        "sentences = df['word'].values\n",
        "tags = df['tag'].values\n",
        "\n",
        "# Generate word vectors using Bag of Words approach\n",
        "vectorizer = CountVectorizer()\n",
        "X = vectorizer.fit_transform(sentences)\n",
        "\n",
        "from sklearn.preprocessing import LabelEncoder\n",
        "\n",
        "# Create a LabelEncoder object\n",
        "label_encoder = LabelEncoder()\n",
        "\n",
        "# Encode the tags into numeric labels\n",
        "y = label_encoder.fit_transform(tags)\n",
        "\n",
        "# Split the data into training and testing sets\n",
        "X_train, X_test, y_train, y_test = train_test_split(X, y, test_size=0.2, random_state=42)\n",
        "\n",
        "# Train a Linear Regression model\n",
        "model = LinearRegression()\n",
        "model.fit(X_train, y_train)\n",
        "\n",
        "# Evaluate the model\n",
        "accuracy = model.score(X_test, y_test)\n",
        "print(\"Accuracy:\", accuracy)\n",
        "\n",
        "# Predict tags for new sentences\n",
        "new_sentences = [\"This is a new sentence.\", \"Another example sentence.\"]\n",
        "X_new = vectorizer.transform(new_sentences)\n",
        "predictions = model.predict(X_new)\n",
        "\n",
        "# Print the predicted tags for the new sentences\n",
        "for sentence, prediction in zip(new_sentences, predictions):\n",
        "    print(f\"Sentence: {sentence}\")\n",
        "    print(f\"Predicted Tag: {prediction}\")\n",
        "    print()\n"
      ],
      "metadata": {
        "colab": {
          "base_uri": "https://localhost:8080/"
        },
        "id": "MuU8Um_j1ssi",
        "outputId": "ba2f7722-a136-4a2c-c392-73af413cf036"
      },
      "execution_count": null,
      "outputs": [
        {
          "output_type": "stream",
          "name": "stdout",
          "text": [
            "Accuracy: -0.03322058753961832\n",
            "Sentence: This is a new sentence.\n",
            "Predicted Tag: 1.925\n",
            "\n",
            "Sentence: Another example sentence.\n",
            "Predicted Tag: 1.925\n",
            "\n"
          ]
        }
      ]
    },
    {
      "cell_type": "code",
      "source": [
        "from sklearn.model_selection import train_test_split\n",
        "\n",
        "# Split the data into training and testing sets\n",
        "X_train, X_test, y_train, y_test = train_test_split(X, y, test_size=0.3)\n",
        "\n",
        "# Print the dimensions of the train and test sets\n",
        "print(f'X_train dimension: {X_train.shape}')\n",
        "print(f'y_train dimension: {y_train.shape}')\n",
        "print(f'X_test dimension: {X_test.shape}')\n",
        "print(f'y_test dimension: {y_test.shape}')\n"
      ],
      "metadata": {
        "colab": {
          "base_uri": "https://localhost:8080/"
        },
        "id": "dG3lmusPwyjq",
        "outputId": "bfccb4f2-1089-43bb-9e6e-7f6c4e910cdb"
      },
      "execution_count": null,
      "outputs": [
        {
          "output_type": "stream",
          "name": "stdout",
          "text": [
            "X_train dimension: (350, 500)\n",
            "y_train dimension: (350,)\n",
            "X_test dimension: (150, 500)\n",
            "y_test dimension: (150,)\n"
          ]
        }
      ]
    },
    {
      "cell_type": "code",
      "source": [
        "# Logistic Regression Classifier\n",
        "from sklearn.linear_model import LogisticRegression\n",
        "classifier = LogisticRegression()\n",
        "\n",
        "classifier.fit(X_train,y_train)\n",
        "predicted = classifier.predict(X_test)"
      ],
      "metadata": {
        "id": "PNa4HIG1w4_9"
      },
      "execution_count": null,
      "outputs": []
    },
    {
      "cell_type": "code",
      "source": [
        "countvectorizer = CountVectorizer(analyzer='word', stop_words='english', lowercase=True)\n",
        "tfidfvectorizer = TfidfVectorizer(analyzer='word', stop_words='english', lowercase=True)\n"
      ],
      "metadata": {
        "id": "TgvtMkvD11A9"
      },
      "execution_count": null,
      "outputs": []
    },
    {
      "cell_type": "code",
      "source": [
        "from sklearn import metrics\n",
        "\n",
        "print(\"Logistic Regression Accuracy:\", metrics.accuracy_score(y_test, predicted))\n",
        "print(\"Logistic Regression Precision:\", metrics.precision_score(y_test, predicted, average='weighted'))\n",
        "print(\"Logistic Regression Recall:\", metrics.recall_score(y_test, predicted, average='weighted'))\n"
      ],
      "metadata": {
        "colab": {
          "base_uri": "https://localhost:8080/"
        },
        "id": "T6gQWeBcxf63",
        "outputId": "40beea4b-480d-4b83-95a2-e0535203655e"
      },
      "execution_count": null,
      "outputs": [
        {
          "output_type": "stream",
          "name": "stdout",
          "text": [
            "Logistic Regression Accuracy: 0.17333333333333334\n",
            "Logistic Regression Precision: 0.030044444444444447\n",
            "Logistic Regression Recall: 0.17333333333333334\n"
          ]
        },
        {
          "output_type": "stream",
          "name": "stderr",
          "text": [
            "/usr/local/lib/python3.10/dist-packages/sklearn/metrics/_classification.py:1344: UndefinedMetricWarning: Precision is ill-defined and being set to 0.0 in labels with no predicted samples. Use `zero_division` parameter to control this behavior.\n",
            "  _warn_prf(average, modifier, msg_start, len(result))\n"
          ]
        }
      ]
    },
    {
      "cell_type": "code",
      "source": [
        "from sklearn.linear_model import LogisticRegression\n",
        "\n",
        "# Train a Logistic Regression model\n",
        "model = LogisticRegression()\n",
        "model.fit(X_train, y_train)\n",
        "\n",
        "# Evaluate the model\n",
        "accuracy = model.score(X_test, y_test)\n",
        "print(\"Accuracy:\", accuracy)\n",
        "\n",
        "# Predict tags for new sentences\n",
        "new_sentences = [\"This is a new sentence.\", \"Another example sentence.\"]\n",
        "X_new = vectorizer.transform(new_sentences)\n",
        "predictions = model.predict(X_new)\n",
        "\n",
        "# Print the predicted tags for the new sentences\n",
        "for sentence, prediction in zip(new_sentences, predictions):\n",
        "    print(f\"Sentence: {sentence}\")\n",
        "    print(f\"Predicted Tag: {prediction}\")\n",
        "    print()\n"
      ],
      "metadata": {
        "colab": {
          "base_uri": "https://localhost:8080/"
        },
        "id": "NS61_PYf3V3T",
        "outputId": "50f7ea60-9674-451d-8a18-ebd8dac6adad"
      },
      "execution_count": null,
      "outputs": [
        {
          "output_type": "stream",
          "name": "stdout",
          "text": [
            "Accuracy: 0.11\n",
            "Sentence: This is a new sentence.\n",
            "Predicted Tag: 2\n",
            "\n",
            "Sentence: Another example sentence.\n",
            "Predicted Tag: 2\n",
            "\n"
          ]
        }
      ]
    },
    {
      "cell_type": "code",
      "source": [
        "data = '''Love my echo. Love playing music in my room\n",
        "This was an impulse buy but turns out I really enjoy my new dot. My grands love requesting songs and playing games. I like listening to my audible selection, keeping up with my to do lists and discovering new Alexa skills. Fun and practical, my echo dot has been a surprisingly welcome addition to my home.\n",
        "Very helpful for playing music, setting alarms, and talking to you when you are lonely.\n",
        "I love searching the Alexa skill shop on the app. Useful things like having Alexa turn my lights on and off, listening to news updates every morning. And fun stuff like telling Alexa to make the Star Trek red alert noise. Or playing song quiz with friends.\n",
        "It isn’t bad for what it is. Have issues with it actually playing what I want. Getting it use iHeartRadio properly by playing the station I want is a challenge but it’s not bad for the sale price I paid.\n",
        "Works great.Having fun playing music,checking weather,a king questions.\n",
        "I had put this off for awhile but finally got around to buying 3 of them for my home. My wife is legally blind and cannot use the computer. This has been a Godsend, 100%. We have the Amazon music for her and now she can listen to music, check the weather, get phone numbers, make calls, etc., etc.. We are still learning but I tell you, this is absolutely amazing. I purchased 4 more for my extended family and the grandchildren absolutely love playing their music on Alexa. With the wifi and direct cable capability, the speaker/stereo options are there for the choosing. This is well worth the money. You won't regret this at all!\n",
        "'''\n",
        "\n",
        "words = data.replace('’', \"'\").split('.\\n')\n",
        "words = [word.strip() for word in words if word.strip()]\n",
        "\n",
        "with open('tag1_english_words.tsv', 'w') as file:\n",
        "    file.write('\\n'.join(words))\n"
      ],
      "metadata": {
        "id": "8Afmmi2lqFH-"
      },
      "execution_count": null,
      "outputs": []
    },
    {
      "cell_type": "code",
      "source": [
        "import pandas as pd\n",
        "\n",
        "# Read the Amazon Alexa TSV file\n",
        "amazon_df = pd.read_csv('/content/sample_data/amazon_alexa.tsv', sep='\\t')\n",
        "\n",
        "# Read the tag1_english_words.tsv file\n",
        "tag1_words_df = pd.read_csv('/content/tag1_english_words.tsv', sep='\\t')\n",
        "\n",
        "# Print the Amazon Alexa dataframe\n",
        "print(\"Amazon Alexa dataframe:\")\n",
        "print(amazon_df)\n",
        "\n",
        "# Print the tag1_english_words dataframe\n",
        "print(\"tag1_english_words dataframe:\")\n",
        "print(tag1_words_df)\n"
      ],
      "metadata": {
        "colab": {
          "base_uri": "https://localhost:8080/"
        },
        "id": "se1GTHYKu6jN",
        "outputId": "b2ca925b-e8e9-480d-875d-b21f4886a613"
      },
      "execution_count": null,
      "outputs": [
        {
          "output_type": "stream",
          "name": "stdout",
          "text": [
            "Amazon Alexa dataframe:\n",
            "      rating       date         variation  \\\n",
            "0          5  31-Jul-18  Charcoal Fabric    \n",
            "1          5  31-Jul-18  Charcoal Fabric    \n",
            "2          4  31-Jul-18    Walnut Finish    \n",
            "3          5  31-Jul-18  Charcoal Fabric    \n",
            "4          5  31-Jul-18  Charcoal Fabric    \n",
            "...      ...        ...               ...   \n",
            "3145       5  30-Jul-18        Black  Dot   \n",
            "3146       5  30-Jul-18        Black  Dot   \n",
            "3147       5  30-Jul-18        Black  Dot   \n",
            "3148       5  30-Jul-18        White  Dot   \n",
            "3149       4  29-Jul-18        Black  Dot   \n",
            "\n",
            "                                       verified_reviews  feedback  \n",
            "0                                         Love my Echo!         1  \n",
            "1                                             Loved it!         1  \n",
            "2     Sometimes while playing a game, you can answer...         1  \n",
            "3     I have had a lot of fun with this thing. My 4 ...         1  \n",
            "4                                                 Music         1  \n",
            "...                                                 ...       ...  \n",
            "3145  Perfect for kids, adults and everyone in betwe...         1  \n",
            "3146  Listening to music, searching locations, check...         1  \n",
            "3147  I do love these things, i have them running my...         1  \n",
            "3148  Only complaint I have is that the sound qualit...         1  \n",
            "3149                                               Good         1  \n",
            "\n",
            "[3150 rows x 5 columns]\n",
            "tag1_english_words dataframe:\n",
            "         Love my echo. Love playing music in my room\n",
            "0  This was an impulse buy but turns out I really...\n",
            "1  Very helpful for playing music, setting alarms...\n",
            "2  I love searching the Alexa skill shop on the a...\n",
            "3  It isn't bad for what it is. Have issues with ...\n",
            "4  Works great.Having fun playing music,checking ...\n",
            "5  I had put this off for awhile but finally got ...\n"
          ]
        }
      ]
    },
    {
      "cell_type": "code",
      "source": [
        "import pandas as pd\n",
        "\n",
        "# Read the tag1_english_words.tsv file\n",
        "df = pd.read_csv('/content/tag1_english_words.tsv', sep='\\t', names=['Word'])\n",
        "\n",
        "# Count the occurrences of each word\n",
        "word_counts = df['Word'].value_counts()\n",
        "\n",
        "# Display the words and their counts in descending order\n",
        "for word, count in word_counts.items():\n",
        "    print(f\"Word: {word} - Count: {count}\")\n"
      ],
      "metadata": {
        "colab": {
          "base_uri": "https://localhost:8080/"
        },
        "id": "GsX-zwU8g5iM",
        "outputId": "7703e967-ea4d-42e0-d830-5e4b7053b43e"
      },
      "execution_count": null,
      "outputs": [
        {
          "output_type": "stream",
          "name": "stdout",
          "text": [
            "Word: Love my echo. Love playing music in my room - Count: 1\n",
            "Word: This was an impulse buy but turns out I really enjoy my new dot. My grands love requesting songs and playing games. I like listening to my audible selection, keeping up with my to do lists and discovering new Alexa skills. Fun and practical, my echo dot has been a surprisingly welcome addition to my home - Count: 1\n",
            "Word: Very helpful for playing music, setting alarms, and talking to you when you are lonely - Count: 1\n",
            "Word: I love searching the Alexa skill shop on the app. Useful things like having Alexa turn my lights on and off, listening to news updates every morning. And fun stuff like telling Alexa to make the Star Trek red alert noise. Or playing song quiz with friends - Count: 1\n",
            "Word: It isn't bad for what it is. Have issues with it actually playing what I want. Getting it use iHeartRadio properly by playing the station I want is a challenge but it's not bad for the sale price I paid - Count: 1\n",
            "Word: Works great.Having fun playing music,checking weather,a king questions - Count: 1\n",
            "Word: I had put this off for awhile but finally got around to buying 3 of them for my home. My wife is legally blind and cannot use the computer. This has been a Godsend, 100%. We have the Amazon music for her and now she can listen to music, check the weather, get phone numbers, make calls, etc., etc.. We are still learning but I tell you, this is absolutely amazing. I purchased 4 more for my extended family and the grandchildren absolutely love playing their music on Alexa. With the wifi and direct cable capability, the speaker/stereo options are there for the choosing. This is well worth the money. You won't regret this at all! - Count: 1\n"
          ]
        }
      ]
    },
    {
      "cell_type": "code",
      "source": [
        "import pandas as pd\n",
        "\n",
        "# Read the tag1_english_words.tsv file\n",
        "df = pd.read_csv('/content/tag1_english_words.tsv', sep='\\t', names=['Sentence'])\n",
        "\n",
        "# Count the occurrences of each word\n",
        "word_counts = {}\n",
        "\n",
        "# Process each sentence\n",
        "for sentence in df['Sentence']:\n",
        "    words = sentence.split()\n",
        "    for word in words:\n",
        "        if word not in word_counts:\n",
        "            word_counts[word] = 1\n",
        "        else:\n",
        "            word_counts[word] += 1\n",
        "\n",
        "# Display the words and their counts in descending order\n",
        "sorted_word_counts = sorted(word_counts.items(), key=lambda x: x[1], reverse=True)\n",
        "for word, count in sorted_word_counts:\n",
        "    print(f\"Word: {word} - Count: {count}\")\n"
      ],
      "metadata": {
        "colab": {
          "base_uri": "https://localhost:8080/"
        },
        "id": "ZcwNaYAei5sL",
        "outputId": "2bd65d40-94d1-4c27-f59b-06c76fb4f773"
      },
      "execution_count": null,
      "outputs": [
        {
          "output_type": "stream",
          "name": "stdout",
          "text": [
            "Word: the - Count: 13\n",
            "Word: my - Count: 10\n",
            "Word: I - Count: 9\n",
            "Word: and - Count: 9\n",
            "Word: playing - Count: 8\n",
            "Word: to - Count: 8\n",
            "Word: for - Count: 8\n",
            "Word: but - Count: 4\n",
            "Word: Alexa - Count: 4\n",
            "Word: is - Count: 4\n",
            "Word: music - Count: 3\n",
            "Word: This - Count: 3\n",
            "Word: love - Count: 3\n",
            "Word: like - Count: 3\n",
            "Word: with - Count: 3\n",
            "Word: a - Count: 3\n",
            "Word: are - Count: 3\n",
            "Word: on - Count: 3\n",
            "Word: it - Count: 3\n",
            "Word: this - Count: 3\n",
            "Word: Love - Count: 2\n",
            "Word: new - Count: 2\n",
            "Word: My - Count: 2\n",
            "Word: listening - Count: 2\n",
            "Word: has - Count: 2\n",
            "Word: been - Count: 2\n",
            "Word: music, - Count: 2\n",
            "Word: you - Count: 2\n",
            "Word: fun - Count: 2\n",
            "Word: make - Count: 2\n",
            "Word: bad - Count: 2\n",
            "Word: what - Count: 2\n",
            "Word: use - Count: 2\n",
            "Word: We - Count: 2\n",
            "Word: absolutely - Count: 2\n",
            "Word: echo. - Count: 1\n",
            "Word: in - Count: 1\n",
            "Word: room - Count: 1\n",
            "Word: was - Count: 1\n",
            "Word: an - Count: 1\n",
            "Word: impulse - Count: 1\n",
            "Word: buy - Count: 1\n",
            "Word: turns - Count: 1\n",
            "Word: out - Count: 1\n",
            "Word: really - Count: 1\n",
            "Word: enjoy - Count: 1\n",
            "Word: dot. - Count: 1\n",
            "Word: grands - Count: 1\n",
            "Word: requesting - Count: 1\n",
            "Word: songs - Count: 1\n",
            "Word: games. - Count: 1\n",
            "Word: audible - Count: 1\n",
            "Word: selection, - Count: 1\n",
            "Word: keeping - Count: 1\n",
            "Word: up - Count: 1\n",
            "Word: do - Count: 1\n",
            "Word: lists - Count: 1\n",
            "Word: discovering - Count: 1\n",
            "Word: skills. - Count: 1\n",
            "Word: Fun - Count: 1\n",
            "Word: practical, - Count: 1\n",
            "Word: echo - Count: 1\n",
            "Word: dot - Count: 1\n",
            "Word: surprisingly - Count: 1\n",
            "Word: welcome - Count: 1\n",
            "Word: addition - Count: 1\n",
            "Word: home - Count: 1\n",
            "Word: Very - Count: 1\n",
            "Word: helpful - Count: 1\n",
            "Word: setting - Count: 1\n",
            "Word: alarms, - Count: 1\n",
            "Word: talking - Count: 1\n",
            "Word: when - Count: 1\n",
            "Word: lonely - Count: 1\n",
            "Word: searching - Count: 1\n",
            "Word: skill - Count: 1\n",
            "Word: shop - Count: 1\n",
            "Word: app. - Count: 1\n",
            "Word: Useful - Count: 1\n",
            "Word: things - Count: 1\n",
            "Word: having - Count: 1\n",
            "Word: turn - Count: 1\n",
            "Word: lights - Count: 1\n",
            "Word: off, - Count: 1\n",
            "Word: news - Count: 1\n",
            "Word: updates - Count: 1\n",
            "Word: every - Count: 1\n",
            "Word: morning. - Count: 1\n",
            "Word: And - Count: 1\n",
            "Word: stuff - Count: 1\n",
            "Word: telling - Count: 1\n",
            "Word: Star - Count: 1\n",
            "Word: Trek - Count: 1\n",
            "Word: red - Count: 1\n",
            "Word: alert - Count: 1\n",
            "Word: noise. - Count: 1\n",
            "Word: Or - Count: 1\n",
            "Word: song - Count: 1\n",
            "Word: quiz - Count: 1\n",
            "Word: friends - Count: 1\n",
            "Word: It - Count: 1\n",
            "Word: isn't - Count: 1\n",
            "Word: is. - Count: 1\n",
            "Word: Have - Count: 1\n",
            "Word: issues - Count: 1\n",
            "Word: actually - Count: 1\n",
            "Word: want. - Count: 1\n",
            "Word: Getting - Count: 1\n",
            "Word: iHeartRadio - Count: 1\n",
            "Word: properly - Count: 1\n",
            "Word: by - Count: 1\n",
            "Word: station - Count: 1\n",
            "Word: want - Count: 1\n",
            "Word: challenge - Count: 1\n",
            "Word: it's - Count: 1\n",
            "Word: not - Count: 1\n",
            "Word: sale - Count: 1\n",
            "Word: price - Count: 1\n",
            "Word: paid - Count: 1\n",
            "Word: Works - Count: 1\n",
            "Word: great.Having - Count: 1\n",
            "Word: music,checking - Count: 1\n",
            "Word: weather,a - Count: 1\n",
            "Word: king - Count: 1\n",
            "Word: questions - Count: 1\n",
            "Word: had - Count: 1\n",
            "Word: put - Count: 1\n",
            "Word: off - Count: 1\n",
            "Word: awhile - Count: 1\n",
            "Word: finally - Count: 1\n",
            "Word: got - Count: 1\n",
            "Word: around - Count: 1\n",
            "Word: buying - Count: 1\n",
            "Word: 3 - Count: 1\n",
            "Word: of - Count: 1\n",
            "Word: them - Count: 1\n",
            "Word: home. - Count: 1\n",
            "Word: wife - Count: 1\n",
            "Word: legally - Count: 1\n",
            "Word: blind - Count: 1\n",
            "Word: cannot - Count: 1\n",
            "Word: computer. - Count: 1\n",
            "Word: Godsend, - Count: 1\n",
            "Word: 100%. - Count: 1\n",
            "Word: have - Count: 1\n",
            "Word: Amazon - Count: 1\n",
            "Word: her - Count: 1\n",
            "Word: now - Count: 1\n",
            "Word: she - Count: 1\n",
            "Word: can - Count: 1\n",
            "Word: listen - Count: 1\n",
            "Word: check - Count: 1\n",
            "Word: weather, - Count: 1\n",
            "Word: get - Count: 1\n",
            "Word: phone - Count: 1\n",
            "Word: numbers, - Count: 1\n",
            "Word: calls, - Count: 1\n",
            "Word: etc., - Count: 1\n",
            "Word: etc.. - Count: 1\n",
            "Word: still - Count: 1\n",
            "Word: learning - Count: 1\n",
            "Word: tell - Count: 1\n",
            "Word: you, - Count: 1\n",
            "Word: amazing. - Count: 1\n",
            "Word: purchased - Count: 1\n",
            "Word: 4 - Count: 1\n",
            "Word: more - Count: 1\n",
            "Word: extended - Count: 1\n",
            "Word: family - Count: 1\n",
            "Word: grandchildren - Count: 1\n",
            "Word: their - Count: 1\n",
            "Word: Alexa. - Count: 1\n",
            "Word: With - Count: 1\n",
            "Word: wifi - Count: 1\n",
            "Word: direct - Count: 1\n",
            "Word: cable - Count: 1\n",
            "Word: capability, - Count: 1\n",
            "Word: speaker/stereo - Count: 1\n",
            "Word: options - Count: 1\n",
            "Word: there - Count: 1\n",
            "Word: choosing. - Count: 1\n",
            "Word: well - Count: 1\n",
            "Word: worth - Count: 1\n",
            "Word: money. - Count: 1\n",
            "Word: You - Count: 1\n",
            "Word: won't - Count: 1\n",
            "Word: regret - Count: 1\n",
            "Word: at - Count: 1\n",
            "Word: all! - Count: 1\n"
          ]
        }
      ]
    },
    {
      "cell_type": "code",
      "source": [
        "import pandas as pd\n",
        "import re\n",
        "\n",
        "# Read the tag1_english_words.tsv file\n",
        "df = pd.read_csv('/content/tag1_english_words.tsv', sep='\\t', names=['Sentence'])\n",
        "\n",
        "# Count the occurrences of each word\n",
        "word_counts = {}\n",
        "\n",
        "# Process each sentence\n",
        "for sentence in df['Sentence']:\n",
        "    words = re.findall(r'\\b\\w+\\b', sentence)\n",
        "    for word in words:\n",
        "        if word not in word_counts:\n",
        "            word_counts[word] = 1\n",
        "        else:\n",
        "            word_counts[word] += 1\n",
        "\n",
        "# Group the counts by word\n",
        "grouped_word_counts = {}\n",
        "for word, count in word_counts.items():\n",
        "    if count not in grouped_word_counts:\n",
        "        grouped_word_counts[count] = [word]\n",
        "    else:\n",
        "        grouped_word_counts[count].append(word)\n",
        "\n",
        "# Display the grouped word counts in descending order\n",
        "sorted_counts = sorted(grouped_word_counts.keys(), reverse=True)\n",
        "for count in sorted_counts:\n",
        "    words = grouped_word_counts[count]\n",
        "    print(f\"Count: {count} - Words: {', '.join(words)}\")\n"
      ],
      "metadata": {
        "colab": {
          "base_uri": "https://localhost:8080/"
        },
        "id": "CpG98zaCjdlb",
        "outputId": "a734b9d1-9254-4cd5-c9dc-411a402352da"
      },
      "execution_count": null,
      "outputs": [
        {
          "output_type": "stream",
          "name": "stdout",
          "text": [
            "Count: 13 - Words: the\n",
            "Count: 10 - Words: my\n",
            "Count: 9 - Words: I, and\n",
            "Count: 8 - Words: playing, to, for\n",
            "Count: 6 - Words: music\n",
            "Count: 5 - Words: Alexa, is\n",
            "Count: 4 - Words: but, a, it\n",
            "Count: 3 - Words: This, love, like, with, you, are, on, this\n",
            "Count: 2 - Words: Love, echo, new, dot, My, listening, has, been, home, off, fun, make, t, bad, what, want, use, weather, We, etc, absolutely\n",
            "Count: 1 - Words: in, room, was, an, impulse, buy, turns, out, really, enjoy, grands, requesting, songs, games, audible, selection, keeping, up, do, lists, discovering, skills, Fun, practical, surprisingly, welcome, addition, Very, helpful, setting, alarms, talking, when, lonely, searching, skill, shop, app, Useful, things, having, turn, lights, news, updates, every, morning, And, stuff, telling, Star, Trek, red, alert, noise, Or, song, quiz, friends, It, isn, Have, issues, actually, Getting, iHeartRadio, properly, by, station, challenge, s, not, sale, price, paid, Works, great, Having, checking, king, questions, had, put, awhile, finally, got, around, buying, 3, of, them, wife, legally, blind, cannot, computer, Godsend, 100, have, Amazon, her, now, she, can, listen, check, get, phone, numbers, calls, still, learning, tell, amazing, purchased, 4, more, extended, family, grandchildren, their, With, wifi, direct, cable, capability, speaker, stereo, options, there, choosing, well, worth, money, You, won, regret, at, all\n"
          ]
        }
      ]
    },
    {
      "cell_type": "code",
      "source": [
        "import pandas as pd\n",
        "\n",
        "# Read the Amazon Alexa TSV file\n",
        "amazon_df = pd.read_csv('/content/sample_data/amazon_alexa.tsv', sep='\\t')\n",
        "\n",
        "# Read the tag1_english_words.tsv file and tokenize the sentences\n",
        "tag1_words_df = pd.read_csv('/content/tag1_english_words.tsv', sep='\\t', names=['English Word'])\n",
        "tag1_words_df['English Word'] = tag1_words_df['English Word'].str.lower().str.split()\n",
        "\n",
        "# Count the occurrences of words in the Amazon Alexa dataset\n",
        "word_count = {}\n",
        "for sentence in amazon_df['verified_reviews']:\n",
        "    words = sentence.lower().split()\n",
        "    for word in words:\n",
        "        if word not in word_count:\n",
        "            word_count[word] = 1\n",
        "        else:\n",
        "            word_count[word] += 1\n",
        "\n",
        "# Match the words with the positive sentiment phrases\n",
        "matched_words = []\n",
        "for _, row in tag1_words_df.iterrows():\n",
        "    phrase = row['English Word']\n",
        "    count = sum(word_count.get(word, 0) for word in phrase)\n",
        "    matched_words.append({'English Word': ' '.join(phrase), 'Count': count})\n",
        "\n",
        "# Create a dataframe from the matched words\n",
        "matched_words_df = pd.DataFrame(matched_words)\n",
        "\n",
        "# Sort the dataframe by count in descending order\n",
        "matched_words_df = matched_words_df.sort_values('Count', ascending=False)\n",
        "\n",
        "# Print the matched words and their counts\n",
        "print(matched_words_df)\n"
      ],
      "metadata": {
        "colab": {
          "base_uri": "https://localhost:8080/"
        },
        "id": "yqsE6Zm1oPg9",
        "outputId": "87f1f34e-1672-4ef6-a036-87fd0d8eced3"
      },
      "execution_count": null,
      "outputs": [
        {
          "output_type": "stream",
          "name": "stdout",
          "text": [
            "                                        English Word  Count\n",
            "6  i had put this off for awhile but finally got ...  79960\n",
            "1  this was an impulse buy but turns out i really...  38669\n",
            "4  it isn't bad for what it is. have issues with ...  32429\n",
            "3  i love searching the alexa skill shop on the a...  30538\n",
            "2  very helpful for playing music, setting alarms...   8178\n",
            "0        love my echo. love playing music in my room   5852\n",
            "5  works great.having fun playing music,checking ...    603\n"
          ]
        }
      ]
    },
    {
      "cell_type": "code",
      "source": [
        "# Display DataFrame attributes\n",
        "print(df_amazon_sample.columns)\n"
      ],
      "metadata": {
        "colab": {
          "base_uri": "https://localhost:8080/"
        },
        "id": "OHQ5Yhx24_PO",
        "outputId": "d09a0093-ef36-400a-d7e5-d643ff443b29"
      },
      "execution_count": null,
      "outputs": [
        {
          "output_type": "stream",
          "name": "stdout",
          "text": [
            "Index(['word', 'tag'], dtype='object')\n"
          ]
        }
      ]
    },
    {
      "cell_type": "code",
      "source": [
        "import string\n",
        "import spacy\n",
        "\n",
        "from spacy.lang.en.stop_words import STOP_WORDS\n",
        "from spacy.lang.en import English\n",
        "\n",
        "# Create our list of punctuation marks\n",
        "punctuations = string.punctuation\n",
        "\n",
        "# Create our list of stopwords\n",
        "nlp = spacy.load('en_core_web_sm')\n",
        "stop_words = spacy.lang.en.stop_words.STOP_WORDS\n",
        "\n",
        "print(stop_words)"
      ],
      "metadata": {
        "colab": {
          "base_uri": "https://localhost:8080/"
        },
        "id": "P-HDOmGtHTZ7",
        "outputId": "192718c3-a1f1-449f-9c2d-ec73108e5150"
      },
      "execution_count": null,
      "outputs": [
        {
          "output_type": "stream",
          "name": "stdout",
          "text": [
            "{'each', 'show', 'everywhere', 'only', 'neither', 'whereby', 'under', 'sixty', 'due', 'up', 'well', 'enough', 'once', 'such', 'hereby', 'become', 'beforehand', 'becoming', 'full', 'might', 'being', 'nothing', 'noone', 'whether', 'indeed', 'hundred', '‘s', 'everyone', 'namely', 'beyond', 'while', \"'ll\", '‘ve', 'amongst', 'be', 'say', 'few', 'mine', 'eleven', 'six', 'wherein', 'side', 'those', 'alone', 'nevertheless', 'on', 'using', '’re', 'used', 'anyone', 'give', 'afterwards', '‘ll', 'unless', 'herself', 'either', 'any', 'whom', 'also', 'forty', 'around', 'her', 'should', 'do', 'very', 'several', 'hence', 'among', 'rather', 'from', 'off', 'moreover', 'whereupon', 'they', 'already', 'sometimes', 'seems', 'when', 'but', 'could', 'which', 'whither', 'his', 'formerly', 'were', 'herein', 'too', 'a', 'towards', \"'m\", '’ve', 'seeming', 'had', 'often', 'except', 'why', '’ll', 'our', 'themselves', 'since', 'get', 'n‘t', 'thence', '’m', 'an', 'whole', 'us', 'into', 'between', 'above', 'me', 'not', 'made', 'first', 'anyhow', 'would', 'to', 'before', 'i', 'there', 'hers', 'thereupon', 'front', 'even', 'others', 'mostly', 'who', 'yourselves', 'eight', 'part', 'it', 'beside', 'are', 'otherwise', 'may', 'various', 'other', 'done', 'she', 'somehow', 'ten', 'n’t', \"'d\", 'itself', 'another', 'after', 'as', 'we', 'anywhere', 'upon', 'ca', 'elsewhere', 'therefore', 'behind', 'besides', 'though', 'really', 'go', 'nowhere', 'himself', 'everything', 'so', 'via', 'ours', 'top', \"'ve\", 'some', 'through', 'least', 'therein', 'for', 'whose', 'both', 'becomes', 'without', 'again', 'anything', 'their', 'quite', 'thus', 'five', 'about', 'name', 'he', 'empty', 'must', \"'s\", 'by', 'does', 'its', 'out', 'here', 'put', 'am', 'no', 'keep', 'two', 'until', 'below', 'latterly', 'toward', 'many', 'that', 'most', 'twenty', 'whoever', 'than', 'former', 'within', 'this', \"n't\", 'your', 'became', 'own', 'take', 'what', 'over', 'is', 'then', 'been', 'somewhere', 'last', 'thereafter', 'at', 'down', 'fifteen', 'has', 'something', 'all', 'call', 'same', 'next', 'amount', 'of', 'nobody', 'three', 'hereafter', 'wherever', 'whereas', 'you', 'along', 'yet', 'whereafter', 'yours', 'these', 'much', 'bottom', 'make', 'please', 'ever', 'or', 'will', 'have', 'my', 'sometime', 'per', 'one', 'them', 'third', 'can', 'throughout', 'see', '’s', 'cannot', 'still', 'with', 'now', 'perhaps', 'against', 'back', 'anyway', 'did', 'how', 'move', \"'re\", 'ourselves', 'regarding', 'because', 'hereupon', 'and', 'never', 'him', 'thereby', 'during', 'whence', 'less', 'where', 'if', '’d', 'myself', 'was', 'doing', 'always', 'seemed', 'every', 'four', 'together', 'nor', 'none', 're', 'thru', 'more', 'seem', 'someone', 'across', 'onto', '‘d', 'just', 'serious', 'although', 'meanwhile', 'else', 'twelve', 'whenever', 'yourself', 'nine', 'latter', 'further', 'in', 'whatever', '‘re', 'almost', 'however', 'fifty', 'the', '‘m'}\n"
          ]
        }
      ]
    },
    {
      "cell_type": "code",
      "source": [
        "# Creating our tokenizer function\n",
        "def spacy_tokenizer(sentence):\n",
        "\n",
        "    \"\"\"This function will accepts a sentence as input and processes the sentence into tokens, performing lemmatization,\n",
        "    lowercasing, removing stop words and punctuations.\"\"\"\n",
        "\n",
        "    # Creating our token object, which is used to create documents with linguistic annotations.\n",
        "    #mytokens = parser(sentence)\n",
        "    mytokens = nlp(sentence)\n",
        "    #print(mytokens)\n",
        "\n",
        "    # Lemmatizing each token and converting each token into lowercase\n",
        "    # Note that spaCy uses '-PRON-' as lemma for all personal pronouns lkike me, I etc\n",
        "    mytokens = [ word.lemma_.lower().strip() if word.lemma_ != \"-PRON-\" else word.lower_ for word in mytokens ]\n",
        "\n",
        "    # Removing stop words\n",
        "    mytokens = [ word for word in mytokens if word not in stop_words and word not in punctuations ]\n",
        "\n",
        "    # return preprocessed list of tokens\n",
        "    return mytokens"
      ],
      "metadata": {
        "id": "--yhdeF_HxWA"
      },
      "execution_count": null,
      "outputs": []
    },
    {
      "cell_type": "code",
      "source": [
        "from sklearn.base import TransformerMixin\n",
        "\n",
        "# Custom transformer using spaCy\n",
        "class predictors(TransformerMixin):\n",
        "    def transform(self, X, **transform_params):\n",
        "        # It checks the parameters in the dataset using X_train and y_train. It then converts them into a\n",
        "        #         structure that the model can understand\n",
        "        # Cleaning Text - Override the transform method to clean text\n",
        "        return [clean_text(text) for text in X]\n",
        "\n",
        "    def fit(self, X, y=None, **fit_params):\n",
        "        # it fits the model into the dataset. This enables the model to learn by understanding patterns in the\n",
        "        #.   dataset\n",
        "        return self\n",
        "\n",
        "    def get_params(self, deep=True):\n",
        "        # This method retrieves all the converted and optimized parameters to produce an optimized model\n",
        "        return {}\n",
        "\n",
        "# Basic function to clean the text\n",
        "def clean_text(text):\n",
        "    # This function cleans our dataset and converts all the texts into lower case\n",
        "    # Removing spaces and converting text into lowercase\n",
        "    return text.strip().lower()"
      ],
      "metadata": {
        "id": "xCtb15qvH4tq"
      },
      "execution_count": null,
      "outputs": []
    },
    {
      "cell_type": "code",
      "source": [
        "bow_vector = CountVectorizer(tokenizer = spacy_tokenizer, ngram_range=(1,1))"
      ],
      "metadata": {
        "id": "pPZlYAwQJKXB"
      },
      "execution_count": null,
      "outputs": []
    },
    {
      "cell_type": "code",
      "source": [
        "from sklearn.feature_extraction.text import CountVectorizer,TfidfVectorizer\n",
        "tfidf_vector = TfidfVectorizer(tokenizer = spacy_tokenizer)"
      ],
      "metadata": {
        "id": "6bH8PX4xIL8N"
      },
      "execution_count": null,
      "outputs": []
    },
    {
      "cell_type": "code",
      "source": [
        "from sklearn.model_selection import train_test_split\n",
        "\n",
        "X = df_amazon['verified_reviews'] # the features we want to analyze\n",
        "ylabels = df_amazon['feedback'] # the labels, or answers, we want to test against\n",
        "\n",
        "X_train, X_test, y_train, y_test = train_test_split(X, ylabels, test_size=0.3)\n",
        "print(f'X_train dimension: {X_train.shape}')\n",
        "print(f'y_train dimension: {y_train.shape}')\n",
        "print(f'X_test dimension: {X_test.shape}')\n",
        "print(f'y_train dimension: {y_test.shape}')"
      ],
      "metadata": {
        "colab": {
          "base_uri": "https://localhost:8080/"
        },
        "id": "beWDF-BWIR6j",
        "outputId": "9eab0732-d2dc-45b2-b244-80f6d0ec05a5"
      },
      "execution_count": null,
      "outputs": [
        {
          "output_type": "stream",
          "name": "stdout",
          "text": [
            "X_train dimension: (2205,)\n",
            "y_train dimension: (2205,)\n",
            "X_test dimension: (945,)\n",
            "y_train dimension: (945,)\n"
          ]
        }
      ]
    },
    {
      "cell_type": "code",
      "source": [],
      "metadata": {
        "id": "UeJNs5IMJgKX"
      },
      "execution_count": null,
      "outputs": []
    }
  ]
}