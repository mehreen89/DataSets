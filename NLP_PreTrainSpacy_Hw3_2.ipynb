{
  "cells": [
    {
      "cell_type": "markdown",
      "metadata": {
        "id": "view-in-github",
        "colab_type": "text"
      },
      "source": [
        "<a href=\"https://colab.research.google.com/github/mehreen89/DataSets/blob/main/NLP_PreTrainSpacy_Hw3_2.ipynb\" target=\"_parent\"><img src=\"https://colab.research.google.com/assets/colab-badge.svg\" alt=\"Open In Colab\"/></a>"
      ]
    },
    {
      "cell_type": "markdown",
      "id": "8de6bf75",
      "metadata": {
        "id": "8de6bf75"
      },
      "source": [
        "### Pretrained ( spacy ) and Custom trained ( gensim ) Word Embeddings"
      ]
    },
    {
      "cell_type": "markdown",
      "id": "8c6840ed",
      "metadata": {
        "id": "8c6840ed"
      },
      "source": [
        "### Pre-trained models in Spacy"
      ]
    },
    {
      "cell_type": "code",
      "execution_count": null,
      "id": "06a2d582",
      "metadata": {
        "id": "06a2d582",
        "outputId": "e2ad6b5d-ceda-461e-ef51-52d491d9c1d7",
        "colab": {
          "base_uri": "https://localhost:8080/"
        }
      },
      "outputs": [
        {
          "output_type": "stream",
          "name": "stdout",
          "text": [
            "Looking in indexes: https://pypi.org/simple, https://us-python.pkg.dev/colab-wheels/public/simple/\n",
            "Requirement already satisfied: spacy in /usr/local/lib/python3.10/dist-packages (3.5.2)\n",
            "Requirement already satisfied: spacy-legacy<3.1.0,>=3.0.11 in /usr/local/lib/python3.10/dist-packages (from spacy) (3.0.12)\n",
            "Requirement already satisfied: spacy-loggers<2.0.0,>=1.0.0 in /usr/local/lib/python3.10/dist-packages (from spacy) (1.0.4)\n",
            "Requirement already satisfied: murmurhash<1.1.0,>=0.28.0 in /usr/local/lib/python3.10/dist-packages (from spacy) (1.0.9)\n",
            "Requirement already satisfied: cymem<2.1.0,>=2.0.2 in /usr/local/lib/python3.10/dist-packages (from spacy) (2.0.7)\n",
            "Requirement already satisfied: preshed<3.1.0,>=3.0.2 in /usr/local/lib/python3.10/dist-packages (from spacy) (3.0.8)\n",
            "Requirement already satisfied: thinc<8.2.0,>=8.1.8 in /usr/local/lib/python3.10/dist-packages (from spacy) (8.1.9)\n",
            "Requirement already satisfied: wasabi<1.2.0,>=0.9.1 in /usr/local/lib/python3.10/dist-packages (from spacy) (1.1.1)\n",
            "Requirement already satisfied: srsly<3.0.0,>=2.4.3 in /usr/local/lib/python3.10/dist-packages (from spacy) (2.4.6)\n",
            "Requirement already satisfied: catalogue<2.1.0,>=2.0.6 in /usr/local/lib/python3.10/dist-packages (from spacy) (2.0.8)\n",
            "Requirement already satisfied: typer<0.8.0,>=0.3.0 in /usr/local/lib/python3.10/dist-packages (from spacy) (0.7.0)\n",
            "Requirement already satisfied: pathy>=0.10.0 in /usr/local/lib/python3.10/dist-packages (from spacy) (0.10.1)\n",
            "Requirement already satisfied: smart-open<7.0.0,>=5.2.1 in /usr/local/lib/python3.10/dist-packages (from spacy) (6.3.0)\n",
            "Requirement already satisfied: tqdm<5.0.0,>=4.38.0 in /usr/local/lib/python3.10/dist-packages (from spacy) (4.65.0)\n",
            "Requirement already satisfied: numpy>=1.15.0 in /usr/local/lib/python3.10/dist-packages (from spacy) (1.22.4)\n",
            "Requirement already satisfied: requests<3.0.0,>=2.13.0 in /usr/local/lib/python3.10/dist-packages (from spacy) (2.27.1)\n",
            "Requirement already satisfied: pydantic!=1.8,!=1.8.1,<1.11.0,>=1.7.4 in /usr/local/lib/python3.10/dist-packages (from spacy) (1.10.7)\n",
            "Requirement already satisfied: jinja2 in /usr/local/lib/python3.10/dist-packages (from spacy) (3.1.2)\n",
            "Requirement already satisfied: setuptools in /usr/local/lib/python3.10/dist-packages (from spacy) (67.7.2)\n",
            "Requirement already satisfied: packaging>=20.0 in /usr/local/lib/python3.10/dist-packages (from spacy) (23.1)\n",
            "Requirement already satisfied: langcodes<4.0.0,>=3.2.0 in /usr/local/lib/python3.10/dist-packages (from spacy) (3.3.0)\n",
            "Requirement already satisfied: typing-extensions>=4.2.0 in /usr/local/lib/python3.10/dist-packages (from pydantic!=1.8,!=1.8.1,<1.11.0,>=1.7.4->spacy) (4.5.0)\n",
            "Requirement already satisfied: urllib3<1.27,>=1.21.1 in /usr/local/lib/python3.10/dist-packages (from requests<3.0.0,>=2.13.0->spacy) (1.26.15)\n",
            "Requirement already satisfied: certifi>=2017.4.17 in /usr/local/lib/python3.10/dist-packages (from requests<3.0.0,>=2.13.0->spacy) (2022.12.7)\n",
            "Requirement already satisfied: charset-normalizer~=2.0.0 in /usr/local/lib/python3.10/dist-packages (from requests<3.0.0,>=2.13.0->spacy) (2.0.12)\n",
            "Requirement already satisfied: idna<4,>=2.5 in /usr/local/lib/python3.10/dist-packages (from requests<3.0.0,>=2.13.0->spacy) (3.4)\n",
            "Requirement already satisfied: blis<0.8.0,>=0.7.8 in /usr/local/lib/python3.10/dist-packages (from thinc<8.2.0,>=8.1.8->spacy) (0.7.9)\n",
            "Requirement already satisfied: confection<1.0.0,>=0.0.1 in /usr/local/lib/python3.10/dist-packages (from thinc<8.2.0,>=8.1.8->spacy) (0.0.4)\n",
            "Requirement already satisfied: click<9.0.0,>=7.1.1 in /usr/local/lib/python3.10/dist-packages (from typer<0.8.0,>=0.3.0->spacy) (8.1.3)\n",
            "Requirement already satisfied: MarkupSafe>=2.0 in /usr/local/lib/python3.10/dist-packages (from jinja2->spacy) (2.1.2)\n",
            "ERROR: unknown command \"instal\" - maybe you meant \"install\"\n",
            "2023-06-01 01:41:46.631370: W tensorflow/compiler/tf2tensorrt/utils/py_utils.cc:38] TF-TRT Warning: Could not find TensorRT\n",
            "Looking in indexes: https://pypi.org/simple, https://us-python.pkg.dev/colab-wheels/public/simple/\n",
            "Collecting en-core-web-md==3.5.0\n",
            "  Downloading https://github.com/explosion/spacy-models/releases/download/en_core_web_md-3.5.0/en_core_web_md-3.5.0-py3-none-any.whl (42.8 MB)\n",
            "\u001b[2K     \u001b[90m━━━━━━━━━━━━━━━━━━━━━━━━━━━━━━━━━━━━━━━━\u001b[0m \u001b[32m42.8/42.8 MB\u001b[0m \u001b[31m21.7 MB/s\u001b[0m eta \u001b[36m0:00:00\u001b[0m\n",
            "\u001b[?25hRequirement already satisfied: spacy<3.6.0,>=3.5.0 in /usr/local/lib/python3.10/dist-packages (from en-core-web-md==3.5.0) (3.5.2)\n",
            "Requirement already satisfied: spacy-legacy<3.1.0,>=3.0.11 in /usr/local/lib/python3.10/dist-packages (from spacy<3.6.0,>=3.5.0->en-core-web-md==3.5.0) (3.0.12)\n",
            "Requirement already satisfied: spacy-loggers<2.0.0,>=1.0.0 in /usr/local/lib/python3.10/dist-packages (from spacy<3.6.0,>=3.5.0->en-core-web-md==3.5.0) (1.0.4)\n",
            "Requirement already satisfied: murmurhash<1.1.0,>=0.28.0 in /usr/local/lib/python3.10/dist-packages (from spacy<3.6.0,>=3.5.0->en-core-web-md==3.5.0) (1.0.9)\n",
            "Requirement already satisfied: cymem<2.1.0,>=2.0.2 in /usr/local/lib/python3.10/dist-packages (from spacy<3.6.0,>=3.5.0->en-core-web-md==3.5.0) (2.0.7)\n",
            "Requirement already satisfied: preshed<3.1.0,>=3.0.2 in /usr/local/lib/python3.10/dist-packages (from spacy<3.6.0,>=3.5.0->en-core-web-md==3.5.0) (3.0.8)\n",
            "Requirement already satisfied: thinc<8.2.0,>=8.1.8 in /usr/local/lib/python3.10/dist-packages (from spacy<3.6.0,>=3.5.0->en-core-web-md==3.5.0) (8.1.9)\n",
            "Requirement already satisfied: wasabi<1.2.0,>=0.9.1 in /usr/local/lib/python3.10/dist-packages (from spacy<3.6.0,>=3.5.0->en-core-web-md==3.5.0) (1.1.1)\n",
            "Requirement already satisfied: srsly<3.0.0,>=2.4.3 in /usr/local/lib/python3.10/dist-packages (from spacy<3.6.0,>=3.5.0->en-core-web-md==3.5.0) (2.4.6)\n",
            "Requirement already satisfied: catalogue<2.1.0,>=2.0.6 in /usr/local/lib/python3.10/dist-packages (from spacy<3.6.0,>=3.5.0->en-core-web-md==3.5.0) (2.0.8)\n",
            "Requirement already satisfied: typer<0.8.0,>=0.3.0 in /usr/local/lib/python3.10/dist-packages (from spacy<3.6.0,>=3.5.0->en-core-web-md==3.5.0) (0.7.0)\n",
            "Requirement already satisfied: pathy>=0.10.0 in /usr/local/lib/python3.10/dist-packages (from spacy<3.6.0,>=3.5.0->en-core-web-md==3.5.0) (0.10.1)\n",
            "Requirement already satisfied: smart-open<7.0.0,>=5.2.1 in /usr/local/lib/python3.10/dist-packages (from spacy<3.6.0,>=3.5.0->en-core-web-md==3.5.0) (6.3.0)\n",
            "Requirement already satisfied: tqdm<5.0.0,>=4.38.0 in /usr/local/lib/python3.10/dist-packages (from spacy<3.6.0,>=3.5.0->en-core-web-md==3.5.0) (4.65.0)\n",
            "Requirement already satisfied: numpy>=1.15.0 in /usr/local/lib/python3.10/dist-packages (from spacy<3.6.0,>=3.5.0->en-core-web-md==3.5.0) (1.22.4)\n",
            "Requirement already satisfied: requests<3.0.0,>=2.13.0 in /usr/local/lib/python3.10/dist-packages (from spacy<3.6.0,>=3.5.0->en-core-web-md==3.5.0) (2.27.1)\n",
            "Requirement already satisfied: pydantic!=1.8,!=1.8.1,<1.11.0,>=1.7.4 in /usr/local/lib/python3.10/dist-packages (from spacy<3.6.0,>=3.5.0->en-core-web-md==3.5.0) (1.10.7)\n",
            "Requirement already satisfied: jinja2 in /usr/local/lib/python3.10/dist-packages (from spacy<3.6.0,>=3.5.0->en-core-web-md==3.5.0) (3.1.2)\n",
            "Requirement already satisfied: setuptools in /usr/local/lib/python3.10/dist-packages (from spacy<3.6.0,>=3.5.0->en-core-web-md==3.5.0) (67.7.2)\n",
            "Requirement already satisfied: packaging>=20.0 in /usr/local/lib/python3.10/dist-packages (from spacy<3.6.0,>=3.5.0->en-core-web-md==3.5.0) (23.1)\n",
            "Requirement already satisfied: langcodes<4.0.0,>=3.2.0 in /usr/local/lib/python3.10/dist-packages (from spacy<3.6.0,>=3.5.0->en-core-web-md==3.5.0) (3.3.0)\n",
            "Requirement already satisfied: typing-extensions>=4.2.0 in /usr/local/lib/python3.10/dist-packages (from pydantic!=1.8,!=1.8.1,<1.11.0,>=1.7.4->spacy<3.6.0,>=3.5.0->en-core-web-md==3.5.0) (4.5.0)\n",
            "Requirement already satisfied: urllib3<1.27,>=1.21.1 in /usr/local/lib/python3.10/dist-packages (from requests<3.0.0,>=2.13.0->spacy<3.6.0,>=3.5.0->en-core-web-md==3.5.0) (1.26.15)\n",
            "Requirement already satisfied: certifi>=2017.4.17 in /usr/local/lib/python3.10/dist-packages (from requests<3.0.0,>=2.13.0->spacy<3.6.0,>=3.5.0->en-core-web-md==3.5.0) (2022.12.7)\n",
            "Requirement already satisfied: charset-normalizer~=2.0.0 in /usr/local/lib/python3.10/dist-packages (from requests<3.0.0,>=2.13.0->spacy<3.6.0,>=3.5.0->en-core-web-md==3.5.0) (2.0.12)\n",
            "Requirement already satisfied: idna<4,>=2.5 in /usr/local/lib/python3.10/dist-packages (from requests<3.0.0,>=2.13.0->spacy<3.6.0,>=3.5.0->en-core-web-md==3.5.0) (3.4)\n",
            "Requirement already satisfied: blis<0.8.0,>=0.7.8 in /usr/local/lib/python3.10/dist-packages (from thinc<8.2.0,>=8.1.8->spacy<3.6.0,>=3.5.0->en-core-web-md==3.5.0) (0.7.9)\n",
            "Requirement already satisfied: confection<1.0.0,>=0.0.1 in /usr/local/lib/python3.10/dist-packages (from thinc<8.2.0,>=8.1.8->spacy<3.6.0,>=3.5.0->en-core-web-md==3.5.0) (0.0.4)\n",
            "Requirement already satisfied: click<9.0.0,>=7.1.1 in /usr/local/lib/python3.10/dist-packages (from typer<0.8.0,>=0.3.0->spacy<3.6.0,>=3.5.0->en-core-web-md==3.5.0) (8.1.3)\n",
            "Requirement already satisfied: MarkupSafe>=2.0 in /usr/local/lib/python3.10/dist-packages (from jinja2->spacy<3.6.0,>=3.5.0->en-core-web-md==3.5.0) (2.1.2)\n",
            "Installing collected packages: en-core-web-md\n",
            "Successfully installed en-core-web-md-3.5.0\n",
            "\u001b[38;5;2m✔ Download and installation successful\u001b[0m\n",
            "You can now load the package via spacy.load('en_core_web_md')\n",
            "This -> [ 1.6849   1.9826  -0.77743]\n",
            "is -> [1.475  6.0078 1.1205]\n",
            "some -> [-0.91138 -1.2467  -1.4404 ]\n",
            "text -> [ 1.8153 -3.0974  7.8781]\n",
            "that -> [-1.1026  2.9549 -2.8606]\n",
            "I -> [-1.8607   0.15804 -4.1425 ]\n",
            "am -> [ 8.3869 -7.2075  2.3706]\n",
            "processing -> [-0.98158 -2.6326  -0.02352]\n",
            "with -> [-7.3029  -1.8444  -0.76674]\n",
            "Spacy -> [1.8534  0.65457 3.6501 ]\n",
            "\n",
            " text\n",
            "(300,)\n"
          ]
        },
        {
          "output_type": "execute_result",
          "data": {
            "text/plain": [
              "array([ 1.8153e+00, -3.0974e+00,  7.8781e+00,  1.7159e+00,  1.3492e+00,\n",
              "       -4.6307e+00,  3.6709e+00, -8.5784e-02, -4.9755e+00, -8.4094e-01,\n",
              "        1.0642e+01,  6.8609e+00, -9.2319e+00, -1.5872e-01, -3.8155e-01,\n",
              "       -1.9255e-01,  3.3571e+00,  3.7723e+00,  1.3672e+00,  6.5571e+00,\n",
              "       -6.5411e+00, -3.9489e-01, -5.2012e-01,  5.5753e-01, -3.4513e+00,\n",
              "       -4.5028e+00, -1.5902e+00, -3.7582e+00, -4.8479e+00,  2.5768e+00,\n",
              "       -7.2187e+00, -4.7998e+00, -1.8594e+00, -4.9777e-01, -2.4411e-01,\n",
              "       -4.1268e+00, -3.4901e+00, -4.8338e+00,  4.3046e+00,  2.6234e+00,\n",
              "       -4.4230e-02, -1.3608e-02, -8.8456e+00,  3.7733e+00,  2.6316e+00,\n",
              "        3.4657e+00,  4.3546e+00,  1.1333e+00, -3.7832e+00, -5.7349e+00,\n",
              "       -3.3476e+00, -1.0848e+00,  3.8662e+00, -1.7437e+00, -9.9700e-01,\n",
              "        4.1109e+00,  1.0865e+00,  3.2447e+00,  1.9290e+00, -4.9990e+00,\n",
              "        6.1250e+00,  3.9852e+00, -5.0349e+00,  2.2019e+00, -1.2268e+00,\n",
              "        1.2217e+01, -1.9911e-01, -6.9239e+00, -1.4570e-01,  2.5162e+00,\n",
              "       -4.3404e+00,  5.0859e-01, -2.5466e-01,  1.1865e+00, -2.6420e+00,\n",
              "        2.5545e+00, -2.7378e+00,  3.4351e+00, -3.8275e+00,  3.9841e+00,\n",
              "       -8.7007e-01, -3.5022e+00,  2.4658e+00,  1.1413e-01,  7.0192e+00,\n",
              "        1.5351e+00,  6.3644e+00,  1.7950e+00,  1.3846e+00,  1.9949e+00,\n",
              "       -2.5775e+00,  6.8543e+00,  4.9167e+00,  1.0726e+00,  4.2185e+00,\n",
              "       -5.2995e+00, -1.0998e+00,  2.7981e+00, -2.9641e+00, -3.9380e+00,\n",
              "        4.4521e+00,  5.4607e+00,  2.2630e+00, -4.3339e+00, -1.3492e+00,\n",
              "        1.9899e+00,  1.3943e+00, -6.4898e+00, -1.1698e+00,  2.6809e+00,\n",
              "        7.4944e+00, -4.1128e+00,  2.1884e+00,  2.5359e+00,  1.3449e+00,\n",
              "       -2.4524e-01,  8.9151e-01,  1.4429e+00, -5.4536e+00, -4.6541e+00,\n",
              "       -2.4937e+00, -1.7425e+00,  3.6180e+00,  1.4103e+00,  2.3171e+00,\n",
              "       -5.6080e+00,  2.9942e+00, -3.3632e+00, -3.1912e+00, -3.6574e+00,\n",
              "       -6.8953e+00,  1.5619e+00, -2.8472e+00, -2.3034e+00,  1.2764e+00,\n",
              "        5.1938e-02, -2.1767e-01, -4.4340e-01,  1.9860e+00, -3.9447e+00,\n",
              "       -1.6374e-01, -3.3162e+00,  3.0624e-01, -2.2645e+00,  4.1747e+00,\n",
              "        3.1061e-01,  2.4868e+00,  4.4836e+00,  2.6715e+00,  7.5077e+00,\n",
              "       -2.6008e+00,  5.2290e+00, -1.9564e-02,  8.6515e-01,  4.9600e-01,\n",
              "       -2.7190e+00,  2.1371e+00,  4.7286e+00,  2.7932e-01, -1.8440e+00,\n",
              "        3.1654e+00, -1.1175e-01,  8.9190e-01, -1.1452e+00, -2.5718e+00,\n",
              "       -3.7142e+00, -6.9255e+00,  1.1165e+00, -3.4216e+00, -1.3337e+00,\n",
              "       -7.1805e-01,  7.2577e-01, -2.7242e+00,  1.8017e+00,  9.0910e+00,\n",
              "        8.8726e-03,  1.6012e+00,  3.4569e+00, -5.0202e+00, -5.4944e+00,\n",
              "        8.7428e+00, -2.9288e+00, -9.9861e-01, -2.6903e+00,  5.0044e+00,\n",
              "        2.7749e-01,  1.3357e+00, -6.9442e+00,  1.4123e+00, -6.2846e+00,\n",
              "       -4.5341e+00, -3.6088e+00, -4.5898e+00,  2.7224e+00,  5.0870e+00,\n",
              "        3.1570e+00, -3.4397e+00,  3.1942e+00,  5.1315e+00,  9.1256e+00,\n",
              "       -1.9185e+00, -1.8924e+00, -1.6918e+00, -5.2486e+00,  1.0434e+00,\n",
              "        3.9521e+00,  2.6612e+00, -4.0238e+00,  3.6476e+00,  1.0760e+00,\n",
              "        2.2546e+00, -2.9131e+00,  4.1481e+00,  6.7236e+00,  4.2079e-01,\n",
              "        1.2782e+00,  9.1259e-01, -2.7402e+00,  5.7157e-01,  3.2752e+00,\n",
              "        3.8041e+00, -2.3013e-01,  2.4876e+00,  3.8989e-01, -4.7766e+00,\n",
              "       -3.4029e+00,  5.0152e+00,  5.2771e-01,  8.9613e-01, -5.0365e+00,\n",
              "        1.0466e-01, -1.8650e+00,  7.6624e-01, -5.4027e+00, -1.3898e-01,\n",
              "        5.2780e+00,  4.3138e+00,  4.1568e+00,  2.9571e+00, -1.3304e+00,\n",
              "       -6.7570e+00, -1.9064e+00, -1.2822e+00,  5.4065e+00,  4.0695e+00,\n",
              "       -3.6669e+00, -3.1327e+00, -4.1047e+00,  3.6837e+00, -1.2322e+00,\n",
              "        2.2510e+00, -5.5596e+00,  1.1376e-01, -4.2178e+00, -1.4326e+00,\n",
              "        2.0191e+00, -9.3392e-02,  1.2639e+00,  8.5859e-02,  2.7242e-01,\n",
              "        4.6008e+00,  3.1308e+00,  5.4251e-01, -1.7078e+00,  1.9982e+00,\n",
              "        4.7233e+00, -3.0300e+00,  4.8159e+00, -7.5448e+00, -6.8540e+00,\n",
              "        9.2230e-01, -4.3552e+00, -1.2993e+00, -3.7137e+00, -5.2262e+00,\n",
              "        1.2077e+00,  5.9088e-01,  3.6372e+00, -3.1487e+00,  1.8208e+00,\n",
              "       -1.5681e+00, -1.8223e+00,  4.3911e+00,  3.1354e+00,  5.3926e+00,\n",
              "        2.3312e+00,  3.3455e+00, -3.2092e+00, -1.0546e+00,  3.1676e+00,\n",
              "        3.7958e+00, -6.1199e-01,  4.8044e+00, -3.9273e+00, -1.3952e-01,\n",
              "        1.6868e+00,  5.2596e+00, -4.0270e+00, -4.8126e+00, -1.8458e+00],\n",
              "      dtype=float32)"
            ]
          },
          "metadata": {},
          "execution_count": 10
        }
      ],
      "source": [
        "\n",
        "!pip install spacy\n",
        "!pip instal cubprocess\n",
        "import spacy\n",
        "import subprocess\n",
        "!python -m spacy download en_core_web_md\n",
        "\n",
        "# Upgrade pip\n",
        "subprocess.check_call(['pip', 'install', '--upgrade', 'pip'])\n",
        "\n",
        "# Load the spacy model that you have installed\n",
        "nlp = spacy.load('en_core_web_md')\n",
        "\n",
        "# Process a sentence using the model\n",
        "doc = nlp(\"This is some text that I am processing with Spacy\")\n",
        "\n",
        "# Print the token text and its vector (first 3 elements)\n",
        "for token in doc:\n",
        "    print(token.text, \"->\", token.vector[:3])\n",
        "\n",
        "print('\\n', doc[3])\n",
        "\n",
        "print(doc.vector.shape)\n",
        "doc[3].vector\n",
        "\n",
        "# Get the mean vector for the entire sentence (useful for sentence classification etc.)\n",
        "# doc.vector\n"
      ]
    },
    {
      "cell_type": "code",
      "execution_count": null,
      "id": "ad5d5f25",
      "metadata": {
        "id": "ad5d5f25",
        "outputId": "3f8dd25a-aa32-4e11-d2d2-6ed442943249",
        "colab": {
          "base_uri": "https://localhost:8080/"
        }
      },
      "outputs": [
        {
          "output_type": "execute_result",
          "data": {
            "text/plain": [
              "array([ 0.30563405, -0.427069  ,  0.500811  , -1.6580696 , -0.94629   ,\n",
              "       -0.23934703,  0.028577  ,  4.295377  , -3.8321986 ,  1.7672628 ,\n",
              "        6.658099  ,  1.1359228 , -3.006612  , -0.50961006,  2.3700955 ,\n",
              "        0.703461  ,  2.34051   , -0.3941861 , -1.369067  ,  0.59585994,\n",
              "        1.3248701 ,  2.0000231 , -3.4256172 , -2.002854  , -2.0418718 ,\n",
              "       -2.193501  , -1.819932  , -1.423071  , -2.0385802 , -0.10317302,\n",
              "       -0.46430922, -0.14729555, -3.394214  , -0.04532397, -2.269256  ,\n",
              "        0.17045009, -0.13494173,  0.932325  ,  5.7848444 ,  2.148113  ,\n",
              "       -1.5996732 ,  2.2030263 , -0.79875904, -1.350127  , -1.3724102 ,\n",
              "        2.8075051 ,  3.299128  , -2.831655  , -2.130708  ,  0.97382486,\n",
              "        1.6305139 , -0.57544106,  2.093894  , -4.6533303 , -1.3734801 ,\n",
              "        0.5552629 ,  2.419354  ,  2.0564501 ,  0.612147  ,  0.47596803,\n",
              "        4.43481   ,  0.15596   , -1.7175634 ,  0.38855594, -0.89715827,\n",
              "        2.3118348 , -2.541205  , -4.31619   ,  2.454495  ,  3.79598   ,\n",
              "       -1.0783069 ,  2.722444  , -0.92606604, -0.476808  ,  0.39366612,\n",
              "        1.075635  , -2.3088498 ,  1.0753001 , -2.818402  , -1.405414  ,\n",
              "       -3.3402772 , -2.546393  ,  2.4205518 , -0.831272  ,  2.9896379 ,\n",
              "       -0.20465302,  0.02480499, -1.08067   ,  1.8324687 , -2.684995  ,\n",
              "       -1.067833  , -0.7799639 ,  3.34584   , -6.33815   ,  0.24058883,\n",
              "       -1.7337329 ,  0.30885807, -2.472527  ,  0.22089107, -2.8528237 ,\n",
              "        1.5645981 ,  1.3620209 ,  1.4146221 ,  1.2246253 , -1.0189512 ,\n",
              "        3.9332752 , -0.14244299,  0.05134308, -0.70787704,  0.98634833,\n",
              "        0.983918  , -2.489817  , -0.37863597,  1.056667  ,  0.07038905,\n",
              "        0.93299186, -3.3040612 , -1.459826  , -1.255954  , -1.58012   ,\n",
              "       -3.6165156 , -1.7077968 , -0.01509399,  4.0862784 , -1.2418749 ,\n",
              "       -3.802525  ,  0.69377816, -2.7189171 , -0.43720597, -1.180317  ,\n",
              "       -3.370336  ,  0.90560806,  2.477566  , -3.4777691 , -2.2713912 ,\n",
              "        1.8330419 , -1.2760999 , -1.113861  ,  6.059766  , -0.91248095,\n",
              "       -0.28656003, -1.235962  ,  1.1542532 , -0.8326079 , -0.7066811 ,\n",
              "       -0.608421  , -3.4267292 , -0.5314786 , -1.69789   ,  2.332994  ,\n",
              "       -0.65697306,  1.920978  , -1.7829889 ,  0.04741685, -0.49004602,\n",
              "        1.8466461 ,  2.4439702 ,  1.4111999 , -0.009308  , -2.5239038 ,\n",
              "       -1.1275359 , -2.8978336 , -1.0351676 , -0.07996996, -2.0385349 ,\n",
              "       -1.6165011 , -2.9758508 ,  1.9204849 ,  0.31267795, -1.2895534 ,\n",
              "        1.3995272 , -1.082098  , -0.5246801 ,  2.1325269 ,  3.163244  ,\n",
              "       -2.4248405 ,  0.70356   ,  1.7774343 , -1.693312  , -0.568895  ,\n",
              "       -0.05817306, -0.2480501 ,  4.498539  , -0.63889605, -0.40738302,\n",
              "        1.8994381 , -2.1067774 , -3.572049  ,  1.607991  ,  3.5211303 ,\n",
              "       -3.307549  , -0.83129996, -0.93277705, -0.10384001,  2.5165267 ,\n",
              "        1.4800619 , -4.7294197 ,  3.162191  ,  2.114223  ,  2.16163   ,\n",
              "       -1.7953751 , -1.064044  , -2.5254931 , -1.923002  ,  1.45557   ,\n",
              "        2.5316222 , -2.79178   , -0.44553915, -0.649095  , -0.5323398 ,\n",
              "        2.522916  ,  1.023482  ,  0.7430055 ,  3.5510612 , -2.178901  ,\n",
              "        0.22337899, -0.08578251, -1.85267   ,  0.57078296,  1.0050399 ,\n",
              "       -0.96648586,  0.23848796,  2.0102868 ,  0.29869002,  1.31451   ,\n",
              "       -1.1515701 ,  1.6161289 ,  1.820121  ,  0.17467909, -0.17713399,\n",
              "       -2.47082   , -4.20842   ,  0.7466057 ,  0.39972296, -1.3546581 ,\n",
              "        1.5044    ,  0.955846  ,  1.037893  ,  1.314671  , -0.180228  ,\n",
              "       -3.1153862 , -0.8942631 ,  0.46362194,  0.87325984, -0.427061  ,\n",
              "       -2.4928    , -2.0991445 ,  0.9411739 ,  3.6993728 ,  4.311467  ,\n",
              "        0.35995802,  0.599337  , -5.014844  , -0.8915901 , -0.529793  ,\n",
              "       -1.960756  ,  0.64939874,  2.959001  , -2.160853  ,  2.027445  ,\n",
              "        0.1151435 ,  5.409936  ,  2.931291  ,  4.8695498 ,  0.76259595,\n",
              "       -0.03534485, -0.15046   ,  3.029665  , -5.237672  ,  0.836624  ,\n",
              "       -0.128725  , -3.191173  , -0.607369  , -2.1881042 , -0.55797005,\n",
              "       -0.7237069 ,  0.85019004, -1.941087  ,  0.384834  ,  1.5398511 ,\n",
              "       -0.7949482 , -1.5606661 ,  0.54367006,  1.0514437 ,  5.35902   ,\n",
              "       -1.2420781 ,  3.3212998 ,  0.6925169 , -1.1787201 ,  2.5486398 ,\n",
              "        4.4299192 , -1.4245069 ,  2.452001  , -1.73069   , -1.6239288 ,\n",
              "        0.6340111 ,  1.7662709 , -1.320726  , -4.7119703 ,  2.9724488 ],\n",
              "      dtype=float32)"
            ]
          },
          "metadata": {},
          "execution_count": 11
        }
      ],
      "source": [
        "doc.vector"
      ]
    },
    {
      "cell_type": "markdown",
      "id": "7b9762ce",
      "metadata": {
        "id": "7b9762ce"
      },
      "source": [
        "### Doc Similarity"
      ]
    },
    {
      "cell_type": "code",
      "execution_count": null,
      "id": "35a2764d",
      "metadata": {
        "id": "35a2764d",
        "outputId": "04525079-7bfd-4b17-c34d-64fcb2c99015",
        "colab": {
          "base_uri": "https://localhost:8080/"
        }
      },
      "outputs": [
        {
          "output_type": "stream",
          "name": "stdout",
          "text": [
            "I like salty fries and hamburgers. <-> Fast food tastes very good. 0.691649353055761\n"
          ]
        }
      ],
      "source": [
        "doc1 = nlp(\"I like salty fries and hamburgers.\")\n",
        "doc2 = nlp(\"Fast food tastes very good.\")\n",
        "\n",
        "# Similarity of two documents\n",
        "print(doc1, \"<->\", doc2, doc1.similarity(doc2))"
      ]
    },
    {
      "cell_type": "markdown",
      "id": "d7f05c1c",
      "metadata": {
        "id": "d7f05c1c"
      },
      "source": [
        "### Word Similarity"
      ]
    },
    {
      "cell_type": "code",
      "execution_count": null,
      "id": "909bb002",
      "metadata": {
        "id": "909bb002",
        "outputId": "9663ae6f-7515-4e01-cd1c-b08002020d04",
        "colab": {
          "base_uri": "https://localhost:8080/"
        }
      },
      "outputs": [
        {
          "output_type": "stream",
          "name": "stdout",
          "text": [
            "salty fries <-> hamburgers 0.6938489675521851\n"
          ]
        }
      ],
      "source": [
        "# Similarity of tokens and spans\n",
        "french_fries = doc1[2:4]\n",
        "burgers = doc1[5]\n",
        "print(french_fries, \"<->\", burgers, french_fries.similarity(burgers))"
      ]
    },
    {
      "cell_type": "markdown",
      "id": "fa3ed13b",
      "metadata": {
        "id": "fa3ed13b"
      },
      "source": [
        "### Pretrained model ( from Google's word embeddings ) with Gensim\n",
        "#### Gensim does not provde pretrained models for word2vec embeddings. There are models available online which you can use with Gensim. One option is to use the Google News dataset model which provides pre-trained vectors trained on part of Google News dataset (about 100 billion words). The model contains 300-dimensional vectors for 3 million words and phrases."
      ]
    },
    {
      "cell_type": "code",
      "execution_count": null,
      "id": "4ef951fb",
      "metadata": {
        "id": "4ef951fb",
        "outputId": "cb18373b-11af-4816-c2bf-ee4ae55c6947",
        "colab": {
          "base_uri": "https://localhost:8080/"
        }
      },
      "outputs": [
        {
          "output_type": "stream",
          "name": "stdout",
          "text": [
            "4.3.1\n"
          ]
        }
      ],
      "source": [
        "#!pip install gensim==3.4.0\n",
        "import gensim\n",
        "print(gensim.__version__)"
      ]
    },
    {
      "cell_type": "code",
      "source": [
        "from gensim.models import KeyedVectors\n",
        "import requests\n",
        "\n",
        "# URL of the pre-trained word2vec model\n",
        "url = \"https://github.com/mmihaltz/word2vec-GoogleNews-vectors/blob/master/GoogleNews-vectors-negative300.bin.gz?raw=true\"\n",
        "\n",
        "# Destination file path to save the downloaded model\n",
        "destination_file = \"word2vec_model.bin.gz\"\n",
        "\n",
        "# Download the model using requests\n",
        "response = requests.get(url, stream=True)\n",
        "\n",
        "# Save the model to the destination file\n",
        "with open(destination_file, \"wb\") as f:\n",
        "    for chunk in response.iter_content(chunk_size=1024):\n",
        "        if chunk:\n",
        "            f.write(chunk)\n",
        "\n",
        "print(\"Word2Vec model downloaded and saved as:\", destination_file)\n"
      ],
      "metadata": {
        "colab": {
          "base_uri": "https://localhost:8080/"
        },
        "id": "SX6b4Gd1ocQ7",
        "outputId": "4f5f88ad-89ae-45eb-93be-e9fb40fd1e1a"
      },
      "id": "SX6b4Gd1ocQ7",
      "execution_count": null,
      "outputs": [
        {
          "output_type": "stream",
          "name": "stdout",
          "text": [
            "Word2Vec model downloaded and saved as: word2vec_model.bin.gz\n"
          ]
        }
      ]
    },
    {
      "cell_type": "markdown",
      "id": "aad17dc5",
      "metadata": {
        "id": "aad17dc5"
      },
      "source": [
        "### Create Custom Word Embeddings (word2vec) with Gensim"
      ]
    },
    {
      "cell_type": "code",
      "source": [
        "import gensim.downloader as api\n",
        "\n",
        "# Download the Google News word2vec model\n",
        "model = api.load(\"word2vec-google-news-300\")\n",
        "\n",
        "# Save the model to a file\n",
        "model.save(\"word2vec_model.bin\")\n",
        "\n",
        "print(\"Word2Vec model downloaded and saved as: word2vec_model.bin\")\n"
      ],
      "metadata": {
        "colab": {
          "base_uri": "https://localhost:8080/"
        },
        "id": "oRyzmY3tpivR",
        "outputId": "a8a78285-cfc5-4473-86b5-a5c6e9a25c68"
      },
      "id": "oRyzmY3tpivR",
      "execution_count": null,
      "outputs": [
        {
          "output_type": "stream",
          "name": "stdout",
          "text": [
            "[==================================================] 100.0% 1662.8/1662.8MB downloaded\n",
            "Word2Vec model downloaded and saved as: word2vec_model.bin\n"
          ]
        }
      ]
    },
    {
      "cell_type": "code",
      "source": [
        "from gensim.models import KeyedVectors\n",
        "\n",
        "# Load the Word2Vec model\n",
        "model = KeyedVectors.load(\"word2vec_model.bin\")\n",
        "\n",
        "# Get the vocabulary\n",
        "vocabulary = list(model.key_to_index.keys())\n",
        "\n",
        "# Print the first 10 words in the vocabulary\n",
        "print(\"Vocabulary:\")\n",
        "for word in vocabulary[:10]:\n",
        "    print(word)\n",
        "\n",
        "# Perform operations on the model\n",
        "word1 = \"king\"\n",
        "word2 = \"queen\"\n",
        "word3 = \"woman\"\n",
        "\n",
        "# Find the most similar word to the given word\n",
        "similar_word = model.most_similar(positive=[word1, word3], negative=[word2])[0][0]\n",
        "print(f\"\\nMost similar word to '{word1} - {word2} + {word3}' is: {similar_word}\")\n"
      ],
      "metadata": {
        "colab": {
          "base_uri": "https://localhost:8080/"
        },
        "id": "BoW30VN7tV5H",
        "outputId": "5219e72e-287e-4bac-eb30-20c77349033b"
      },
      "id": "BoW30VN7tV5H",
      "execution_count": null,
      "outputs": [
        {
          "output_type": "stream",
          "name": "stdout",
          "text": [
            "Vocabulary:\n",
            "</s>\n",
            "in\n",
            "for\n",
            "that\n",
            "is\n",
            "on\n",
            "##\n",
            "The\n",
            "with\n",
            "said\n",
            "\n",
            "Most similar word to 'king - queen + woman' is: man\n",
            "Vocabulary:\n",
            "</s>\n",
            "in\n",
            "for\n",
            "that\n",
            "is\n",
            "on\n",
            "##\n",
            "The\n",
            "with\n",
            "said\n",
            "\n",
            "Most similar word to 'king - queen + woman' is: man\n"
          ]
        }
      ]
    },
    {
      "cell_type": "markdown",
      "id": "fb18ddbc",
      "metadata": {
        "id": "fb18ddbc"
      },
      "source": [
        "### https://machinelearningmastery.com/develop-word-embeddings-python-gensim/"
      ]
    },
    {
      "cell_type": "code",
      "execution_count": null,
      "id": "a8c17158",
      "metadata": {
        "id": "a8c17158",
        "outputId": "4deee24e-0092-4940-d06f-361ec6111da3",
        "colab": {
          "base_uri": "https://localhost:8080/"
        }
      },
      "outputs": [
        {
          "output_type": "stream",
          "name": "stdout",
          "text": [
            "Word2Vec<vocab=15, vector_size=50, alpha=0.025>\n",
            "Word2Vec<vocab=15, vector_size=50, alpha=0.025>\n"
          ]
        }
      ],
      "source": [
        "from gensim.models import Word2Vec\n",
        "# define training data\n",
        "sentences = [['this', 'is', 'the', 'first', 'sentence', 'for', 'word2vec'],\n",
        " ['this', 'is', 'the', 'second', 'sentence'],\n",
        " ['yet', 'another', 'sentence'],\n",
        " ['one', 'more', 'sentence'],\n",
        " ['and', 'the', 'final', 'last', 'sentence']]\n",
        "# train model\n",
        "gensim_custom_model = Word2Vec(sentences,\n",
        "                 min_count=1, # ignores words that appear less than min_count\n",
        "                vector_size = 50,   # Dimensionality of words embeddings\n",
        "                workers = 1,  # Number of processors ( for parallelization )\n",
        "                window = 5,   # Context window for words during training\n",
        "                epochs=30)      # Number of epochs training over corpus\n",
        "# summarize the loaded model\n",
        "print(gensim_custom_model)\n",
        "# summarize vocabulary\n",
        "words = gensim_custom_model.wv.index_to_key\n",
        "#print(words)\n",
        "# access vector for one word\n",
        "#print(gensim_custom_model['sentence'])\n",
        "# save model\n",
        "gensim_custom_model.save('gensim_embed_model.bin')\n",
        "# load model\n",
        "new_model = Word2Vec.load('gensim_embed_model.bin')\n",
        "print(new_model)"
      ]
    },
    {
      "cell_type": "code",
      "execution_count": null,
      "id": "af4a91ca",
      "metadata": {
        "id": "af4a91ca",
        "outputId": "a2cc629a-6f27-4abf-8f8a-03a817fbc3f6",
        "colab": {
          "base_uri": "https://localhost:8080/"
        }
      },
      "outputs": [
        {
          "output_type": "execute_result",
          "data": {
            "text/plain": [
              "array([-1.06058049e-03,  4.47264174e-04,  1.01994919e-02,  1.80629119e-02,\n",
              "       -1.86427850e-02, -1.42561682e-02,  1.29760234e-02,  1.79636199e-02,\n",
              "       -1.00990217e-02, -7.53042474e-03,  1.47771966e-02, -3.07391817e-03,\n",
              "       -9.06720944e-03,  1.31087527e-02, -9.73224360e-03, -3.62750585e-03,\n",
              "        5.80387143e-03,  2.02352251e-03, -1.66355837e-02, -1.89565215e-02,\n",
              "        1.46455150e-02,  1.01662008e-02,  1.35671813e-02,  1.53746956e-03,\n",
              "        1.27431070e-02, -6.83339080e-03, -1.88717921e-03,  1.15930140e-02,\n",
              "       -1.50935119e-02, -7.89231062e-03, -1.50507120e-02, -1.87043264e-03,\n",
              "        1.91151258e-02, -1.46868080e-02, -4.71115345e-03, -3.91292153e-03,\n",
              "        1.62098780e-02, -1.19156707e-02,  5.56756095e-05, -9.53334570e-03,\n",
              "       -1.92272812e-02,  1.00265285e-02, -1.75463520e-02, -8.81345477e-03,\n",
              "       -8.69064843e-06, -5.69400960e-04, -1.53458025e-02,  1.92105714e-02,\n",
              "        9.96635295e-03,  1.85121242e-02], dtype=float32)"
            ]
          },
          "metadata": {},
          "execution_count": 4
        }
      ],
      "source": [
        "new_model.wv['sentence']"
      ]
    },
    {
      "cell_type": "markdown",
      "id": "c5571de9",
      "metadata": {
        "id": "c5571de9"
      },
      "source": [
        "### Visualizing word embedding"
      ]
    },
    {
      "cell_type": "code",
      "execution_count": null,
      "id": "4b7263c7",
      "metadata": {
        "id": "4b7263c7",
        "outputId": "d2646259-af86-47dc-9fdd-746905929120",
        "colab": {
          "base_uri": "https://localhost:8080/"
        }
      },
      "outputs": [
        {
          "output_type": "execute_result",
          "data": {
            "text/plain": [
              "['sentence',\n",
              " 'the',\n",
              " 'is',\n",
              " 'this',\n",
              " 'last',\n",
              " 'final',\n",
              " 'and',\n",
              " 'more',\n",
              " 'one',\n",
              " 'another',\n",
              " 'yet',\n",
              " 'second',\n",
              " 'word2vec',\n",
              " 'for',\n",
              " 'first']"
            ]
          },
          "metadata": {},
          "execution_count": 5
        }
      ],
      "source": [
        "words"
      ]
    },
    {
      "cell_type": "code",
      "execution_count": null,
      "id": "40c867d1",
      "metadata": {
        "id": "40c867d1",
        "outputId": "a1deac91-e9fb-43f9-de83-e70d68dcd604",
        "colab": {
          "base_uri": "https://localhost:8080/"
        }
      },
      "outputs": [
        {
          "output_type": "execute_result",
          "data": {
            "text/plain": [
              "array([-1.06058049e-03,  4.47264174e-04,  1.01994919e-02,  1.80629119e-02,\n",
              "       -1.86427850e-02, -1.42561682e-02,  1.29760234e-02,  1.79636199e-02,\n",
              "       -1.00990217e-02, -7.53042474e-03,  1.47771966e-02, -3.07391817e-03,\n",
              "       -9.06720944e-03,  1.31087527e-02, -9.73224360e-03, -3.62750585e-03,\n",
              "        5.80387143e-03,  2.02352251e-03, -1.66355837e-02, -1.89565215e-02,\n",
              "        1.46455150e-02,  1.01662008e-02,  1.35671813e-02,  1.53746956e-03,\n",
              "        1.27431070e-02, -6.83339080e-03, -1.88717921e-03,  1.15930140e-02,\n",
              "       -1.50935119e-02, -7.89231062e-03, -1.50507120e-02, -1.87043264e-03,\n",
              "        1.91151258e-02, -1.46868080e-02, -4.71115345e-03, -3.91292153e-03,\n",
              "        1.62098780e-02, -1.19156707e-02,  5.56756095e-05, -9.53334570e-03,\n",
              "       -1.92272812e-02,  1.00265285e-02, -1.75463520e-02, -8.81345477e-03,\n",
              "       -8.69064843e-06, -5.69400960e-04, -1.53458025e-02,  1.92105714e-02,\n",
              "        9.96635295e-03,  1.85121242e-02], dtype=float32)"
            ]
          },
          "metadata": {},
          "execution_count": 6
        }
      ],
      "source": [
        "new_model.wv['sentence']"
      ]
    },
    {
      "cell_type": "code",
      "execution_count": null,
      "id": "e5a1bd8f",
      "metadata": {
        "id": "e5a1bd8f"
      },
      "outputs": [],
      "source": [
        "from sklearn.manifold import TSNE\n",
        "import matplotlib.pyplot as plt\n",
        "%matplotlib inline"
      ]
    },
    {
      "cell_type": "code",
      "execution_count": null,
      "id": "1854b119",
      "metadata": {
        "id": "1854b119"
      },
      "outputs": [],
      "source": [
        "def tsne_plot(model):\n",
        "    \"Creates and TSNE model and plots it\"\n",
        "    labels = []\n",
        "    tokens = []\n",
        "\n",
        "    for word in words:\n",
        "        tokens.append(new_model.wv[word])\n",
        "        labels.append(word)\n",
        "\n",
        "    tsne_model = TSNE(perplexity=40, n_components=2, init='pca', n_iter=2500, random_state=23)\n",
        "    new_values = tsne_model.fit_transform(tokens)\n",
        "\n",
        "    x = []\n",
        "    y = []\n",
        "    for value in new_values:\n",
        "        x.append(value[0])\n",
        "        y.append(value[1])\n",
        "\n",
        "    plt.figure(figsize=(10, 10))\n",
        "    for i in range(len(x)):\n",
        "        plt.scatter(x[i],y[i])\n",
        "        plt.annotate(labels[i],\n",
        "                     xy=(x[i], y[i]),\n",
        "                     xytext=(5, 2),\n",
        "                     textcoords='offset points',\n",
        "                     ha='right',\n",
        "                     va='bottom')\n",
        "    plt.show()\n",
        "    tsne_plot(new_model)"
      ]
    },
    {
      "cell_type": "code",
      "source": [
        "import numpy as np\n",
        "\n",
        "def tsne_plot(model):\n",
        "    \"Creates and TSNE model and plots it\"\n",
        "    labels = []\n",
        "    tokens = []\n",
        "\n",
        "    for word in words:\n",
        "        tokens.append(new_model.wv[word])\n",
        "        labels.append(word)\n",
        "\n",
        "    tokens = np.array(tokens)  # Convert tokens to a NumPy array\n",
        "\n",
        "    tsne_model = TSNE(perplexity=10, n_components=2, init='pca', n_iter=2500, random_state=23)\n",
        "    new_values = tsne_model.fit_transform(tokens)\n",
        "\n",
        "    x = []\n",
        "    y = []\n",
        "    for value in new_values:\n",
        "        x.append(value[0])\n",
        "        y.append(value[1])\n",
        "\n",
        "    plt.figure(figsize=(10, 10))\n",
        "    for i in range(len(x)):\n",
        "        plt.scatter(x[i],y[i])\n",
        "        plt.annotate(labels[i],\n",
        "                     xy=(x[i], y[i]),\n",
        "                     xytext=(5, 2),\n",
        "                     textcoords='offset points',\n",
        "                     ha='right',\n",
        "                     va='bottom')\n",
        "    plt.show()\n",
        "\n",
        "# Assuming `new_model` is a Word2Vec model\n",
        "tsne_plot(new_model)\n"
      ],
      "metadata": {
        "colab": {
          "base_uri": "https://localhost:8080/",
          "height": 623
        },
        "id": "7-d-R5Ea2grQ",
        "outputId": "b3695ae5-1708-4d31-d6ef-134cf1a5d4e8"
      },
      "id": "7-d-R5Ea2grQ",
      "execution_count": null,
      "outputs": [
        {
          "output_type": "display_data",
          "data": {
            "text/plain": [
              "<Figure size 1000x1000 with 1 Axes>"
            ],
            "image/png": "[encoded data removed]"
          },
          "metadata": {}
        }
      ]
    }
  ],
  "metadata": {
    "kernelspec": {
      "display_name": "Python 3",
      "language": "python",
      "name": "python3"
    },
    "language_info": {
      "codemirror_mode": {
        "name": "ipython",
        "version": 3
      },
      "file_extension": ".py",
      "mimetype": "text/x-python",
      "name": "python",
      "nbconvert_exporter": "python",
      "pygments_lexer": "ipython3",
      "version": "3.8.8"
    },
    "colab": {
      "provenance": [],
      "include_colab_link": true
    }
  },
  "nbformat": 4,
  "nbformat_minor": 5
}