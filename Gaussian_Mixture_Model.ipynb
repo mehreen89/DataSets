{
  "cells": [
    {
      "cell_type": "markdown",
      "metadata": {
        "id": "view-in-github",
        "colab_type": "text"
      },
      "source": [
        "<a href=\"https://colab.research.google.com/github/mehreen89/DataSets/blob/main/Gaussian_Mixture_Model.ipynb\" target=\"_parent\"><img src=\"https://colab.research.google.com/assets/colab-badge.svg\" alt=\"Open In Colab\"/></a>"
      ]
    },
    {
      "cell_type": "code",
      "execution_count": null,
      "id": "af69f822",
      "metadata": {
        "collapsed": true,
        "id": "af69f822",
        "outputId": "dbc93f92-b3a0-42af-e30a-b192ad0faee0"
      },
      "outputs": [
        {
          "data": {
            "text/plain": [
              "'\\nImplementing Gaussian Mixture Model on the Handwritten Digits Dataset\\nTo implement a Gaussian Mixture Model and apply it for clustering on the Handwritten Digits dataset.\\nLoad the Handwritten Digits dataset (available in libraries like scikit-learn).\\nPerform any necessary preprocessing steps like normalization.\\n# Import necessary libraries\\nfrom sklearn.datasets import load_digits\\nimport matplotlib.pyplot as plt\\n\\n# Load the dataset\\ndigits = load_digits()\\n\\n# Print the shape of the dataset\\nprint(\"Data Shape:\", digits.data.shape)\\nprint(\"Label Shape:\", digits.target.shape)\\n\\n# Display the first digit\\nplt.gray() \\nplt.matshow(digits.images[0]) \\nplt.show()\\n\\n# Print the label of the first digit\\nprint(\"Label of the first digit:\", digits.target[0])\\n\\n\\nApply your GMM implementation to cluster the handwritten digits.\\nDetermine the optimal number of clusters (which should ideally be 10, corresponding to the digits 0-9).\\nVisualization:\\nVisualize the results of your GMM clustering.\\nYou might visualize centroids of clusters in the form of digit images.\\nEvaluation and Comparison:\\nEvaluate the performance of your model using suitable metrics.\\n\\n\\n'"
            ]
          },
          "execution_count": 1,
          "metadata": {},
          "output_type": "execute_result"
        }
      ],
      "source": [
        "\"\"\"\n",
        "Implementing Gaussian Mixture Model on the Handwritten Digits Dataset\n",
        "To implement a Gaussian Mixture Model and apply it for clustering on the Handwritten Digits dataset.\n",
        "Load the Handwritten Digits dataset (available in libraries like scikit-learn).\n",
        "Perform any necessary preprocessing steps like normalization.\n",
        "# Import necessary libraries\n",
        "from sklearn.datasets import load_digits\n",
        "import matplotlib.pyplot as plt\n",
        "\n",
        "# Load the dataset\n",
        "digits = load_digits()\n",
        "\n",
        "# Print the shape of the dataset\n",
        "print(\"Data Shape:\", digits.data.shape)\n",
        "print(\"Label Shape:\", digits.target.shape)\n",
        "\n",
        "# Display the first digit\n",
        "plt.gray()\n",
        "plt.matshow(digits.images[0])\n",
        "plt.show()\n",
        "\n",
        "# Print the label of the first digit\n",
        "print(\"Label of the first digit:\", digits.target[0])\n",
        "\n",
        "\n",
        "Apply your GMM implementation to cluster the handwritten digits.\n",
        "Determine the optimal number of clusters (which should ideally be 10, corresponding to the digits 0-9).\n",
        "Visualization:\n",
        "Visualize the results of your GMM clustering.\n",
        "You might visualize centroids of clusters in the form of digit images.\n",
        "Evaluation and Comparison:\n",
        "Evaluate the performance of your model using suitable metrics.\n",
        "\n",
        "\"\"\""
      ]
    },
    {
      "cell_type": "code",
      "execution_count": null,
      "id": "3a749860",
      "metadata": {
        "id": "3a749860"
      },
      "outputs": [],
      "source": [
        "# Import Libraries\n",
        "from sklearn.datasets import load_digits\n",
        "from sklearn.mixture import GaussianMixture\n",
        "import matplotlib.pyplot as plt\n",
        "from sklearn import metrics"
      ]
    },
    {
      "cell_type": "code",
      "execution_count": null,
      "id": "b4bea95e",
      "metadata": {
        "id": "b4bea95e",
        "outputId": "c86d0e44-6964-496f-e562-3afbe528bced"
      },
      "outputs": [
        {
          "name": "stdout",
          "output_type": "stream",
          "text": [
            "Data Shape: (1797, 64)\n",
            "Label Shape: (1797,)\n"
          ]
        },
        {
          "data": {
            "text/plain": [
              "<Figure size 640x480 with 0 Axes>"
            ]
          },
          "metadata": {},
          "output_type": "display_data"
        },
        {
          "data": {
            "image/png": "[encoded data removed]",
            "text/plain": [
              "<Figure size 480x480 with 1 Axes>"
            ]
          },
          "metadata": {},
          "output_type": "display_data"
        },
        {
          "name": "stdout",
          "output_type": "stream",
          "text": [
            "Label of the first digit: 0\n"
          ]
        }
      ],
      "source": [
        "# Load the dataset\n",
        "digits = load_digits()\n",
        "\n",
        "# Print the shape of the dataset\n",
        "print(\"Data Shape:\", digits.data.shape)\n",
        "print(\"Label Shape:\", digits.target.shape)\n",
        "\n",
        "# Display the first digit\n",
        "plt.gray()\n",
        "plt.matshow(digits.images[0])\n",
        "plt.show()\n",
        "\n",
        "# Print the label of the first digit\n",
        "print(\"Label of the first digit:\", digits.target[0])"
      ]
    },
    {
      "cell_type": "code",
      "execution_count": null,
      "id": "51d6e581",
      "metadata": {
        "id": "51d6e581",
        "outputId": "7130ef50-5bbf-4d22-f017-8e2066799ff5"
      },
      "outputs": [
        {
          "data": {
            "text/plain": [
              "array([[ 0.,  0.,  5., ...,  0.,  0.,  0.],\n",
              "       [ 0.,  0.,  0., ..., 10.,  0.,  0.],\n",
              "       [ 0.,  0.,  0., ..., 16.,  9.,  0.],\n",
              "       ...,\n",
              "       [ 0.,  0.,  1., ...,  6.,  0.,  0.],\n",
              "       [ 0.,  0.,  2., ..., 12.,  0.,  0.],\n",
              "       [ 0.,  0., 10., ..., 12.,  1.,  0.]])"
            ]
          },
          "execution_count": 10,
          "metadata": {},
          "output_type": "execute_result"
        }
      ],
      "source": [
        " digits.data"
      ]
    },
    {
      "cell_type": "code",
      "execution_count": null,
      "id": "3b92868a",
      "metadata": {
        "id": "3b92868a",
        "outputId": "acab3dda-4adc-4407-b524-678cfe0298bf"
      },
      "outputs": [
        {
          "data": {
            "image/png": "[encoded data removed]",
            "text/plain": [
              "<Figure size 1000x500 with 10 Axes>"
            ]
          },
          "metadata": {},
          "output_type": "display_data"
        }
      ],
      "source": [
        "# Normalize the data\n",
        "data = digits.data / 16.0  # Normalize the pixel values between 0 and 1\n",
        "\n",
        "# Initialize Gaussian Mixture Model\n",
        "gmm = GaussianMixture(n_components=10, random_state=42)  # 10 clusters for digits 0-9\n",
        "\n",
        "# Fit the model\n",
        "gmm.fit(data)\n",
        "\n",
        "# Predict cluster labels\n",
        "predicted_labels = gmm.predict(data)\n",
        "\n",
        "# Visualize the results - centroids of clusters as digit images\n",
        "cluster_centers = gmm.means_\n",
        "\n",
        "plt.figure(figsize=(10, 5))\n",
        "for i in range(10):\n",
        "    plt.subplot(2, 5, i + 1)\n",
        "    plt.imshow(cluster_centers[i].reshape(8, 8), cmap='binary')\n",
        "    plt.title(f'Cluster {i}')\n",
        "    plt.axis('off')\n",
        "plt.tight_layout()\n",
        "plt.show()"
      ]
    },
    {
      "cell_type": "code",
      "execution_count": null,
      "id": "05b02f4f",
      "metadata": {
        "id": "05b02f4f",
        "outputId": "548fba3e-7d3d-4c55-ccf1-e89773078cde"
      },
      "outputs": [
        {
          "name": "stdout",
          "output_type": "stream",
          "text": [
            "Adjusted Rand Index (ARI): 0.7066800851519676\n",
            "Adjusted Mutual Information (AMI): 0.7899264713906426\n"
          ]
        }
      ],
      "source": [
        "# Evaluate the performance using metrics\n",
        "ari = metrics.adjusted_rand_score(digits.target, predicted_labels)\n",
        "ami = metrics.adjusted_mutual_info_score(digits.target, predicted_labels)\n",
        "\n",
        "print(f\"Adjusted Rand Index (ARI): {ari}\")\n",
        "print(f\"Adjusted Mutual Information (AMI): {ami}\")"
      ]
    },
    {
      "cell_type": "code",
      "execution_count": null,
      "id": "3b8d3cb4",
      "metadata": {
        "id": "3b8d3cb4"
      },
      "outputs": [],
      "source": []
    }
  ],
  "metadata": {
    "kernelspec": {
      "display_name": "Python 3 (ipykernel)",
      "language": "python",
      "name": "python3"
    },
    "language_info": {
      "codemirror_mode": {
        "name": "ipython",
        "version": 3
      },
      "file_extension": ".py",
      "mimetype": "text/x-python",
      "name": "python",
      "nbconvert_exporter": "python",
      "pygments_lexer": "ipython3",
      "version": "3.9.12"
    },
    "colab": {
      "provenance": [],
      "include_colab_link": true
    }
  },
  "nbformat": 4,
  "nbformat_minor": 5
}