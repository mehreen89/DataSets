{
  "metadata": {
    "kernelspec": {
      "language": "python",
      "display_name": "Python 3",
      "name": "python3"
    },
    "language_info": {
      "name": "python",
      "version": "3.7.6",
      "mimetype": "text/x-python",
      "codemirror_mode": {
        "name": "ipython",
        "version": 3
      },
      "pygments_lexer": "ipython3",
      "nbconvert_exporter": "python",
      "file_extension": ".py"
    },
    "kaggle": {
      "accelerator": "none",
      "dataSources": [
        {
          "sourceId": 1517052,
          "sourceType": "datasetVersion",
          "datasetId": 894130
        }
      ],
      "dockerImageVersionId": 30014,
      "isInternetEnabled": false,
      "language": "python",
      "sourceType": "notebook",
      "isGpuEnabled": false
    },
    "colab": {
      "provenance": [],
      "include_colab_link": true
    }
  },
  "nbformat_minor": 0,
  "nbformat": 4,
  "cells": [
    {
      "cell_type": "markdown",
      "metadata": {
        "id": "view-in-github",
        "colab_type": "text"
      },
      "source": [
        "<a href=\"https://colab.research.google.com/github/mehreen89/DataSets/blob/main/HW1_University_Admission_Prediction.ipynb\" target=\"_parent\"><img src=\"https://colab.research.google.com/assets/colab-badge.svg\" alt=\"Open In Colab\"/></a>"
      ]
    },
    {
      "cell_type": "markdown",
      "source": [
        "# University Admission Prediction"
      ],
      "metadata": {
        "id": "SHyAWkBF5MZd"
      }
    },
    {
      "cell_type": "markdown",
      "source": [
        "  In this exercise the goal is to predict weather a student can enter his/her desired university or not.\n",
        "\n",
        "  The data set, as you will see, contains the information of 400 students with 9 attributes(columns) including Serial number of each students(our we can say each sample),\n",
        "the [Graduate Record Examinations (GRE)](https://en.wikipedia.org/wiki/Graduate_Record_Examinations),\n",
        "the [Test of English as a Foreign Language (TOEFL)](https://en.wikipedia.org/wiki/Test_of_English_as_a_Foreign_Language#:~:text=The%20TOEFL%20iBT%20test%20is,to%20determine%20the%20total%20score.),\n",
        "the [statement of purpose (SOP)](https://blog.nomadcredit.com/statement-purpose-explanation-international-students/),\n",
        "the [Letter of Recommendation (LOR)](https://whizstorm.com/what-is-a-letter-of-recommendation),\n",
        "the [Culmulative Grade Point Average(CGPA)](https://byjus.com/cbse/cgpa-calculator/)\n",
        "scores, the University rating, and also weather the student has at least one research or not."
      ],
      "metadata": {
        "id": "CnWi-f1i5MZl"
      }
    },
    {
      "cell_type": "markdown",
      "source": [
        "#### The purpose is to find a good reason to use Logistic Regression and discuss about the downsides of it with respect to how we can implement it from scratch\n",
        "Lets role into the problem."
      ],
      "metadata": {
        "id": "dJt_XvNJ5MZm"
      }
    },
    {
      "cell_type": "markdown",
      "source": [
        "# Importing Basic Libararies"
      ],
      "metadata": {
        "id": "fk-GBhiO5MZn"
      }
    },
    {
      "cell_type": "code",
      "source": [
        "import numpy as np # linear algebra\n",
        "import pandas as pd # data processing, CSV file I/O (e.g. pd.read_csv)\n",
        "import matplotlib.pyplot as plt # Visualizing\n",
        "import copy"
      ],
      "metadata": {
        "_uuid": "8f2839f25d086af736a60e9eeb907d3b93b6e0e5",
        "_cell_guid": "b1076dfc-b9ad-4769-8c92-a6c4dae69d19",
        "execution": {
          "iopub.status.busy": "2023-11-18T17:41:00.117359Z",
          "iopub.execute_input": "2023-11-18T17:41:00.118016Z",
          "iopub.status.idle": "2023-11-18T17:41:00.124543Z",
          "shell.execute_reply.started": "2023-11-18T17:41:00.117975Z",
          "shell.execute_reply": "2023-11-18T17:41:00.123484Z"
        },
        "trusted": true,
        "id": "ye12ZqMx5MZo"
      },
      "execution_count": null,
      "outputs": []
    },
    {
      "cell_type": "markdown",
      "source": [
        "# Importing Our Dataset"
      ],
      "metadata": {
        "id": "RpqSYwFN5MZq"
      }
    },
    {
      "cell_type": "code",
      "source": [
        "dataset = pd.read_csv(\"../input/admission-prediction/Admission_Predict.csv\")\n",
        "pd.set_option('display.max_columns',len(dataset.columns))\n",
        "dataset.head(5)# gives us the first five of the sample dataset"
      ],
      "metadata": {
        "_uuid": "d629ff2d2480ee46fbb7e2d37f6b5fab8052498a",
        "_cell_guid": "79c7e3d0-c299-4dcb-8224-4455121ee9b0",
        "execution": {
          "iopub.status.busy": "2023-11-18T17:41:09.822891Z",
          "iopub.execute_input": "2023-11-18T17:41:09.823391Z",
          "iopub.status.idle": "2023-11-18T17:41:09.869473Z",
          "shell.execute_reply.started": "2023-11-18T17:41:09.823352Z",
          "shell.execute_reply": "2023-11-18T17:41:09.868174Z"
        },
        "trusted": true,
        "id": "ywnb_Cm75MZw",
        "outputId": "98f1c53a-7570-4414-a604-63f606701360"
      },
      "execution_count": null,
      "outputs": [
        {
          "execution_count": 4,
          "output_type": "execute_result",
          "data": {
            "text/plain": "   Serial No.  GRE Score  TOEFL Score  University Rating  SOP  LOR   CGPA  \\\n0           1        337          118                  4  4.5   4.5  9.65   \n1           2        324          107                  4  4.0   4.5  8.87   \n2           3        316          104                  3  3.0   3.5  8.00   \n3           4        322          110                  3  3.5   2.5  8.67   \n4           5        314          103                  2  2.0   3.0  8.21   \n\n   Research  Chance of Admit   \n0         1              0.92  \n1         1              0.76  \n2         1              0.72  \n3         1              0.80  \n4         0              0.65  ",
            "text/html": "<div>\n<style scoped>\n    .dataframe tbody tr th:only-of-type {\n        vertical-align: middle;\n    }\n\n    .dataframe tbody tr th {\n        vertical-align: top;\n    }\n\n    .dataframe thead th {\n        text-align: right;\n    }\n</style>\n<table border=\"1\" class=\"dataframe\">\n  <thead>\n    <tr style=\"text-align: right;\">\n      <th></th>\n      <th>Serial No.</th>\n      <th>GRE Score</th>\n      <th>TOEFL Score</th>\n      <th>University Rating</th>\n      <th>SOP</th>\n      <th>LOR</th>\n      <th>CGPA</th>\n      <th>Research</th>\n      <th>Chance of Admit</th>\n    </tr>\n  </thead>\n  <tbody>\n    <tr>\n      <th>0</th>\n      <td>1</td>\n      <td>337</td>\n      <td>118</td>\n      <td>4</td>\n      <td>4.5</td>\n      <td>4.5</td>\n      <td>9.65</td>\n      <td>1</td>\n      <td>0.92</td>\n    </tr>\n    <tr>\n      <th>1</th>\n      <td>2</td>\n      <td>324</td>\n      <td>107</td>\n      <td>4</td>\n      <td>4.0</td>\n      <td>4.5</td>\n      <td>8.87</td>\n      <td>1</td>\n      <td>0.76</td>\n    </tr>\n    <tr>\n      <th>2</th>\n      <td>3</td>\n      <td>316</td>\n      <td>104</td>\n      <td>3</td>\n      <td>3.0</td>\n      <td>3.5</td>\n      <td>8.00</td>\n      <td>1</td>\n      <td>0.72</td>\n    </tr>\n    <tr>\n      <th>3</th>\n      <td>4</td>\n      <td>322</td>\n      <td>110</td>\n      <td>3</td>\n      <td>3.5</td>\n      <td>2.5</td>\n      <td>8.67</td>\n      <td>1</td>\n      <td>0.80</td>\n    </tr>\n    <tr>\n      <th>4</th>\n      <td>5</td>\n      <td>314</td>\n      <td>103</td>\n      <td>2</td>\n      <td>2.0</td>\n      <td>3.0</td>\n      <td>8.21</td>\n      <td>0</td>\n      <td>0.65</td>\n    </tr>\n  </tbody>\n</table>\n</div>"
          },
          "metadata": {}
        }
      ]
    },
    {
      "cell_type": "code",
      "source": [
        "#Let's look at the exact columns' name\n",
        "dataset.columns"
      ],
      "metadata": {
        "execution": {
          "iopub.status.busy": "2023-11-18T17:41:32.617986Z",
          "iopub.execute_input": "2023-11-18T17:41:32.618458Z",
          "iopub.status.idle": "2023-11-18T17:41:32.625909Z",
          "shell.execute_reply.started": "2023-11-18T17:41:32.618419Z",
          "shell.execute_reply": "2023-11-18T17:41:32.625022Z"
        },
        "trusted": true,
        "id": "PzM1CIIz5MZz",
        "outputId": "4d128781-96cb-496f-9295-7c15a6f1c021"
      },
      "execution_count": null,
      "outputs": [
        {
          "execution_count": 5,
          "output_type": "execute_result",
          "data": {
            "text/plain": "Index(['Serial No.', 'GRE Score', 'TOEFL Score', 'University Rating', 'SOP',\n       'LOR ', 'CGPA', 'Research', 'Chance of Admit '],\n      dtype='object')"
          },
          "metadata": {}
        }
      ]
    },
    {
      "cell_type": "markdown",
      "source": [
        "I'll cut the Serial no. attribute because it's not going to affect our dataset"
      ],
      "metadata": {
        "id": "PCzIiTp85MZ0"
      }
    },
    {
      "cell_type": "markdown",
      "source": [],
      "metadata": {
        "id": "8BPeKXE85MZ0"
      }
    },
    {
      "cell_type": "code",
      "source": [
        "# we are goning to seprate the class label ( Chance of Admit ) from the rest.\n",
        "Y = dataset.iloc[:,-1].values\n",
        "X = dataset.drop([\"Serial No.\",\"Chance of Admit \"],axis=1)"
      ],
      "metadata": {
        "execution": {
          "iopub.status.busy": "2023-11-18T18:07:03.693632Z",
          "iopub.execute_input": "2023-11-18T18:07:03.694113Z",
          "iopub.status.idle": "2023-11-18T18:07:03.707668Z",
          "shell.execute_reply.started": "2023-11-18T18:07:03.694073Z",
          "shell.execute_reply": "2023-11-18T18:07:03.706178Z"
        },
        "trusted": true,
        "id": "oiRUKzsr5MZ6"
      },
      "execution_count": null,
      "outputs": []
    },
    {
      "cell_type": "markdown",
      "source": [
        "# Visualizing Our Dataset"
      ],
      "metadata": {
        "id": "9e05pxE35MZ7"
      }
    },
    {
      "cell_type": "markdown",
      "source": [
        "One of the most important aspect of data analyzing, is to first, have a clear vision of the dataset and finding out how we can\n",
        "rescailing, regenerating(for missing values), and most importantly imabalancing them.\n",
        "\n",
        "So lets do this step by step..."
      ],
      "metadata": {
        "id": "5l45kc5x5MZ7"
      }
    },
    {
      "cell_type": "code",
      "source": [
        "dataset.info()"
      ],
      "metadata": {
        "execution": {
          "iopub.status.busy": "2023-11-18T18:08:37.159529Z",
          "iopub.execute_input": "2023-11-18T18:08:37.160089Z",
          "iopub.status.idle": "2023-11-18T18:08:37.180116Z",
          "shell.execute_reply.started": "2023-11-18T18:08:37.160010Z",
          "shell.execute_reply": "2023-11-18T18:08:37.178878Z"
        },
        "trusted": true,
        "id": "sk-a1tLb5MaB",
        "outputId": "4144abe7-91c5-45cd-e4e0-886f359b3bae"
      },
      "execution_count": null,
      "outputs": [
        {
          "name": "stdout",
          "text": "<class 'pandas.core.frame.DataFrame'>\nRangeIndex: 400 entries, 0 to 399\nData columns (total 9 columns):\n #   Column             Non-Null Count  Dtype  \n---  ------             --------------  -----  \n 0   Serial No.         400 non-null    int64  \n 1   GRE Score          400 non-null    int64  \n 2   TOEFL Score        400 non-null    int64  \n 3   University Rating  400 non-null    int64  \n 4   SOP                400 non-null    float64\n 5   LOR                400 non-null    float64\n 6   CGPA               400 non-null    float64\n 7   Research           400 non-null    int64  \n 8   Chance of Admit    400 non-null    float64\ndtypes: float64(4), int64(5)\nmemory usage: 28.2 KB\n",
          "output_type": "stream"
        }
      ]
    },
    {
      "cell_type": "markdown",
      "source": [
        "As we can see here, we do not have any missing values.\n",
        "(the Non-Null count column)"
      ],
      "metadata": {
        "id": "s4FALlnW5MaB"
      }
    },
    {
      "cell_type": "markdown",
      "source": [
        "## Description"
      ],
      "metadata": {
        "id": "lfuOPnoj5MaC"
      }
    },
    {
      "cell_type": "code",
      "source": [
        "X.describe()"
      ],
      "metadata": {
        "execution": {
          "iopub.status.busy": "2023-11-18T18:12:38.358281Z",
          "iopub.execute_input": "2023-11-18T18:12:38.358743Z",
          "iopub.status.idle": "2023-11-18T18:12:38.404818Z",
          "shell.execute_reply.started": "2023-11-18T18:12:38.358706Z",
          "shell.execute_reply": "2023-11-18T18:12:38.403913Z"
        },
        "trusted": true,
        "id": "O7-mpFJL5MaC",
        "outputId": "3f417147-f0f6-48dc-8d92-5cee1eb835de"
      },
      "execution_count": null,
      "outputs": [
        {
          "execution_count": 8,
          "output_type": "execute_result",
          "data": {
            "text/plain": "        GRE Score  TOEFL Score  University Rating         SOP        LOR   \\\ncount  400.000000   400.000000         400.000000  400.000000  400.000000   \nmean   316.807500   107.410000           3.087500    3.400000    3.452500   \nstd     11.473646     6.069514           1.143728    1.006869    0.898478   \nmin    290.000000    92.000000           1.000000    1.000000    1.000000   \n25%    308.000000   103.000000           2.000000    2.500000    3.000000   \n50%    317.000000   107.000000           3.000000    3.500000    3.500000   \n75%    325.000000   112.000000           4.000000    4.000000    4.000000   \nmax    340.000000   120.000000           5.000000    5.000000    5.000000   \n\n             CGPA    Research  \ncount  400.000000  400.000000  \nmean     8.598925    0.547500  \nstd      0.596317    0.498362  \nmin      6.800000    0.000000  \n25%      8.170000    0.000000  \n50%      8.610000    1.000000  \n75%      9.062500    1.000000  \nmax      9.920000    1.000000  ",
            "text/html": "<div>\n<style scoped>\n    .dataframe tbody tr th:only-of-type {\n        vertical-align: middle;\n    }\n\n    .dataframe tbody tr th {\n        vertical-align: top;\n    }\n\n    .dataframe thead th {\n        text-align: right;\n    }\n</style>\n<table border=\"1\" class=\"dataframe\">\n  <thead>\n    <tr style=\"text-align: right;\">\n      <th></th>\n      <th>GRE Score</th>\n      <th>TOEFL Score</th>\n      <th>University Rating</th>\n      <th>SOP</th>\n      <th>LOR</th>\n      <th>CGPA</th>\n      <th>Research</th>\n    </tr>\n  </thead>\n  <tbody>\n    <tr>\n      <th>count</th>\n      <td>400.000000</td>\n      <td>400.000000</td>\n      <td>400.000000</td>\n      <td>400.000000</td>\n      <td>400.000000</td>\n      <td>400.000000</td>\n      <td>400.000000</td>\n    </tr>\n    <tr>\n      <th>mean</th>\n      <td>316.807500</td>\n      <td>107.410000</td>\n      <td>3.087500</td>\n      <td>3.400000</td>\n      <td>3.452500</td>\n      <td>8.598925</td>\n      <td>0.547500</td>\n    </tr>\n    <tr>\n      <th>std</th>\n      <td>11.473646</td>\n      <td>6.069514</td>\n      <td>1.143728</td>\n      <td>1.006869</td>\n      <td>0.898478</td>\n      <td>0.596317</td>\n      <td>0.498362</td>\n    </tr>\n    <tr>\n      <th>min</th>\n      <td>290.000000</td>\n      <td>92.000000</td>\n      <td>1.000000</td>\n      <td>1.000000</td>\n      <td>1.000000</td>\n      <td>6.800000</td>\n      <td>0.000000</td>\n    </tr>\n    <tr>\n      <th>25%</th>\n      <td>308.000000</td>\n      <td>103.000000</td>\n      <td>2.000000</td>\n      <td>2.500000</td>\n      <td>3.000000</td>\n      <td>8.170000</td>\n      <td>0.000000</td>\n    </tr>\n    <tr>\n      <th>50%</th>\n      <td>317.000000</td>\n      <td>107.000000</td>\n      <td>3.000000</td>\n      <td>3.500000</td>\n      <td>3.500000</td>\n      <td>8.610000</td>\n      <td>1.000000</td>\n    </tr>\n    <tr>\n      <th>75%</th>\n      <td>325.000000</td>\n      <td>112.000000</td>\n      <td>4.000000</td>\n      <td>4.000000</td>\n      <td>4.000000</td>\n      <td>9.062500</td>\n      <td>1.000000</td>\n    </tr>\n    <tr>\n      <th>max</th>\n      <td>340.000000</td>\n      <td>120.000000</td>\n      <td>5.000000</td>\n      <td>5.000000</td>\n      <td>5.000000</td>\n      <td>9.920000</td>\n      <td>1.000000</td>\n    </tr>\n  </tbody>\n</table>\n</div>"
          },
          "metadata": {}
        }
      ]
    },
    {
      "cell_type": "markdown",
      "source": [
        "**MEAN** : with having means and take a look at the median(50%) of each attribute,we can rest assured that our dataset does not contain outliers.\n",
        "*the outliers are dangarous enemies for linear regressions and logistic regression.*\n",
        "\n",
        "But, we can not rely on these information without having a survey on the histograms."
      ],
      "metadata": {
        "id": "kNWo9xuI5MaI"
      }
    },
    {
      "cell_type": "markdown",
      "source": [
        "### Histograms"
      ],
      "metadata": {
        "id": "xSFGnsG55MaI"
      }
    },
    {
      "cell_type": "code",
      "source": [
        "columns = X.columns\n",
        "fig = plt.figure(figsize=(8,8))\n",
        "for i in range(0,7):\n",
        "\n",
        "    ax = plt.subplot(3, 3, i+1)\n",
        "    ax.hist(X[columns[i]],bins = 20, color = 'blue', edgecolor = 'black')\n",
        "\n",
        "    #set title name of each\n",
        "    ax.set_title(columns[i])\n",
        "\n",
        "plt.tight_layout()\n",
        "plt.show()"
      ],
      "metadata": {
        "execution": {
          "iopub.status.busy": "2023-11-18T18:22:13.141760Z",
          "iopub.execute_input": "2023-11-18T18:22:13.142288Z",
          "iopub.status.idle": "2023-11-18T18:22:14.759815Z",
          "shell.execute_reply.started": "2023-11-18T18:22:13.142249Z",
          "shell.execute_reply": "2023-11-18T18:22:14.758352Z"
        },
        "trusted": true,
        "id": "tPO0cXLP5MaJ",
        "outputId": "700156c0-edcf-4d2e-9f2e-e70412c90157"
      },
      "execution_count": null,
      "outputs": [
        {
          "output_type": "display_data",
          "data": {
            "text/plain": "<Figure size 576x576 with 7 Axes>",
            "image/png": "[encoded data removed]"
          },
          "metadata": {
            "needs_background": "light"
          }
        }
      ]
    },
    {
      "cell_type": "markdown",
      "source": [
        "Histograms are a good informative plots to handle previous missunderstandings of our dataset, especially for continous varibale distribution.\n",
        "for instance, at the first plot of GRE score, the mean is approximatley 316, but we have biomodal distribution. In others words there is two peaks for our samples in term of this variable. in data analyzing, this means maybe, you can devide this variable into the gender subplots of students, which can lead to so much more information.\n",
        "\n",
        "Another view of the histograms of SOP, LOR they are skewed to the left. and the reason maybe its that for a good application you need to have a better scores at these exams.\n",
        "\n",
        "And so musch more information that you can get from histograms to analyizng your data.\n",
        "\n",
        "#### (if you can help to get more information from the plots abive ,i'll appriciate it:)."
      ],
      "metadata": {
        "id": "yDk7D5V85Ma3"
      }
    },
    {
      "cell_type": "markdown",
      "source": [
        "## Correlations"
      ],
      "metadata": {
        "id": "-XWXginv5Ma4"
      }
    },
    {
      "cell_type": "code",
      "source": [
        "X.corr()"
      ],
      "metadata": {
        "execution": {
          "iopub.status.busy": "2023-11-18T18:36:09.502264Z",
          "iopub.execute_input": "2023-11-18T18:36:09.502777Z",
          "iopub.status.idle": "2023-11-18T18:36:09.528906Z",
          "shell.execute_reply.started": "2023-11-18T18:36:09.502737Z",
          "shell.execute_reply": "2023-11-18T18:36:09.527007Z"
        },
        "trusted": true,
        "id": "aggoljWz5Ma4",
        "outputId": "b54fafd2-e893-497a-c4e8-4e51567d28e5"
      },
      "execution_count": null,
      "outputs": [
        {
          "execution_count": 10,
          "output_type": "execute_result",
          "data": {
            "text/plain": "                   GRE Score  TOEFL Score  University Rating       SOP  \\\nGRE Score           1.000000     0.835977           0.668976  0.612831   \nTOEFL Score         0.835977     1.000000           0.695590  0.657981   \nUniversity Rating   0.668976     0.695590           1.000000  0.734523   \nSOP                 0.612831     0.657981           0.734523  1.000000   \nLOR                 0.557555     0.567721           0.660123  0.729593   \nCGPA                0.833060     0.828417           0.746479  0.718144   \nResearch            0.580391     0.489858           0.447783  0.444029   \n\n                       LOR       CGPA  Research  \nGRE Score          0.557555  0.833060  0.580391  \nTOEFL Score        0.567721  0.828417  0.489858  \nUniversity Rating  0.660123  0.746479  0.447783  \nSOP                0.729593  0.718144  0.444029  \nLOR                1.000000  0.670211  0.396859  \nCGPA               0.670211  1.000000  0.521654  \nResearch           0.396859  0.521654  1.000000  ",
            "text/html": "<div>\n<style scoped>\n    .dataframe tbody tr th:only-of-type {\n        vertical-align: middle;\n    }\n\n    .dataframe tbody tr th {\n        vertical-align: top;\n    }\n\n    .dataframe thead th {\n        text-align: right;\n    }\n</style>\n<table border=\"1\" class=\"dataframe\">\n  <thead>\n    <tr style=\"text-align: right;\">\n      <th></th>\n      <th>GRE Score</th>\n      <th>TOEFL Score</th>\n      <th>University Rating</th>\n      <th>SOP</th>\n      <th>LOR</th>\n      <th>CGPA</th>\n      <th>Research</th>\n    </tr>\n  </thead>\n  <tbody>\n    <tr>\n      <th>GRE Score</th>\n      <td>1.000000</td>\n      <td>0.835977</td>\n      <td>0.668976</td>\n      <td>0.612831</td>\n      <td>0.557555</td>\n      <td>0.833060</td>\n      <td>0.580391</td>\n    </tr>\n    <tr>\n      <th>TOEFL Score</th>\n      <td>0.835977</td>\n      <td>1.000000</td>\n      <td>0.695590</td>\n      <td>0.657981</td>\n      <td>0.567721</td>\n      <td>0.828417</td>\n      <td>0.489858</td>\n    </tr>\n    <tr>\n      <th>University Rating</th>\n      <td>0.668976</td>\n      <td>0.695590</td>\n      <td>1.000000</td>\n      <td>0.734523</td>\n      <td>0.660123</td>\n      <td>0.746479</td>\n      <td>0.447783</td>\n    </tr>\n    <tr>\n      <th>SOP</th>\n      <td>0.612831</td>\n      <td>0.657981</td>\n      <td>0.734523</td>\n      <td>1.000000</td>\n      <td>0.729593</td>\n      <td>0.718144</td>\n      <td>0.444029</td>\n    </tr>\n    <tr>\n      <th>LOR</th>\n      <td>0.557555</td>\n      <td>0.567721</td>\n      <td>0.660123</td>\n      <td>0.729593</td>\n      <td>1.000000</td>\n      <td>0.670211</td>\n      <td>0.396859</td>\n    </tr>\n    <tr>\n      <th>CGPA</th>\n      <td>0.833060</td>\n      <td>0.828417</td>\n      <td>0.746479</td>\n      <td>0.718144</td>\n      <td>0.670211</td>\n      <td>1.000000</td>\n      <td>0.521654</td>\n    </tr>\n    <tr>\n      <th>Research</th>\n      <td>0.580391</td>\n      <td>0.489858</td>\n      <td>0.447783</td>\n      <td>0.444029</td>\n      <td>0.396859</td>\n      <td>0.521654</td>\n      <td>1.000000</td>\n    </tr>\n  </tbody>\n</table>\n</div>"
          },
          "metadata": {}
        }
      ]
    },
    {
      "cell_type": "markdown",
      "source": [
        "So, there are some correlations between attributes, but before we judge, lets have more clear vision of these correaltion with heatmap!!"
      ],
      "metadata": {
        "trusted": true,
        "id": "lQOuHDlX5MbG"
      }
    },
    {
      "cell_type": "markdown",
      "source": [
        "### Heatmap"
      ],
      "metadata": {
        "id": "rlzi_XHY5MbL"
      }
    },
    {
      "cell_type": "code",
      "source": [
        "import seaborn as sb # for vuisualizing\n",
        "fig, ax = plt.subplots(figsize=(7,7))\n",
        "sb.heatmap(X.corr(),linewidth = 0.5,annot=True)"
      ],
      "metadata": {
        "execution": {
          "iopub.status.busy": "2023-11-18T18:37:45.227323Z",
          "iopub.execute_input": "2023-11-18T18:37:45.227823Z",
          "iopub.status.idle": "2023-11-18T18:37:46.904200Z",
          "shell.execute_reply.started": "2023-11-18T18:37:45.227779Z",
          "shell.execute_reply": "2023-11-18T18:37:46.902441Z"
        },
        "trusted": true,
        "id": "GMsopj805MbM",
        "outputId": "10dcde31-005c-458d-d775-f3088e62c2f9"
      },
      "execution_count": null,
      "outputs": [
        {
          "execution_count": 11,
          "output_type": "execute_result",
          "data": {
            "text/plain": "<matplotlib.axes._subplots.AxesSubplot at 0x7ac81ab19910>"
          },
          "metadata": {}
        },
        {
          "output_type": "display_data",
          "data": {
            "text/plain": "<Figure size 504x504 with 2 Axes>",
            "image/png": "[encoded data removed]"
          },
          "metadata": {
            "needs_background": "light"
          }
        }
      ]
    },
    {
      "cell_type": "markdown",
      "source": [
        "Now we can see that there is not such a high correlation to handle it or drop some of them.\n",
        "because the value of each variance should at most be 1 or -1 to lead us to the conclusion of dropping the attributes that have correlation and using one of them based on our consideration of each.\n",
        "\n",
        "But does it always work to drop the correleated attributes?"
      ],
      "metadata": {
        "id": "LIZ_81oS5MbN"
      }
    },
    {
      "cell_type": "markdown",
      "source": [],
      "metadata": {
        "id": "GthcVcWA5MbN"
      }
    },
    {
      "cell_type": "markdown",
      "source": [
        "The answer is 'NO'.\n",
        "\n",
        "The correct answer to it is laid under Multicollinearity.\n",
        "But what is collinearitycollinearitycollinearitycollinearitycollinearitycollinearityremediesremediesremediespredictorpredictorpredictor or collinearity?\n",
        "\n",
        "> \"_In statistics, multicollinearity (also collinearity) is a phenomenon in which one predictor variable in a multiple regression model can be linearly predicted from the others with a substantial degree of accuracy._\" ___Wikipedia___\n",
        "\n",
        "According to the definition, there is kind of a relation between two or more attributes. It can affect our model by small degree. The real problem is that, if we have prefect correlation between variables, while the model are trying to find a perfect coefficient for one independent variable to predict the dependent one, it affects the coefficient of the other one, which makes it hard to estimate the coefficients independently.\n",
        "\n",
        "Obviously, this problem weakens the estimation of each independant variables, which leads us to not a perfect model to predict our dependant variables.\n",
        "But to cure this problem first you have to have a good reson for that, it's all depends on severity of the problem itself. For example if the correlation of GRE and TOEFEL is 1 or -1 then we have to solve the problem not just by dropping one of them, but by many remedies that statistically can prepare, related to Feature Engineering.\n",
        "\n",
        "Visit [Wekipedia](https://en.wikipedia.org/wiki/Multicollinearity#:~:text=Multicollinearity%20refers%20to%20a%20situation,equal%20to%201%20or%20%E2%88%921.) for more information.\n",
        "\n",
        "Lets dive into fitting our model!"
      ],
      "metadata": {
        "id": "yAdLxDGi5MbN"
      }
    },
    {
      "cell_type": "markdown",
      "source": [
        "# Seprating the train and test dataset"
      ],
      "metadata": {
        "id": "jH2NjNf75MbO"
      }
    },
    {
      "cell_type": "code",
      "source": [
        "from sklearn.model_selection import train_test_split #spiliting\n",
        "X_train,X_test,Y_train,Y_test = train_test_split(X.values,Y,test_size = 0.25,random_state = 1)"
      ],
      "metadata": {
        "execution": {
          "iopub.status.busy": "2023-11-18T18:49:41.042317Z",
          "iopub.execute_input": "2023-11-18T18:49:41.042847Z",
          "iopub.status.idle": "2023-11-18T18:49:41.185329Z",
          "shell.execute_reply.started": "2023-11-18T18:49:41.042805Z",
          "shell.execute_reply": "2023-11-18T18:49:41.184072Z"
        },
        "trusted": true,
        "id": "dDWwHOxU5MbO"
      },
      "execution_count": null,
      "outputs": []
    },
    {
      "cell_type": "markdown",
      "source": [
        "# Fitting Logistic Regression Classifier"
      ],
      "metadata": {
        "id": "MT3RPnfy5MbW"
      }
    },
    {
      "cell_type": "code",
      "source": [
        "from sklearn.linear_model import LogisticRegression # Logistic Regression to predict\n",
        "classifier = LogisticRegression(random_state =0)\n",
        "classifier.fit(X_train,Y_train)"
      ],
      "metadata": {
        "trusted": true,
        "id": "hxEEkAew5MbX",
        "outputId": "c46d5ba5-321a-49bc-bb56-3fc8df30f60f"
      },
      "execution_count": null,
      "outputs": [
        {
          "traceback": [
            "\u001b[0;31m---------------------------------------------------------------------------\u001b[0m",
            "\u001b[0;31mNameError\u001b[0m                                 Traceback (most recent call last)",
            "\u001b[0;32m<ipython-input-13-e841b4a78615>\u001b[0m in \u001b[0;36m<module>\u001b[0;34m\u001b[0m\n\u001b[0;32m----> 1\u001b[0;31m \u001b[0mclassifier\u001b[0m \u001b[0;34m=\u001b[0m \u001b[0mLogisticRegression\u001b[0m\u001b[0;34m(\u001b[0m\u001b[0mrandom_state\u001b[0m \u001b[0;34m=\u001b[0m\u001b[0;36m0\u001b[0m\u001b[0;34m)\u001b[0m\u001b[0;34m\u001b[0m\u001b[0;34m\u001b[0m\u001b[0m\n\u001b[0m",
            "\u001b[0;31mNameError\u001b[0m: name 'LogisticRegression' is not defined"
          ],
          "ename": "NameError",
          "evalue": "name 'LogisticRegression' is not defined",
          "output_type": "error"
        }
      ]
    },
    {
      "cell_type": "markdown",
      "source": [
        "OOPS.\n",
        "What's the problem?\n",
        "\n",
        "As you can see here the output of our dataset is continous to pass through for logistic regression which needs a label class; zero or one."
      ],
      "metadata": {
        "id": "Hs8MZxge5MbX"
      }
    },
    {
      "cell_type": "markdown",
      "source": [
        "\n",
        "To scale these probablity-based output to 1 or 0 we have to set threshold.\n",
        "for instance consider a sigmoid function:\n",
        "![image.png](http://res.cloudinary.com/dyd911kmh/image/upload/f_auto,q_auto:best/v1534281880/image4_gw5mmv.png)\n",
        "![image.png](https://upload.wikimedia.org/wikipedia/commons/thumb/8/88/Logistic-curve.svg/480px-Logistic-curve.svg.png)\n",
        "See!! There is a curve shifting at the exact number of 0.5 of y_axis and in logistic regression usually we choose 0.5 to conclude that the all y's above the 0.5 scale to 1 and bellow this number scale to zero.\n",
        "but that's not always our optimal cut off!!\n",
        "in the following, first we are going to use a tricky solution and after that we are going to have a scientefic reason for how to pick our optimal threshold.\n",
        "\n",
        "Then lets figuring out how to choose our threshold for labling and how to correct it?!"
      ],
      "metadata": {
        "id": "H_KYlh1v5MbY"
      }
    },
    {
      "cell_type": "markdown",
      "source": [
        "### Tricky Solution"
      ],
      "metadata": {
        "id": "fUXcmC_U5MbY"
      }
    },
    {
      "cell_type": "markdown",
      "source": [
        "one of a tricky solution is to estimate a range of thrsholding values:\n",
        "\n",
        "we will now make a possible list of our threshold and using all of them to get the best answer and result in term of accuracy by fitting a linear regression model."
      ],
      "metadata": {
        "id": "FJ9Qj3Tb5MbY"
      }
    },
    {
      "cell_type": "code",
      "source": [
        "from sklearn.metrics import confusion_matrix, accuracy_score # estiating the model\n",
        "from sklearn.linear_model import LinearRegression # use instead of logistic reg. to get probablistic output then use threshold to scale.\n",
        "\n",
        "# make an indivisual logistic_regression\n",
        "def Logistic_Regression(X_train,X_test,Y_train,Y_test,threshold = 0.5):\n",
        "    #fitting our model for current dataset\n",
        "    regressor = LinearRegression()\n",
        "    regressor.fit(X_train,Y_train)\n",
        "    #predict\n",
        "    Y_pred = regressor.predict(X_test)\n",
        "\n",
        "    Y_test_temp = copy.deepcopy(Y_test)\n",
        "    for index in range(0,len(Y_pred)):\n",
        "        if Y_pred[index] >= threshold:\n",
        "            Y_pred[index] = 1\n",
        "        else:\n",
        "            Y_pred[index] = 0\n",
        "    for index2 in range(0,len(Y_test)):\n",
        "        if Y_test[index2] >= threshold:\n",
        "            Y_test_temp[index2] = 1\n",
        "        else:\n",
        "            Y_test_temp[index2] = 0\n",
        "    return Y_test_temp,Y_pred\n",
        "\n",
        "# our threshold list\n",
        "threshold_list = [.05,.1,.15,.2,.25,.3,.35,.4,.45,.5,.55,.6,.65,.7,.75,.8,.85,.9,.95,.99]\n",
        "for i in threshold_list:\n",
        "    Y_test_temp,Y_pred = Logistic_Regression(X_train,X_test,Y_train,Y_test,threshold = i)\n",
        "\n",
        "    #now we can get the accuracy for current model\n",
        "    print(\"ACCURACY OF \",i,\" THRESHOLD : \",accuracy_score(Y_test_temp,Y_pred),'\\n')"
      ],
      "metadata": {
        "execution": {
          "iopub.status.busy": "2023-11-18T19:15:40.231586Z",
          "iopub.execute_input": "2023-11-18T19:15:40.232261Z",
          "iopub.status.idle": "2023-11-18T19:15:40.424573Z",
          "shell.execute_reply.started": "2023-11-18T19:15:40.232198Z",
          "shell.execute_reply": "2023-11-18T19:15:40.422922Z"
        },
        "trusted": true,
        "id": "KTTcD8KA5MbY",
        "outputId": "c1203e10-1aba-4dfe-f561-98083fcb27b6"
      },
      "execution_count": null,
      "outputs": [
        {
          "name": "stdout",
          "text": "ACCURACY OF  0.05  THRESHOLD :  1.0 \n\nACCURACY OF  0.1  THRESHOLD :  1.0 \n\nACCURACY OF  0.15  THRESHOLD :  1.0 \n\nACCURACY OF  0.2  THRESHOLD :  1.0 \n\nACCURACY OF  0.25  THRESHOLD :  1.0 \n\nACCURACY OF  0.3  THRESHOLD :  1.0 \n\nACCURACY OF  0.35  THRESHOLD :  0.99 \n\nACCURACY OF  0.4  THRESHOLD :  0.98 \n\nACCURACY OF  0.45  THRESHOLD :  0.96 \n\nACCURACY OF  0.5  THRESHOLD :  0.92 \n\nACCURACY OF  0.55  THRESHOLD :  0.91 \n\nACCURACY OF  0.6  THRESHOLD :  0.9 \n\nACCURACY OF  0.65  THRESHOLD :  0.81 \n\nACCURACY OF  0.7  THRESHOLD :  0.9 \n\nACCURACY OF  0.75  THRESHOLD :  0.93 \n\nACCURACY OF  0.8  THRESHOLD :  0.94 \n\nACCURACY OF  0.85  THRESHOLD :  0.96 \n\nACCURACY OF  0.9  THRESHOLD :  0.96 \n\nACCURACY OF  0.95  THRESHOLD :  0.98 \n\nACCURACY OF  0.99  THRESHOLD :  1.0 \n\n",
          "output_type": "stream"
        }
      ]
    },
    {
      "cell_type": "markdown",
      "source": [
        "as we see here, we had some values but which one to pick is a challenging decision!?\n",
        "\n",
        "The most better one doesn't always lead to better regression or model. because it can force us to over-fitting.\n",
        "according to this, we can choose 0.6 or 0.7 for instance."
      ],
      "metadata": {
        "id": "TSaJ5ztc5MbZ"
      }
    },
    {
      "cell_type": "code",
      "source": [
        "Y_test,Y_pred = Logistic_Regression(X_train,X_test,Y_train,Y_test,threshold = 0.75)\n",
        "print(\"ACCURACY OF \",0.75 ,\" THRESHOLD : \",accuracy_score(Y_test,Y_pred),'\\n')"
      ],
      "metadata": {
        "execution": {
          "iopub.status.busy": "2023-11-18T19:18:23.642466Z",
          "iopub.execute_input": "2023-11-18T19:18:23.643200Z",
          "iopub.status.idle": "2023-11-18T19:18:23.656256Z",
          "shell.execute_reply.started": "2023-11-18T19:18:23.642918Z",
          "shell.execute_reply": "2023-11-18T19:18:23.654808Z"
        },
        "trusted": true,
        "id": "i_-fygAQ5Mbi",
        "outputId": "7412b24f-844a-4f45-a091-75ebcdfcae2e"
      },
      "execution_count": null,
      "outputs": [
        {
          "name": "stdout",
          "text": "ACCURACY OF  0.75  THRESHOLD :  0.93 \n\n",
          "output_type": "stream"
        }
      ]
    },
    {
      "cell_type": "code",
      "source": [
        "# now lets see the confusion matrix of it\n",
        "cm = confusion_matrix(Y_test,Y_pred)\n",
        "print(cm)"
      ],
      "metadata": {
        "execution": {
          "iopub.status.busy": "2023-11-18T19:18:48.476804Z",
          "iopub.execute_input": "2023-11-18T19:18:48.477310Z",
          "iopub.status.idle": "2023-11-18T19:18:48.488073Z",
          "shell.execute_reply.started": "2023-11-18T19:18:48.477241Z",
          "shell.execute_reply": "2023-11-18T19:18:48.485996Z"
        },
        "trusted": true,
        "id": "25siH-s_5Mbw",
        "outputId": "d04d00fe-59e8-4416-ca1d-ecedf673c9de"
      },
      "execution_count": null,
      "outputs": [
        {
          "name": "stdout",
          "text": "[[53  2]\n [ 5 40]]\n",
          "output_type": "stream"
        }
      ]
    },
    {
      "cell_type": "markdown",
      "source": [
        "but if you are faced issues like this and also have a probablistc prediction with label class test set, you have to consider it with only words below:\n",
        "\n",
        "### The optimal cut off would be where tpr is high and fpr is low. tpr - (1-fpr) is zero or near to zero is the optimal cut off point."
      ],
      "metadata": {
        "id": "Vq9_olcA5Mbx"
      }
    },
    {
      "cell_type": "markdown",
      "source": [
        "Regardless of what happened so far, you can use this model to predict weather you can get your \"ADMISSION\" from desired univerdity or not. hope you best of luck;)\n",
        "\n",
        "Thank you so much for reading my notebook.\n",
        "plaese send me feedback about my mistakes, i'll appreciate you, correct me.\n"
      ],
      "metadata": {
        "trusted": true,
        "id": "i5t9BPiS5Mbx"
      }
    },
    {
      "cell_type": "markdown",
      "source": [
        "# THE END.\n"
      ],
      "metadata": {
        "trusted": true,
        "id": "Rghx6pxH5Mby"
      }
    },
    {
      "cell_type": "code",
      "source": [],
      "metadata": {
        "trusted": true,
        "id": "0EG6mifL5McG"
      },
      "execution_count": null,
      "outputs": []
    }
  ]
}