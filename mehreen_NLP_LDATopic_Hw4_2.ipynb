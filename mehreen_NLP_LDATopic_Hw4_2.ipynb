{
  "cells": [
    {
      "cell_type": "markdown",
      "metadata": {
        "id": "view-in-github",
        "colab_type": "text"
      },
      "source": [
        "<a href=\"https://colab.research.google.com/github/mehreen89/DataSets/blob/main/mehreen_NLP_LDATopic_Hw4_2.ipynb\" target=\"_parent\"><img src=\"https://colab.research.google.com/assets/colab-badge.svg\" alt=\"Open In Colab\"/></a>"
      ]
    },
    {
      "cell_type": "markdown",
      "id": "a7090a34",
      "metadata": {
        "id": "a7090a34"
      },
      "source": [
        "### \"Amazon-Alexa\" Topic modeling with Gensim"
      ]
    },
    {
      "cell_type": "markdown",
      "id": "a31ba62a",
      "metadata": {
        "id": "a31ba62a"
      },
      "source": [
        "#### https://www.machinelearningplus.com/nlp/topic-modeling-gensim-python/"
      ]
    },
    {
      "cell_type": "markdown",
      "id": "6bfb0826",
      "metadata": {
        "id": "6bfb0826"
      },
      "source": [
        "### import the required libraries"
      ]
    },
    {
      "cell_type": "code",
      "execution_count": null,
      "id": "cf900889",
      "metadata": {
        "id": "cf900889"
      },
      "outputs": [],
      "source": [
        "import pandas as pd\n",
        "import numpy as np\n",
        "from sklearn.feature_extraction.text import CountVectorizer,TfidfVectorizer\n",
        "from sklearn.base import TransformerMixin\n",
        "from sklearn.pipeline import Pipeline\n",
        "\n",
        "import warnings\n",
        "warnings.filterwarnings(\"ignore\",category=DeprecationWarning)"
      ]
    },
    {
      "cell_type": "code",
      "execution_count": null,
      "id": "884753f3",
      "metadata": {
        "id": "884753f3"
      },
      "outputs": [],
      "source": [
        "from nltk.tokenize import word_tokenize\n",
        "from gensim.models import Word2Vec\n",
        "from gensim.models import KeyedVectors"
      ]
    },
    {
      "cell_type": "code",
      "execution_count": null,
      "id": "e94ede2b",
      "metadata": {
        "id": "e94ede2b",
        "outputId": "38b24231-cb80-4f56-eee6-20ef315ac8db",
        "colab": {
          "base_uri": "https://localhost:8080/"
        }
      },
      "outputs": [
        {
          "output_type": "stream",
          "name": "stderr",
          "text": [
            "[nltk_data] Downloading package stopwords to /root/nltk_data...\n",
            "[nltk_data]   Package stopwords is already up-to-date!\n"
          ]
        }
      ],
      "source": [
        "import nltk\n",
        "nltk.download('stopwords')\n",
        "from nltk.corpus import stopwords\n",
        "stop_words=set(stopwords.words('english'))"
      ]
    },
    {
      "cell_type": "code",
      "execution_count": null,
      "id": "eb1b33fa",
      "metadata": {
        "id": "eb1b33fa",
        "colab": {
          "base_uri": "https://localhost:8080/"
        },
        "outputId": "7bec7757-aa5b-476f-d7fd-9d1671e0760a"
      },
      "outputs": [
        {
          "output_type": "stream",
          "name": "stdout",
          "text": [
            "Looking in indexes: https://pypi.org/simple, https://us-python.pkg.dev/colab-wheels/public/simple/\n",
            "Requirement already satisfied: gensim in /usr/local/lib/python3.10/dist-packages (4.3.1)\n",
            "Requirement already satisfied: numpy>=1.18.5 in /usr/local/lib/python3.10/dist-packages (from gensim) (1.22.4)\n",
            "Requirement already satisfied: scipy>=1.7.0 in /usr/local/lib/python3.10/dist-packages (from gensim) (1.10.1)\n",
            "Requirement already satisfied: smart-open>=1.8.1 in /usr/local/lib/python3.10/dist-packages (from gensim) (6.3.0)\n"
          ]
        }
      ],
      "source": [
        "# Gensim\n",
        "\n",
        "!pip install gensim\n",
        "import gensim\n",
        "import gensim.corpora as corpora\n",
        "from gensim.utils import simple_preprocess\n",
        "from gensim.models import CoherenceModel"
      ]
    },
    {
      "cell_type": "code",
      "execution_count": null,
      "id": "c16505a9",
      "metadata": {
        "id": "c16505a9"
      },
      "outputs": [],
      "source": [
        "import matplotlib.pyplot as plt\n",
        "%matplotlib inline"
      ]
    },
    {
      "cell_type": "markdown",
      "id": "6aa41277",
      "metadata": {
        "id": "6aa41277"
      },
      "source": [
        "### Load the input data ( \"amazon alexa reviews data\")"
      ]
    },
    {
      "cell_type": "code",
      "execution_count": null,
      "id": "70957477",
      "metadata": {
        "id": "70957477"
      },
      "outputs": [],
      "source": [
        "# Loading TSV file\n",
        "df_amazon = pd.read_csv (\"/content/amazon_alexa.tsv\", sep=\"\\t\")"
      ]
    },
    {
      "cell_type": "code",
      "execution_count": null,
      "id": "3e5c0de3",
      "metadata": {
        "id": "3e5c0de3",
        "outputId": "ae5c14ec-9738-47f5-c42b-cc0e06cf2dcf",
        "colab": {
          "base_uri": "https://localhost:8080/",
          "height": 206
        }
      },
      "outputs": [
        {
          "output_type": "execute_result",
          "data": {
            "text/plain": [
              "   rating       date         variation  \\\n",
              "0       5  31-Jul-18  Charcoal Fabric    \n",
              "1       5  31-Jul-18  Charcoal Fabric    \n",
              "2       4  31-Jul-18    Walnut Finish    \n",
              "3       5  31-Jul-18  Charcoal Fabric    \n",
              "4       5  31-Jul-18  Charcoal Fabric    \n",
              "\n",
              "                                    verified_reviews  feedback  \n",
              "0                                      Love my Echo!         1  \n",
              "1                                          Loved it!         1  \n",
              "2  Sometimes while playing a game, you can answer...         1  \n",
              "3  I have had a lot of fun with this thing. My 4 ...         1  \n",
              "4                                              Music         1  "
            ],
            "text/html": [
              "\n",
              "  <div id=\"df-b8096d2b-644e-4ac3-b6a3-06f0c9173b04\">\n",
              "    <div class=\"colab-df-container\">\n",
              "      <div>\n",
              "<style scoped>\n",
              "    .dataframe tbody tr th:only-of-type {\n",
              "        vertical-align: middle;\n",
              "    }\n",
              "\n",
              "    .dataframe tbody tr th {\n",
              "        vertical-align: top;\n",
              "    }\n",
              "\n",
              "    .dataframe thead th {\n",
              "        text-align: right;\n",
              "    }\n",
              "</style>\n",
              "<table border=\"1\" class=\"dataframe\">\n",
              "  <thead>\n",
              "    <tr style=\"text-align: right;\">\n",
              "      <th></th>\n",
              "      <th>rating</th>\n",
              "      <th>date</th>\n",
              "      <th>variation</th>\n",
              "      <th>verified_reviews</th>\n",
              "      <th>feedback</th>\n",
              "    </tr>\n",
              "  </thead>\n",
              "  <tbody>\n",
              "    <tr>\n",
              "      <th>0</th>\n",
              "      <td>5</td>\n",
              "      <td>31-Jul-18</td>\n",
              "      <td>Charcoal Fabric</td>\n",
              "      <td>Love my Echo!</td>\n",
              "      <td>1</td>\n",
              "    </tr>\n",
              "    <tr>\n",
              "      <th>1</th>\n",
              "      <td>5</td>\n",
              "      <td>31-Jul-18</td>\n",
              "      <td>Charcoal Fabric</td>\n",
              "      <td>Loved it!</td>\n",
              "      <td>1</td>\n",
              "    </tr>\n",
              "    <tr>\n",
              "      <th>2</th>\n",
              "      <td>4</td>\n",
              "      <td>31-Jul-18</td>\n",
              "      <td>Walnut Finish</td>\n",
              "      <td>Sometimes while playing a game, you can answer...</td>\n",
              "      <td>1</td>\n",
              "    </tr>\n",
              "    <tr>\n",
              "      <th>3</th>\n",
              "      <td>5</td>\n",
              "      <td>31-Jul-18</td>\n",
              "      <td>Charcoal Fabric</td>\n",
              "      <td>I have had a lot of fun with this thing. My 4 ...</td>\n",
              "      <td>1</td>\n",
              "    </tr>\n",
              "    <tr>\n",
              "      <th>4</th>\n",
              "      <td>5</td>\n",
              "      <td>31-Jul-18</td>\n",
              "      <td>Charcoal Fabric</td>\n",
              "      <td>Music</td>\n",
              "      <td>1</td>\n",
              "    </tr>\n",
              "  </tbody>\n",
              "</table>\n",
              "</div>\n",
              "      <button class=\"colab-df-convert\" onclick=\"convertToInteractive('df-b8096d2b-644e-4ac3-b6a3-06f0c9173b04')\"\n",
              "              title=\"Convert this dataframe to an interactive table.\"\n",
              "              style=\"display:none;\">\n",
              "        \n",
              "  <svg xmlns=\"http://www.w3.org/2000/svg\" height=\"24px\"viewBox=\"0 0 24 24\"\n",
              "       width=\"24px\">\n",
              "    <path d=\"M0 0h24v24H0V0z\" fill=\"none\"/>\n",
              "    <path d=\"M18.56 5.44l.94 2.06.94-2.06 2.06-.94-2.06-.94-.94-2.06-.94 2.06-2.06.94zm-11 1L8.5 8.5l.94-2.06 2.06-.94-2.06-.94L8.5 2.5l-.94 2.06-2.06.94zm10 10l.94 2.06.94-2.06 2.06-.94-2.06-.94-.94-2.06-.94 2.06-2.06.94z\"/><path d=\"M17.41 7.96l-1.37-1.37c-.4-.4-.92-.59-1.43-.59-.52 0-1.04.2-1.43.59L10.3 9.45l-7.72 7.72c-.78.78-.78 2.05 0 2.83L4 21.41c.39.39.9.59 1.41.59.51 0 1.02-.2 1.41-.59l7.78-7.78 2.81-2.81c.8-.78.8-2.07 0-2.86zM5.41 20L4 18.59l7.72-7.72 1.47 1.35L5.41 20z\"/>\n",
              "  </svg>\n",
              "      </button>\n",
              "      \n",
              "  <style>\n",
              "    .colab-df-container {\n",
              "      display:flex;\n",
              "      flex-wrap:wrap;\n",
              "      gap: 12px;\n",
              "    }\n",
              "\n",
              "    .colab-df-convert {\n",
              "      background-color: #E8F0FE;\n",
              "      border: none;\n",
              "      border-radius: 50%;\n",
              "      cursor: pointer;\n",
              "      display: none;\n",
              "      fill: #1967D2;\n",
              "      height: 32px;\n",
              "      padding: 0 0 0 0;\n",
              "      width: 32px;\n",
              "    }\n",
              "\n",
              "    .colab-df-convert:hover {\n",
              "      background-color: #E2EBFA;\n",
              "      box-shadow: 0px 1px 2px rgba(60, 64, 67, 0.3), 0px 1px 3px 1px rgba(60, 64, 67, 0.15);\n",
              "      fill: #174EA6;\n",
              "    }\n",
              "\n",
              "    [theme=dark] .colab-df-convert {\n",
              "      background-color: #3B4455;\n",
              "      fill: #D2E3FC;\n",
              "    }\n",
              "\n",
              "    [theme=dark] .colab-df-convert:hover {\n",
              "      background-color: #434B5C;\n",
              "      box-shadow: 0px 1px 3px 1px rgba(0, 0, 0, 0.15);\n",
              "      filter: drop-shadow(0px 1px 2px rgba(0, 0, 0, 0.3));\n",
              "      fill: #FFFFFF;\n",
              "    }\n",
              "  </style>\n",
              "\n",
              "      <script>\n",
              "        const buttonEl =\n",
              "          document.querySelector('#df-b8096d2b-644e-4ac3-b6a3-06f0c9173b04 button.colab-df-convert');\n",
              "        buttonEl.style.display =\n",
              "          google.colab.kernel.accessAllowed ? 'block' : 'none';\n",
              "\n",
              "        async function convertToInteractive(key) {\n",
              "          const element = document.querySelector('#df-b8096d2b-644e-4ac3-b6a3-06f0c9173b04');\n",
              "          const dataTable =\n",
              "            await google.colab.kernel.invokeFunction('convertToInteractive',\n",
              "                                                     [key], {});\n",
              "          if (!dataTable) return;\n",
              "\n",
              "          const docLinkHtml = 'Like what you see? Visit the ' +\n",
              "            '<a target=\"_blank\" href=https://colab.research.google.com/notebooks/data_table.ipynb>data table notebook</a>'\n",
              "            + ' to learn more about interactive tables.';\n",
              "          element.innerHTML = '';\n",
              "          dataTable['output_type'] = 'display_data';\n",
              "          await google.colab.output.renderOutput(dataTable, element);\n",
              "          const docLink = document.createElement('div');\n",
              "          docLink.innerHTML = docLinkHtml;\n",
              "          element.appendChild(docLink);\n",
              "        }\n",
              "      </script>\n",
              "    </div>\n",
              "  </div>\n",
              "  "
            ]
          },
          "metadata": {},
          "execution_count": 141
        }
      ],
      "source": [
        "# Top 5 records\n",
        "df_amazon.head()"
      ]
    },
    {
      "cell_type": "code",
      "execution_count": null,
      "id": "1063415e",
      "metadata": {
        "id": "1063415e",
        "outputId": "dcab78fa-4847-4566-ca4e-cf556ed31286",
        "colab": {
          "base_uri": "https://localhost:8080/",
          "height": 206
        }
      },
      "outputs": [
        {
          "output_type": "execute_result",
          "data": {
            "text/plain": [
              "                                    verified_reviews  feedback\n",
              "0                                      Love my Echo!         1\n",
              "1                                          Loved it!         1\n",
              "2  Sometimes while playing a game, you can answer...         1\n",
              "3  I have had a lot of fun with this thing. My 4 ...         1\n",
              "4                                              Music         1"
            ],
            "text/html": [
              "\n",
              "  <div id=\"df-625dd2f4-3938-489e-afcb-799e85f797ac\">\n",
              "    <div class=\"colab-df-container\">\n",
              "      <div>\n",
              "<style scoped>\n",
              "    .dataframe tbody tr th:only-of-type {\n",
              "        vertical-align: middle;\n",
              "    }\n",
              "\n",
              "    .dataframe tbody tr th {\n",
              "        vertical-align: top;\n",
              "    }\n",
              "\n",
              "    .dataframe thead th {\n",
              "        text-align: right;\n",
              "    }\n",
              "</style>\n",
              "<table border=\"1\" class=\"dataframe\">\n",
              "  <thead>\n",
              "    <tr style=\"text-align: right;\">\n",
              "      <th></th>\n",
              "      <th>verified_reviews</th>\n",
              "      <th>feedback</th>\n",
              "    </tr>\n",
              "  </thead>\n",
              "  <tbody>\n",
              "    <tr>\n",
              "      <th>0</th>\n",
              "      <td>Love my Echo!</td>\n",
              "      <td>1</td>\n",
              "    </tr>\n",
              "    <tr>\n",
              "      <th>1</th>\n",
              "      <td>Loved it!</td>\n",
              "      <td>1</td>\n",
              "    </tr>\n",
              "    <tr>\n",
              "      <th>2</th>\n",
              "      <td>Sometimes while playing a game, you can answer...</td>\n",
              "      <td>1</td>\n",
              "    </tr>\n",
              "    <tr>\n",
              "      <th>3</th>\n",
              "      <td>I have had a lot of fun with this thing. My 4 ...</td>\n",
              "      <td>1</td>\n",
              "    </tr>\n",
              "    <tr>\n",
              "      <th>4</th>\n",
              "      <td>Music</td>\n",
              "      <td>1</td>\n",
              "    </tr>\n",
              "  </tbody>\n",
              "</table>\n",
              "</div>\n",
              "      <button class=\"colab-df-convert\" onclick=\"convertToInteractive('df-625dd2f4-3938-489e-afcb-799e85f797ac')\"\n",
              "              title=\"Convert this dataframe to an interactive table.\"\n",
              "              style=\"display:none;\">\n",
              "        \n",
              "  <svg xmlns=\"http://www.w3.org/2000/svg\" height=\"24px\"viewBox=\"0 0 24 24\"\n",
              "       width=\"24px\">\n",
              "    <path d=\"M0 0h24v24H0V0z\" fill=\"none\"/>\n",
              "    <path d=\"M18.56 5.44l.94 2.06.94-2.06 2.06-.94-2.06-.94-.94-2.06-.94 2.06-2.06.94zm-11 1L8.5 8.5l.94-2.06 2.06-.94-2.06-.94L8.5 2.5l-.94 2.06-2.06.94zm10 10l.94 2.06.94-2.06 2.06-.94-2.06-.94-.94-2.06-.94 2.06-2.06.94z\"/><path d=\"M17.41 7.96l-1.37-1.37c-.4-.4-.92-.59-1.43-.59-.52 0-1.04.2-1.43.59L10.3 9.45l-7.72 7.72c-.78.78-.78 2.05 0 2.83L4 21.41c.39.39.9.59 1.41.59.51 0 1.02-.2 1.41-.59l7.78-7.78 2.81-2.81c.8-.78.8-2.07 0-2.86zM5.41 20L4 18.59l7.72-7.72 1.47 1.35L5.41 20z\"/>\n",
              "  </svg>\n",
              "      </button>\n",
              "      \n",
              "  <style>\n",
              "    .colab-df-container {\n",
              "      display:flex;\n",
              "      flex-wrap:wrap;\n",
              "      gap: 12px;\n",
              "    }\n",
              "\n",
              "    .colab-df-convert {\n",
              "      background-color: #E8F0FE;\n",
              "      border: none;\n",
              "      border-radius: 50%;\n",
              "      cursor: pointer;\n",
              "      display: none;\n",
              "      fill: #1967D2;\n",
              "      height: 32px;\n",
              "      padding: 0 0 0 0;\n",
              "      width: 32px;\n",
              "    }\n",
              "\n",
              "    .colab-df-convert:hover {\n",
              "      background-color: #E2EBFA;\n",
              "      box-shadow: 0px 1px 2px rgba(60, 64, 67, 0.3), 0px 1px 3px 1px rgba(60, 64, 67, 0.15);\n",
              "      fill: #174EA6;\n",
              "    }\n",
              "\n",
              "    [theme=dark] .colab-df-convert {\n",
              "      background-color: #3B4455;\n",
              "      fill: #D2E3FC;\n",
              "    }\n",
              "\n",
              "    [theme=dark] .colab-df-convert:hover {\n",
              "      background-color: #434B5C;\n",
              "      box-shadow: 0px 1px 3px 1px rgba(0, 0, 0, 0.15);\n",
              "      filter: drop-shadow(0px 1px 2px rgba(0, 0, 0, 0.3));\n",
              "      fill: #FFFFFF;\n",
              "    }\n",
              "  </style>\n",
              "\n",
              "      <script>\n",
              "        const buttonEl =\n",
              "          document.querySelector('#df-625dd2f4-3938-489e-afcb-799e85f797ac button.colab-df-convert');\n",
              "        buttonEl.style.display =\n",
              "          google.colab.kernel.accessAllowed ? 'block' : 'none';\n",
              "\n",
              "        async function convertToInteractive(key) {\n",
              "          const element = document.querySelector('#df-625dd2f4-3938-489e-afcb-799e85f797ac');\n",
              "          const dataTable =\n",
              "            await google.colab.kernel.invokeFunction('convertToInteractive',\n",
              "                                                     [key], {});\n",
              "          if (!dataTable) return;\n",
              "\n",
              "          const docLinkHtml = 'Like what you see? Visit the ' +\n",
              "            '<a target=\"_blank\" href=https://colab.research.google.com/notebooks/data_table.ipynb>data table notebook</a>'\n",
              "            + ' to learn more about interactive tables.';\n",
              "          element.innerHTML = '';\n",
              "          dataTable['output_type'] = 'display_data';\n",
              "          await google.colab.output.renderOutput(dataTable, element);\n",
              "          const docLink = document.createElement('div');\n",
              "          docLink.innerHTML = docLinkHtml;\n",
              "          element.appendChild(docLink);\n",
              "        }\n",
              "      </script>\n",
              "    </div>\n",
              "  </div>\n",
              "  "
            ]
          },
          "metadata": {},
          "execution_count": 142
        }
      ],
      "source": [
        "df_amazon_mod = df_amazon[['verified_reviews','feedback']]\n",
        "df_amazon_mod.head()"
      ]
    },
    {
      "cell_type": "code",
      "source": [
        "import re\n",
        "import nltk\n",
        "from nltk.corpus import stopwords\n",
        "\n",
        "# Download the stopwords if not already downloaded\n",
        "nltk.download('stopwords')\n",
        "\n",
        "# Define the stop words\n",
        "stop_words = set(stopwords.words('english'))\n",
        "\n",
        "def clean(string):\n",
        "    string = str(string)\n",
        "    cleanString = re.sub('[^A-Za-z]+', ' ', string)\n",
        "    return cleanString\n",
        "\n",
        "df_amazon_mod['reviews_non_numeric'] = df_amazon_mod['verified_reviews'].map(clean)\n",
        "df_amazon_mod['reviews_len_trim'] = df_amazon_mod['reviews_non_numeric'].apply(lambda x: ' '.join([w for w in x.split() if len(w) > 2]))\n",
        "df_amazon_mod['reviews_Tokenized'] = df_amazon_mod['reviews_len_trim'].map(lambda x: x.lower().split())\n",
        "df_amazon_mod['reviews_Tokenized_stop'] = df_amazon_mod['reviews_Tokenized'].map(lambda x: \" \".join(x for x in x if x not in stop_words))\n",
        "df_amazon_mod['reviews_Tokenized_stop'] = df_amazon_mod['reviews_Tokenized_stop'].map(lambda x: x.split())\n"
      ],
      "metadata": {
        "id": "azD1LqjBG5Bk",
        "colab": {
          "base_uri": "https://localhost:8080/"
        },
        "outputId": "61126324-0b59-4f74-90f7-97a65d14f002"
      },
      "id": "azD1LqjBG5Bk",
      "execution_count": null,
      "outputs": [
        {
          "output_type": "stream",
          "name": "stderr",
          "text": [
            "[nltk_data] Downloading package stopwords to /root/nltk_data...\n",
            "[nltk_data]   Package stopwords is already up-to-date!\n",
            "<ipython-input-143-04192bceb33e>:16: SettingWithCopyWarning: \n",
            "A value is trying to be set on a copy of a slice from a DataFrame.\n",
            "Try using .loc[row_indexer,col_indexer] = value instead\n",
            "\n",
            "See the caveats in the documentation: https://pandas.pydata.org/pandas-docs/stable/user_guide/indexing.html#returning-a-view-versus-a-copy\n",
            "  df_amazon_mod['reviews_non_numeric'] = df_amazon_mod['verified_reviews'].map(clean)\n",
            "<ipython-input-143-04192bceb33e>:17: SettingWithCopyWarning: \n",
            "A value is trying to be set on a copy of a slice from a DataFrame.\n",
            "Try using .loc[row_indexer,col_indexer] = value instead\n",
            "\n",
            "See the caveats in the documentation: https://pandas.pydata.org/pandas-docs/stable/user_guide/indexing.html#returning-a-view-versus-a-copy\n",
            "  df_amazon_mod['reviews_len_trim'] = df_amazon_mod['reviews_non_numeric'].apply(lambda x: ' '.join([w for w in x.split() if len(w) > 2]))\n"
          ]
        }
      ]
    },
    {
      "cell_type": "code",
      "execution_count": null,
      "id": "554d39e3",
      "metadata": {
        "id": "554d39e3",
        "outputId": "05d0510a-d074-41b8-b83d-a247d90067db",
        "colab": {
          "base_uri": "https://localhost:8080/",
          "height": 340
        }
      },
      "outputs": [
        {
          "output_type": "execute_result",
          "data": {
            "text/plain": [
              "                                    verified_reviews  feedback  \\\n",
              "0                                      Love my Echo!         1   \n",
              "1                                          Loved it!         1   \n",
              "2  Sometimes while playing a game, you can answer...         1   \n",
              "3  I have had a lot of fun with this thing. My 4 ...         1   \n",
              "4                                              Music         1   \n",
              "\n",
              "                                 reviews_non_numeric  \\\n",
              "0                                      Love my Echo    \n",
              "1                                          Loved it    \n",
              "2  Sometimes while playing a game you can answer ...   \n",
              "3  I have had a lot of fun with this thing My yr ...   \n",
              "4                                              Music   \n",
              "\n",
              "                                    reviews_len_trim  \\\n",
              "0                                          Love Echo   \n",
              "1                                              Loved   \n",
              "2  Sometimes while playing game you can answer qu...   \n",
              "3  have had lot fun with this thing old learns ab...   \n",
              "4                                              Music   \n",
              "\n",
              "                                   reviews_Tokenized  \\\n",
              "0                                       [love, echo]   \n",
              "1                                            [loved]   \n",
              "2  [sometimes, while, playing, game, you, can, an...   \n",
              "3  [have, had, lot, fun, with, this, thing, old, ...   \n",
              "4                                            [music]   \n",
              "\n",
              "                              reviews_Tokenized_stop  \n",
              "0                                       [love, echo]  \n",
              "1                                            [loved]  \n",
              "2  [sometimes, playing, game, answer, question, c...  \n",
              "3  [lot, fun, thing, old, learns, dinosaurs, cont...  \n",
              "4                                            [music]  "
            ],
            "text/html": [
              "\n",
              "  <div id=\"df-adffa595-c550-4948-92ed-129a6067ce1c\">\n",
              "    <div class=\"colab-df-container\">\n",
              "      <div>\n",
              "<style scoped>\n",
              "    .dataframe tbody tr th:only-of-type {\n",
              "        vertical-align: middle;\n",
              "    }\n",
              "\n",
              "    .dataframe tbody tr th {\n",
              "        vertical-align: top;\n",
              "    }\n",
              "\n",
              "    .dataframe thead th {\n",
              "        text-align: right;\n",
              "    }\n",
              "</style>\n",
              "<table border=\"1\" class=\"dataframe\">\n",
              "  <thead>\n",
              "    <tr style=\"text-align: right;\">\n",
              "      <th></th>\n",
              "      <th>verified_reviews</th>\n",
              "      <th>feedback</th>\n",
              "      <th>reviews_non_numeric</th>\n",
              "      <th>reviews_len_trim</th>\n",
              "      <th>reviews_Tokenized</th>\n",
              "      <th>reviews_Tokenized_stop</th>\n",
              "    </tr>\n",
              "  </thead>\n",
              "  <tbody>\n",
              "    <tr>\n",
              "      <th>0</th>\n",
              "      <td>Love my Echo!</td>\n",
              "      <td>1</td>\n",
              "      <td>Love my Echo</td>\n",
              "      <td>Love Echo</td>\n",
              "      <td>[love, echo]</td>\n",
              "      <td>[love, echo]</td>\n",
              "    </tr>\n",
              "    <tr>\n",
              "      <th>1</th>\n",
              "      <td>Loved it!</td>\n",
              "      <td>1</td>\n",
              "      <td>Loved it</td>\n",
              "      <td>Loved</td>\n",
              "      <td>[loved]</td>\n",
              "      <td>[loved]</td>\n",
              "    </tr>\n",
              "    <tr>\n",
              "      <th>2</th>\n",
              "      <td>Sometimes while playing a game, you can answer...</td>\n",
              "      <td>1</td>\n",
              "      <td>Sometimes while playing a game you can answer ...</td>\n",
              "      <td>Sometimes while playing game you can answer qu...</td>\n",
              "      <td>[sometimes, while, playing, game, you, can, an...</td>\n",
              "      <td>[sometimes, playing, game, answer, question, c...</td>\n",
              "    </tr>\n",
              "    <tr>\n",
              "      <th>3</th>\n",
              "      <td>I have had a lot of fun with this thing. My 4 ...</td>\n",
              "      <td>1</td>\n",
              "      <td>I have had a lot of fun with this thing My yr ...</td>\n",
              "      <td>have had lot fun with this thing old learns ab...</td>\n",
              "      <td>[have, had, lot, fun, with, this, thing, old, ...</td>\n",
              "      <td>[lot, fun, thing, old, learns, dinosaurs, cont...</td>\n",
              "    </tr>\n",
              "    <tr>\n",
              "      <th>4</th>\n",
              "      <td>Music</td>\n",
              "      <td>1</td>\n",
              "      <td>Music</td>\n",
              "      <td>Music</td>\n",
              "      <td>[music]</td>\n",
              "      <td>[music]</td>\n",
              "    </tr>\n",
              "  </tbody>\n",
              "</table>\n",
              "</div>\n",
              "      <button class=\"colab-df-convert\" onclick=\"convertToInteractive('df-adffa595-c550-4948-92ed-129a6067ce1c')\"\n",
              "              title=\"Convert this dataframe to an interactive table.\"\n",
              "              style=\"display:none;\">\n",
              "        \n",
              "  <svg xmlns=\"http://www.w3.org/2000/svg\" height=\"24px\"viewBox=\"0 0 24 24\"\n",
              "       width=\"24px\">\n",
              "    <path d=\"M0 0h24v24H0V0z\" fill=\"none\"/>\n",
              "    <path d=\"M18.56 5.44l.94 2.06.94-2.06 2.06-.94-2.06-.94-.94-2.06-.94 2.06-2.06.94zm-11 1L8.5 8.5l.94-2.06 2.06-.94-2.06-.94L8.5 2.5l-.94 2.06-2.06.94zm10 10l.94 2.06.94-2.06 2.06-.94-2.06-.94-.94-2.06-.94 2.06-2.06.94z\"/><path d=\"M17.41 7.96l-1.37-1.37c-.4-.4-.92-.59-1.43-.59-.52 0-1.04.2-1.43.59L10.3 9.45l-7.72 7.72c-.78.78-.78 2.05 0 2.83L4 21.41c.39.39.9.59 1.41.59.51 0 1.02-.2 1.41-.59l7.78-7.78 2.81-2.81c.8-.78.8-2.07 0-2.86zM5.41 20L4 18.59l7.72-7.72 1.47 1.35L5.41 20z\"/>\n",
              "  </svg>\n",
              "      </button>\n",
              "      \n",
              "  <style>\n",
              "    .colab-df-container {\n",
              "      display:flex;\n",
              "      flex-wrap:wrap;\n",
              "      gap: 12px;\n",
              "    }\n",
              "\n",
              "    .colab-df-convert {\n",
              "      background-color: #E8F0FE;\n",
              "      border: none;\n",
              "      border-radius: 50%;\n",
              "      cursor: pointer;\n",
              "      display: none;\n",
              "      fill: #1967D2;\n",
              "      height: 32px;\n",
              "      padding: 0 0 0 0;\n",
              "      width: 32px;\n",
              "    }\n",
              "\n",
              "    .colab-df-convert:hover {\n",
              "      background-color: #E2EBFA;\n",
              "      box-shadow: 0px 1px 2px rgba(60, 64, 67, 0.3), 0px 1px 3px 1px rgba(60, 64, 67, 0.15);\n",
              "      fill: #174EA6;\n",
              "    }\n",
              "\n",
              "    [theme=dark] .colab-df-convert {\n",
              "      background-color: #3B4455;\n",
              "      fill: #D2E3FC;\n",
              "    }\n",
              "\n",
              "    [theme=dark] .colab-df-convert:hover {\n",
              "      background-color: #434B5C;\n",
              "      box-shadow: 0px 1px 3px 1px rgba(0, 0, 0, 0.15);\n",
              "      filter: drop-shadow(0px 1px 2px rgba(0, 0, 0, 0.3));\n",
              "      fill: #FFFFFF;\n",
              "    }\n",
              "  </style>\n",
              "\n",
              "      <script>\n",
              "        const buttonEl =\n",
              "          document.querySelector('#df-adffa595-c550-4948-92ed-129a6067ce1c button.colab-df-convert');\n",
              "        buttonEl.style.display =\n",
              "          google.colab.kernel.accessAllowed ? 'block' : 'none';\n",
              "\n",
              "        async function convertToInteractive(key) {\n",
              "          const element = document.querySelector('#df-adffa595-c550-4948-92ed-129a6067ce1c');\n",
              "          const dataTable =\n",
              "            await google.colab.kernel.invokeFunction('convertToInteractive',\n",
              "                                                     [key], {});\n",
              "          if (!dataTable) return;\n",
              "\n",
              "          const docLinkHtml = 'Like what you see? Visit the ' +\n",
              "            '<a target=\"_blank\" href=https://colab.research.google.com/notebooks/data_table.ipynb>data table notebook</a>'\n",
              "            + ' to learn more about interactive tables.';\n",
              "          element.innerHTML = '';\n",
              "          dataTable['output_type'] = 'display_data';\n",
              "          await google.colab.output.renderOutput(dataTable, element);\n",
              "          const docLink = document.createElement('div');\n",
              "          docLink.innerHTML = docLinkHtml;\n",
              "          element.appendChild(docLink);\n",
              "        }\n",
              "      </script>\n",
              "    </div>\n",
              "  </div>\n",
              "  "
            ]
          },
          "metadata": {},
          "execution_count": 144
        }
      ],
      "source": [
        "df_amazon_mod.head()"
      ]
    },
    {
      "cell_type": "code",
      "execution_count": null,
      "id": "ffecfb06",
      "metadata": {
        "id": "ffecfb06",
        "outputId": "00b29be6-aae5-4037-b95e-e7b000641bab",
        "colab": {
          "base_uri": "https://localhost:8080/"
        }
      },
      "outputs": [
        {
          "output_type": "execute_result",
          "data": {
            "text/plain": [
              "0                                         [love, echo]\n",
              "1                                              [loved]\n",
              "2    [sometimes, playing, game, answer, question, c...\n",
              "Name: reviews_Tokenized_stop, dtype: object"
            ]
          },
          "metadata": {},
          "execution_count": 145
        }
      ],
      "source": [
        "df_amazon_mod['reviews_Tokenized_stop'][0:3]"
      ]
    },
    {
      "cell_type": "code",
      "execution_count": null,
      "id": "0795eb25",
      "metadata": {
        "id": "0795eb25",
        "outputId": "a7f1fa16-4d10-40a2-f630-e61f3ec1913b",
        "colab": {
          "base_uri": "https://localhost:8080/"
        }
      },
      "outputs": [
        {
          "output_type": "stream",
          "name": "stdout",
          "text": [
            "[[(0, 1), (1, 1)]]\n"
          ]
        }
      ],
      "source": [
        "# Create a corpus from a list of texts\n",
        "\n",
        "texts = df_amazon_mod['reviews_Tokenized_stop']\n",
        "\n",
        "# 1. Create Dictionary ( constructs word -> id mapping )\n",
        "id2word = corpora.Dictionary(df_amazon_mod['reviews_Tokenized_stop'])\n",
        "\n",
        "# Term Document Frequency ( convert document into the bag of words )\n",
        "corpus = [id2word.doc2bow(text) for text in texts]\n",
        "\n",
        "# View\n",
        "print(corpus[:1])"
      ]
    },
    {
      "cell_type": "code",
      "execution_count": null,
      "id": "46e1c962",
      "metadata": {
        "id": "46e1c962",
        "outputId": "3c8ea976-f102-4ec8-bfe0-7d985591b0d8",
        "colab": {
          "base_uri": "https://localhost:8080/",
          "height": 38
        }
      },
      "outputs": [
        {
          "output_type": "execute_result",
          "data": {
            "text/plain": [
              "'echo'"
            ],
            "application/vnd.google.colaboratory.intrinsic+json": {
              "type": "string"
            }
          },
          "metadata": {},
          "execution_count": 147
        }
      ],
      "source": [
        "id2word[0]"
      ]
    },
    {
      "cell_type": "code",
      "execution_count": null,
      "id": "49799684",
      "metadata": {
        "id": "49799684",
        "outputId": "e0e4fa0c-4cbe-458e-8001-89f42aec4cbd",
        "colab": {
          "base_uri": "https://localhost:8080/"
        }
      },
      "outputs": [
        {
          "output_type": "execute_result",
          "data": {
            "text/plain": [
              "[[('echo', 1), ('love', 1)]]"
            ]
          },
          "metadata": {},
          "execution_count": 148
        }
      ],
      "source": [
        "# Human readable format of corpus (term-frequency)\n",
        "[[(id2word[id], freq) for id, freq in cp] for cp in corpus[:1]]"
      ]
    },
    {
      "cell_type": "code",
      "execution_count": null,
      "id": "55819005",
      "metadata": {
        "id": "55819005"
      },
      "outputs": [],
      "source": [
        "# Build LDA model\n",
        "lda_model = gensim.models.ldamodel.LdaModel(corpus=corpus, # bow representation of docs\n",
        "                                           id2word=id2word, # dictionary ( word -> id mapping )\n",
        "                                           num_topics=10,\n",
        "                                           random_state=100,\n",
        "                                           update_every=1, # number of docs to be iterated through for each update\n",
        "                                           chunksize=100, # number of documents to be used in each training chunk\n",
        "                                           passes=10, # number of passes through the corpus during training\n",
        "                                           alpha='auto',\n",
        "                                           per_word_topics=True)"
      ]
    },
    {
      "cell_type": "code",
      "execution_count": null,
      "id": "17adbac1",
      "metadata": {
        "id": "17adbac1",
        "outputId": "f99256a9-df7c-4bba-db19-adfe2ccb75ac",
        "colab": {
          "base_uri": "https://localhost:8080/"
        }
      },
      "outputs": [
        {
          "output_type": "stream",
          "name": "stdout",
          "text": [
            "(0, '0.056*\"house\" + 0.048*\"work\" + 0.039*\"questions\" + 0.032*\"connected\" + 0.024*\"volume\" + 0.023*\"wanted\" + 0.020*\"computer\" + 0.020*\"convenient\" + 0.019*\"working\" + 0.019*\"trying\"')\n",
            "\n",
            "(1, '0.172*\"great\" + 0.099*\"works\" + 0.066*\"good\" + 0.063*\"product\" + 0.051*\"speaker\" + 0.025*\"sound\" + 0.023*\"another\" + 0.020*\"wish\" + 0.018*\"kids\" + 0.018*\"perfect\"')\n",
            "\n",
            "(2, '0.159*\"echo\" + 0.102*\"dot\" + 0.047*\"better\" + 0.046*\"sound\" + 0.041*\"quality\" + 0.025*\"purchase\" + 0.021*\"phone\" + 0.019*\"speaker\" + 0.015*\"size\" + 0.014*\"dots\"')\n",
            "\n",
            "(3, '0.053*\"music\" + 0.050*\"alexa\" + 0.042*\"like\" + 0.027*\"one\" + 0.026*\"play\" + 0.021*\"home\" + 0.018*\"time\" + 0.018*\"get\" + 0.017*\"amazon\" + 0.017*\"smart\"')\n",
            "\n",
            "(4, '0.040*\"fine\" + 0.035*\"light\" + 0.028*\"loved\" + 0.025*\"additional\" + 0.024*\"bulbs\" + 0.023*\"disappointed\" + 0.020*\"hooked\" + 0.018*\"next\" + 0.016*\"thermostat\" + 0.016*\"error\"')\n",
            "\n",
            "(5, '0.185*\"love\" + 0.102*\"use\" + 0.044*\"still\" + 0.027*\"got\" + 0.026*\"everything\" + 0.026*\"much\" + 0.025*\"fun\" + 0.023*\"far\" + 0.023*\"little\" + 0.021*\"new\"')\n",
            "\n",
            "(6, '0.032*\"room\" + 0.031*\"want\" + 0.029*\"without\" + 0.028*\"plus\" + 0.027*\"amazing\" + 0.022*\"tell\" + 0.021*\"commands\" + 0.019*\"around\" + 0.019*\"problems\" + 0.017*\"reason\"')\n",
            "\n",
            "(7, '0.138*\"easy\" + 0.127*\"set\" + 0.032*\"speakers\" + 0.023*\"small\" + 0.020*\"thought\" + 0.018*\"two\" + 0.016*\"setup\" + 0.016*\"say\" + 0.015*\"hook\" + 0.014*\"favorite\"')\n",
            "\n",
            "(8, '0.035*\"pretty\" + 0.035*\"stick\" + 0.032*\"old\" + 0.032*\"family\" + 0.030*\"skills\" + 0.029*\"full\" + 0.024*\"loves\" + 0.021*\"night\" + 0.020*\"learn\" + 0.018*\"part\"')\n",
            "\n",
            "(9, '0.052*\"expected\" + 0.043*\"google\" + 0.041*\"worked\" + 0.029*\"enjoying\" + 0.027*\"bulb\" + 0.027*\"issue\" + 0.026*\"firestick\" + 0.023*\"setting\" + 0.023*\"three\" + 0.021*\"read\"')\n"
          ]
        }
      ],
      "source": [
        "# Print the Keyword in the 10 topics\n",
        "print(*lda_model.print_topics(), sep='\\n\\n')\n",
        "doc_lda = lda_model[corpus]"
      ]
    },
    {
      "cell_type": "code",
      "execution_count": null,
      "id": "624f86ab",
      "metadata": {
        "id": "624f86ab",
        "outputId": "0d446c7b-f5f3-4efd-c2f2-b2779592e8ea",
        "colab": {
          "base_uri": "https://localhost:8080/"
        }
      },
      "outputs": [
        {
          "output_type": "stream",
          "name": "stdout",
          "text": [
            "\n",
            "Perplexity:  -7.546279505100364\n",
            "\n",
            "Coherence Score:  0.43346069035334167\n"
          ]
        }
      ],
      "source": [
        "# Compute Perplexity\n",
        "print('\\nPerplexity: ', lda_model.log_perplexity(corpus))  # a measure of how good the model is. lower the better.\n",
        "\n",
        "# Compute Coherence Score\n",
        "coherence_model_lda = CoherenceModel(model=lda_model, texts=df_amazon_mod['reviews_Tokenized_stop'], dictionary=id2word, coherence='c_v')\n",
        "coherence_lda = coherence_model_lda.get_coherence()\n",
        "print('\\nCoherence Score: ', coherence_lda)"
      ]
    },
    {
      "cell_type": "code",
      "source": [
        "# Visualize the topics\n",
        "pyLDAvis.enable_notebook()\n",
        "vis = pyLDAvis.gensim.prepare(lda_model, corpus, id2word)\n",
        "vis"
      ],
      "metadata": {
        "colab": {
          "base_uri": "https://localhost:8080/",
          "height": 916
        },
        "id": "HRmk-QvL_ODW",
        "outputId": "7ffe7584-c53d-4c4c-f728-52aba0ab3a13"
      },
      "id": "HRmk-QvL_ODW",
      "execution_count": null,
      "outputs": [
        {
          "output_type": "stream",
          "name": "stderr",
          "text": [
            "/usr/local/lib/python3.10/dist-packages/pyLDAvis/_prepare.py:248: FutureWarning: In a future version of pandas all arguments of DataFrame.drop except for the argument 'labels' will be keyword-only.\n",
            "  by='saliency', ascending=False).head(R).drop('saliency', 1)\n"
          ]
        },
        {
          "output_type": "execute_result",
          "data": {
            "text/plain": [
              "PreparedData(topic_coordinates=              x         y  topics  cluster       Freq\n",
              "topic                                                \n",
              "3     -0.375376  0.051501       1        1  33.094992\n",
              "5     -0.119892  0.225352       2        1  14.030265\n",
              "2     -0.031881 -0.234458       3        1  10.781736\n",
              "1     -0.054440 -0.285630       4        1  10.109436\n",
              "6      0.100199  0.063129       5        1   8.048946\n",
              "7      0.084921  0.056381       6        1   7.219919\n",
              "0      0.106154  0.018495       7        1   5.956638\n",
              "4      0.099972  0.037370       8        1   4.310876\n",
              "8      0.101146  0.038498       9        1   4.275378\n",
              "9      0.089198  0.029362      10        1   2.171813, topic_info=             Term         Freq        Total Category  logprob  loglift\n",
              "1            love  1003.000000  1003.000000  Default  30.0000  30.0000\n",
              "57          great   672.000000   672.000000  Default  29.0000  29.0000\n",
              "0            echo   665.000000   665.000000  Default  28.0000  28.0000\n",
              "71            use   552.000000   552.000000  Default  27.0000  27.0000\n",
              "102          easy   384.000000   384.000000  Default  26.0000  26.0000\n",
              "...           ...          ...          ...      ...      ...      ...\n",
              "630         spend     6.587304     7.522365  Topic10  -4.8473   3.6969\n",
              "3055    discovery     5.864005     6.800414  Topic10  -4.9636   3.6815\n",
              "914   electronics     5.558230     6.493607  Topic10  -5.0171   3.6741\n",
              "2165       manage     5.221509     6.157184  Topic10  -5.0796   3.6648\n",
              "1429          ran     5.165317     6.104616  Topic10  -5.0904   3.6625\n",
              "\n",
              "[355 rows x 6 columns], token_table=      Topic      Freq        Term\n",
              "term                             \n",
              "813       8  0.972723     ability\n",
              "3         1  0.100452        able\n",
              "3         2  0.885805        able\n",
              "856       2  0.961548  absolutely\n",
              "521       2  0.968025      access\n",
              "...     ...       ...         ...\n",
              "770       6  0.975446       worth\n",
              "326       1  0.997856       would\n",
              "101       9  0.979838        year\n",
              "73        5  0.030119         yet\n",
              "73        6  0.933688         yet\n",
              "\n",
              "[342 rows x 3 columns], R=30, lambda_step=0.01, plot_opts={'xlab': 'PC1', 'ylab': 'PC2'}, topic_order=[4, 6, 3, 2, 7, 8, 1, 5, 9, 10])"
            ],
            "text/html": [
              "\n",
              "<link rel=\"stylesheet\" type=\"text/css\" href=\"https://cdn.jsdelivr.net/gh/bmabey/pyLDAvis@3.2.2/pyLDAvis/js/ldavis.v1.0.0.css\">\n",
              "\n",
              "\n",
              "<div id=\"ldavis_el5011398001871773288197851230\"></div>\n",
              "<script type=\"text/javascript\">\n",
              "\n",
              "var ldavis_el5011398001871773288197851230_data = {\"mdsDat\": {\"x\": [-0.37537634991073654, -0.11989184213840913, -0.031881236852583775, -0.05444025387751075, 0.10019850435747289, 0.08492110801526184, 0.10615378033016952, 0.09997225458491964, 0.10114572310687664, 0.08919831238453925], \"y\": [0.05150072710251085, 0.22535223069174382, -0.23445751238472007, -0.28562957066216693, 0.06312886391979321, 0.0563808562442471, 0.018494637223678927, 0.03736976424387019, 0.03849801742593602, 0.029361986195106264], \"topics\": [1, 2, 3, 4, 5, 6, 7, 8, 9, 10], \"cluster\": [1, 1, 1, 1, 1, 1, 1, 1, 1, 1], \"Freq\": [33.09499231884145, 14.030264813655464, 10.7817362089494, 10.109436287012247, 8.048945854320072, 7.2199187959968905, 5.956637792205369, 4.31087611128116, 4.275378412214874, 2.171813405523078]}, \"tinfo\": {\"Term\": [\"love\", \"great\", \"echo\", \"use\", \"easy\", \"dot\", \"set\", \"works\", \"music\", \"alexa\", \"good\", \"product\", \"like\", \"speaker\", \"still\", \"sound\", \"better\", \"quality\", \"one\", \"house\", \"play\", \"work\", \"home\", \"got\", \"everything\", \"much\", \"fun\", \"room\", \"questions\", \"far\", \"music\", \"alexa\", \"like\", \"one\", \"play\", \"home\", \"time\", \"get\", \"amazon\", \"smart\", \"would\", \"devices\", \"prime\", \"well\", \"thing\", \"day\", \"bought\", \"weather\", \"need\", \"price\", \"ask\", \"even\", \"bluetooth\", \"know\", \"connect\", \"nice\", \"lot\", \"going\", \"listening\", \"alarm\", \"device\", \"things\", \"also\", \"really\", \"love\", \"use\", \"still\", \"got\", \"everything\", \"much\", \"far\", \"little\", \"new\", \"bedroom\", \"learning\", \"make\", \"show\", \"features\", \"happy\", \"watch\", \"free\", \"second\", \"recommend\", \"access\", \"super\", \"absolutely\", \"actually\", \"information\", \"external\", \"months\", \"easier\", \"plugged\", \"bad\", \"remote\", \"fun\", \"listen\", \"able\", \"see\", \"news\", \"really\", \"echo\", \"dot\", \"better\", \"quality\", \"purchase\", \"phone\", \"size\", \"dots\", \"white\", \"spot\", \"goes\", \"added\", \"kitchen\", \"video\", \"books\", \"door\", \"live\", \"made\", \"feel\", \"already\", \"pleased\", \"life\", \"regular\", \"look\", \"ready\", \"quite\", \"adding\", \"order\", \"addition\", \"sensitive\", \"sound\", \"take\", \"speaker\", \"also\", \"great\", \"works\", \"product\", \"good\", \"another\", \"wish\", \"kids\", \"perfect\", \"hub\", \"internet\", \"awesome\", \"fire\", \"buy\", \"talking\", \"sounds\", \"excellent\", \"plays\", \"updates\", \"alone\", \"issues\", \"connection\", \"sleep\", \"handy\", \"dislike\", \"checking\", \"put\", \"built\", \"low\", \"anything\", \"ease\", \"speaker\", \"think\", \"sound\", \"room\", \"want\", \"without\", \"amazing\", \"tell\", \"commands\", \"around\", \"problems\", \"reason\", \"times\", \"simple\", \"keep\", \"almost\", \"may\", \"fact\", \"way\", \"cool\", \"kind\", \"plus\", \"however\", \"hear\", \"something\", \"enough\", \"needed\", \"gave\", \"pay\", \"responds\", \"must\", \"cannot\", \"stars\", \"gift\", \"etc\", \"easy\", \"set\", \"speakers\", \"small\", \"thought\", \"two\", \"setup\", \"say\", \"hook\", \"favorite\", \"alarms\", \"worth\", \"cable\", \"minutes\", \"instructions\", \"says\", \"away\", \"help\", \"user\", \"friends\", \"lol\", \"tells\", \"multiple\", \"install\", \"upstairs\", \"decided\", \"feature\", \"figured\", \"third\", \"option\", \"yet\", \"app\", \"house\", \"questions\", \"connected\", \"volume\", \"wanted\", \"computer\", \"convenient\", \"working\", \"trying\", \"throughout\", \"loud\", \"item\", \"couple\", \"makes\", \"original\", \"daughter\", \"useful\", \"household\", \"whole\", \"finally\", \"keeps\", \"question\", \"smaller\", \"fidelity\", \"audible\", \"echos\", \"thank\", \"parts\", \"create\", \"tap\", \"seems\", \"work\", \"think\", \"fine\", \"light\", \"loved\", \"additional\", \"bulbs\", \"disappointed\", \"hooked\", \"next\", \"thermostat\", \"error\", \"shows\", \"technology\", \"took\", \"hue\", \"ability\", \"gives\", \"blue\", \"satisfied\", \"someone\", \"type\", \"wife\", \"turns\", \"requests\", \"default\", \"colors\", \"channels\", \"created\", \"philips\", \"customer\", \"wonderful\", \"work\", \"pretty\", \"stick\", \"family\", \"skills\", \"full\", \"loves\", \"night\", \"learn\", \"part\", \"year\", \"always\", \"especially\", \"command\", \"entire\", \"fast\", \"star\", \"needs\", \"alexia\", \"trek\", \"capabilities\", \"old\", \"running\", \"mine\", \"effective\", \"clear\", \"tech\", \"huge\", \"sister\", \"stand\", \"task\", \"expected\", \"google\", \"worked\", \"enjoying\", \"bulb\", \"issue\", \"firestick\", \"setting\", \"three\", \"read\", \"less\", \"office\", \"service\", \"exactly\", \"ordered\", \"variety\", \"mind\", \"apartment\", \"tasks\", \"performs\", \"willing\", \"outlets\", \"inexpensive\", \"installation\", \"kindle\", \"spend\", \"discovery\", \"electronics\", \"manage\", \"ran\"], \"Freq\": [1003.0, 672.0, 665.0, 552.0, 384.0, 425.0, 355.0, 389.0, 673.0, 643.0, 258.0, 247.0, 537.0, 318.0, 238.0, 287.0, 196.0, 171.0, 348.0, 129.0, 331.0, 125.0, 272.0, 145.0, 141.0, 141.0, 143.0, 101.0, 90.0, 128.0, 672.9901579141123, 642.8602006894437, 535.8803573113231, 347.7983682451441, 330.80540773790824, 272.02768415331616, 235.82362168370761, 233.25770320189233, 221.82505448418377, 220.59719983551096, 206.5462552863764, 189.98953450543434, 169.93305878572514, 161.19471141222462, 161.00295886422964, 156.8318020469603, 128.80032106394782, 121.32741426803584, 118.05016183558448, 111.6695216653081, 117.4610417007067, 107.19305658641532, 105.94930294689887, 100.14955354620217, 97.92910167591648, 90.34119217956892, 88.96400611053035, 86.9877377299543, 85.6883912145891, 85.55194571788839, 181.73764861432312, 136.98106045970331, 142.23881504894413, 156.6508036478281, 1002.7376472522934, 551.7050625890164, 237.52922693760172, 144.55877940054734, 140.4809095867319, 140.44308365400934, 127.12813318656318, 125.91440139603421, 111.54178897686319, 108.70252155483027, 105.40651558797414, 77.97458572666525, 64.48788371365625, 62.44275892507237, 53.58544215391987, 49.438817194373534, 39.759374576729435, 38.75688890714002, 38.48018705945435, 38.35415783726788, 36.030586825697256, 35.49877955681027, 34.08676959891863, 32.13481111259446, 31.27184264961069, 29.89387451651643, 28.040595669148868, 28.013203170752394, 27.938783223030715, 26.149420205254916, 137.09721531241104, 57.36580383751494, 97.41102624125826, 39.46166701720549, 34.40157759012054, 38.87758655098226, 664.46866463655, 424.71442011631694, 195.62544318564778, 171.09831676454473, 103.07707782262638, 87.63850308463608, 64.05244543375993, 56.75059091032312, 39.83230810524874, 37.95159058916036, 37.60584957481521, 37.46789769957892, 37.370323402404956, 34.844674273845335, 34.334039719801055, 33.0225153035141, 30.848696610724517, 30.43246263819599, 28.478893216344535, 27.879511019310183, 24.65692673570621, 24.628248839266536, 24.197217126493012, 23.28282619106544, 22.30165143213572, 22.267956892241198, 21.540163366185155, 21.209935924039698, 20.402622973444746, 20.200279200993947, 190.83336533263156, 42.17102227766145, 77.08475784578077, 24.57603384497781, 671.9757903690984, 388.6027591589228, 246.96427862783662, 257.2895640287925, 88.39164465536412, 79.05804852301476, 70.72798672144621, 70.69654783099472, 68.70749414114289, 66.94641424312556, 61.346923030359164, 60.173006793272435, 55.62428828116796, 46.88883140943589, 46.74388582829043, 43.09153221005277, 39.232537553233065, 36.937836876681, 34.15974052244741, 31.148013413332343, 30.653205585761167, 29.149546609728702, 28.568871176189933, 27.150148499025363, 26.447571878181105, 24.61675672315558, 23.85771051459628, 23.84794997964125, 23.836066719324215, 22.941035122535688, 198.7964788128845, 52.494707168920904, 96.02384457828063, 100.8567702579353, 97.01095988364465, 91.628186687937, 84.92828491604152, 67.41490061793745, 65.96988248914153, 59.4724710606539, 58.05896044087802, 53.167296566681806, 49.72025690500768, 46.593598617457864, 45.1020346465998, 43.02427691719136, 42.0087028343933, 39.41518994837033, 39.10245228782424, 33.424661871006485, 30.84447262365719, 85.82030831813002, 30.0017090308998, 29.759076881322724, 29.606776105509933, 29.424928712716685, 29.20597208977408, 28.360277296508485, 27.051893082311036, 25.77308734596913, 25.706234540702404, 25.65221008232387, 23.492914580675762, 34.666758086359245, 32.79120684892605, 383.8042716292314, 354.96420066612075, 88.43008701305435, 62.906041817307916, 55.72945661662557, 51.39278746637043, 44.965456978374206, 44.44329308007807, 42.948332679400416, 40.22273107812252, 37.307882801328454, 37.01491159222314, 33.609014438906435, 33.06854162624508, 29.36361705843278, 28.75603234468331, 27.902190524324148, 26.939908592176213, 26.243140992872537, 25.63301272482144, 25.538890823202486, 23.73390778657421, 23.537724144780874, 22.123019507511994, 20.18931287754971, 19.951185271869317, 19.26809674651667, 18.30579922568047, 17.799505911093704, 16.948280392248062, 30.97422993733568, 35.670176782223976, 128.18086989091145, 89.258795479808, 72.51297866385782, 54.27225501709587, 53.47772136511119, 45.236737936214546, 45.09808230958295, 44.6073495103716, 44.418565564097314, 40.34609509077425, 39.717341146356695, 37.03636989261636, 35.62788972083105, 34.84821708142152, 32.31425903227767, 30.49429407742356, 25.42878300670104, 24.0202492469575, 23.23903327435107, 21.78812858779761, 20.548744146434444, 19.887785982641553, 19.216997643791732, 17.613947098002924, 17.58209977442937, 17.507391730107706, 15.206558447392444, 14.531595606596838, 14.463584985294226, 14.023290244124107, 21.218938730707126, 109.87244536124545, 25.445180921918112, 66.57651668997127, 58.27628023283674, 46.67581556714009, 41.8455644196062, 40.77338148586245, 38.80772983813226, 33.62842408669929, 29.366566810450365, 27.355744850483685, 27.038587765652082, 26.69501540240977, 26.080722115009227, 22.77849274899175, 22.673560739227998, 21.710065475867708, 18.91895344193622, 18.878669676974436, 18.685083289368684, 18.483920426559862, 18.236957429865807, 18.002393852970716, 16.698853848115004, 15.499741685447075, 15.364323825828542, 15.09290327220336, 14.62836481899686, 14.155464940453635, 13.63602496515215, 13.56263212765573, 12.880619827094401, 14.95643053888743, 58.44793562890441, 57.66911681049297, 52.05499833633876, 49.97687939527772, 47.9679565190919, 40.126788174668825, 34.41695278526767, 32.508310047568294, 29.866169944656836, 29.69748453588219, 27.783653939530215, 25.8787036279181, 25.579520188665402, 23.323866324307247, 22.941906384732572, 21.69862959689189, 20.926672536959273, 19.927022022355885, 17.708635506794252, 17.061405523067474, 52.44954637184925, 14.125354457653748, 13.86603537354561, 13.439986327978202, 13.405525223007995, 12.930674612653993, 12.915341813326654, 12.351599121943652, 12.252951343489942, 12.16357617004786, 43.75456453556515, 36.252158415633644, 34.38376732899352, 24.719878808482957, 22.91787131793364, 22.50407502539992, 21.638667080308355, 19.357520705961374, 19.21554546658007, 18.0331578039928, 15.51215829048561, 15.060868630411743, 14.004284681772399, 13.777587905416437, 13.76233390225538, 11.261796542184136, 10.745586319830178, 10.572491132100163, 10.433039469735311, 9.737506787533942, 9.700830905766233, 9.67414460635351, 9.134623534922552, 6.841590010863523, 6.6478513535415305, 6.5873042619904725, 5.864004808024186, 5.558229960049954, 5.22150944606664, 5.165317068400889], \"Total\": [1003.0, 672.0, 665.0, 552.0, 384.0, 425.0, 355.0, 389.0, 673.0, 643.0, 258.0, 247.0, 537.0, 318.0, 238.0, 287.0, 196.0, 171.0, 348.0, 129.0, 331.0, 125.0, 272.0, 145.0, 141.0, 141.0, 143.0, 101.0, 90.0, 128.0, 673.8895148394355, 643.7587815242878, 537.143105361268, 348.6969723848987, 331.70401003871564, 272.92625331427706, 236.72218537561176, 234.15623982293585, 222.72356476907657, 221.4957964891582, 207.4448242574817, 190.88812116467057, 170.83156912089157, 162.0932871180609, 161.90152556007993, 157.73035118393244, 129.69884026423674, 122.22597386056547, 118.94868043396805, 112.56809657764046, 118.4434663644208, 108.09380011479657, 106.84795450020003, 101.048102107789, 98.82772447607641, 91.2397333263254, 89.86262694600062, 87.8863485032538, 86.58703327592859, 86.45044277160801, 201.40415133995694, 151.47299163066683, 167.60183929699622, 196.3159253279536, 1003.638542060927, 552.605983868192, 238.43017569549272, 145.45975433886505, 141.38182612945855, 141.34400047987498, 128.02903322571063, 126.81539829258944, 112.44266984270259, 109.61119154044438, 106.307399269716, 78.87561318290787, 65.38869784669296, 63.34446049594382, 54.48634496424488, 50.33967426283103, 40.660316300103005, 39.65785865061054, 39.3810527913253, 39.255196089095676, 36.931488369474756, 36.39963477375592, 34.98781341673952, 33.03573227589742, 32.1730542797681, 30.795027035064354, 28.941492495785198, 28.914227519764292, 28.839803123261888, 27.050325439900313, 143.21228300734577, 59.88883967321012, 109.50487694934398, 43.57313894111862, 55.807831126636174, 196.3159253279536, 665.3690031772595, 425.6148237575887, 196.52586694454936, 171.99870263423674, 103.97751988551427, 88.53890800413409, 64.95279209140753, 57.65093261499378, 40.73278399753106, 38.851906092074664, 38.506595615589625, 38.368359733541496, 38.27069307831822, 35.74495632686375, 35.23459134086336, 33.92352533639061, 31.749077698104678, 31.332792095244923, 29.379447913828237, 28.779830017175467, 25.55725082571942, 25.528631323857145, 25.097558850634346, 24.183297626630104, 23.20221571159291, 23.16834297823178, 22.440837345809438, 22.11030719389252, 21.30296980120847, 21.101195686412016, 287.6553629068892, 52.322286536527386, 318.80536136010113, 167.60183929699622, 672.885466013877, 389.5124365668197, 247.8739474585172, 258.339305429892, 89.30142008525624, 79.96774106055418, 71.63779473233913, 71.60621468367745, 69.617172905252, 67.85624936713788, 62.256552903710414, 61.08280107555859, 56.53392342093024, 47.79870902534441, 47.653587394891346, 44.001177825320475, 40.14248571177793, 37.847745335263795, 35.06954031027287, 32.057704033764566, 31.56299273949353, 30.05939012483985, 29.478722553637514, 28.060002170518914, 27.357399123010808, 25.52681469275825, 24.767399974234113, 24.757700329495872, 24.74570416990539, 23.85072315767402, 318.80536136010113, 78.74835128190153, 287.6553629068892, 101.76620621286945, 97.92041608349341, 92.53764653710716, 85.83778589317612, 68.32433131297844, 66.87944567569659, 60.381929567295735, 58.968600856008585, 54.07676644001653, 50.6297009308567, 47.50313130089843, 46.011506781678094, 43.93375051970156, 42.91826649785739, 40.3247421101799, 40.0118202642027, 34.33410443843132, 31.754118511781805, 88.37856654711055, 30.911227782830082, 30.66852074822996, 30.516144247897206, 30.3343369374139, 30.11543450382483, 29.269710572650133, 27.96140315258947, 26.68264427318259, 26.61562370925235, 26.561690851166905, 24.40229747052673, 39.32576054026529, 43.824371621178706, 384.7204267958778, 355.8804061183606, 89.34641592138668, 63.82235564228998, 56.6942224134694, 52.30896704984646, 45.881544981514004, 45.35943817551, 43.864851122721966, 41.138961161475386, 38.22427603431221, 37.93137998084328, 34.5255621327961, 33.98475846289775, 30.2798315394326, 29.672283019853232, 28.818551638701845, 27.856114429014458, 27.159472522367892, 26.54951536459286, 26.45528356818603, 24.65029498896885, 24.453995853034158, 23.03921864793074, 21.105865441830076, 20.867674691190313, 20.18418764586606, 19.222169207700745, 18.715739974419833, 17.86449025931409, 33.201670367656305, 67.77839880938737, 129.09150541467892, 90.1694623616066, 73.42370095537113, 55.18291822399569, 54.38834824609178, 46.147859684442224, 46.0088609376146, 45.51789893032663, 45.32922884084071, 41.256788323114804, 40.62802577338938, 37.94701406201201, 36.53874420520063, 35.75877013503177, 33.224863399191904, 31.40491520592158, 26.33935109787952, 24.931139397795306, 24.149639055977563, 22.69883470104551, 21.459275354742406, 20.798354908517094, 20.12772755411572, 18.52520244167544, 18.492753432426134, 18.41794185608159, 16.117069739148658, 15.442397172765466, 15.374390367412326, 14.933950946676584, 22.854248336860255, 125.63429383948299, 78.74835128190153, 67.48331256644991, 59.18299019390719, 47.58258793902198, 42.752905234401226, 41.68018356479406, 39.71451822789884, 34.5359661254534, 30.27344813410295, 28.26296084297651, 27.945738095408093, 27.601711529983504, 26.987476323425142, 23.685273991830897, 23.580329385588108, 22.616916605688083, 19.825736172030698, 19.78543659586991, 19.5918746425793, 19.39076150455714, 19.144231213114246, 18.90924051880331, 17.60566991127318, 16.40650548460225, 16.272236355348216, 16.000478274039, 15.535208411186252, 15.062538634981994, 14.542948344410068, 14.469587133250657, 13.787281615626524, 125.63429383948299, 59.36793830888032, 58.589227724257576, 52.97490641861733, 50.89683801093837, 48.88815455640451, 41.046640708365324, 35.337020375226004, 33.42813425421364, 30.78600809235772, 30.617314140328382, 28.703540318697964, 26.79863137429756, 26.49954082982847, 24.243838515835446, 23.8618138363737, 22.618453078538572, 21.846456153531804, 20.847369819572553, 18.62846675381074, 17.98128484794085, 55.59275930891109, 15.04520565251901, 14.785959530541945, 14.35993251420502, 14.32532839606502, 13.850576276628281, 13.835204063824797, 13.271801527424648, 13.17323090114201, 13.083570979484307, 44.68941367190567, 37.18712035284101, 35.31869352904641, 25.654743318099204, 23.852789729314892, 23.438906297983348, 22.57371389060308, 20.292424492570575, 20.15081427301009, 18.96807346842765, 16.44708435063296, 15.995757532402756, 14.939225134003612, 14.71252177791793, 14.697302025890568, 12.196930227079914, 11.68155438017354, 11.509038332597045, 11.368022674387744, 10.673640326131581, 10.635965168564216, 10.609840361013365, 10.071422761793531, 7.776582660150416, 7.58271369566637, 7.522364779244727, 6.800413700256862, 6.493606607153982, 6.15718378164776, 6.104615653927141], \"Category\": [\"Default\", \"Default\", \"Default\", \"Default\", \"Default\", \"Default\", \"Default\", \"Default\", \"Default\", \"Default\", \"Default\", \"Default\", \"Default\", \"Default\", \"Default\", \"Default\", \"Default\", \"Default\", \"Default\", \"Default\", \"Default\", \"Default\", \"Default\", \"Default\", \"Default\", \"Default\", \"Default\", \"Default\", \"Default\", \"Default\", \"Topic1\", \"Topic1\", \"Topic1\", \"Topic1\", \"Topic1\", \"Topic1\", \"Topic1\", \"Topic1\", \"Topic1\", \"Topic1\", \"Topic1\", \"Topic1\", \"Topic1\", \"Topic1\", \"Topic1\", \"Topic1\", \"Topic1\", \"Topic1\", \"Topic1\", \"Topic1\", \"Topic1\", \"Topic1\", \"Topic1\", \"Topic1\", \"Topic1\", \"Topic1\", \"Topic1\", \"Topic1\", \"Topic1\", \"Topic1\", \"Topic1\", \"Topic1\", \"Topic1\", \"Topic1\", \"Topic2\", \"Topic2\", \"Topic2\", \"Topic2\", \"Topic2\", \"Topic2\", \"Topic2\", \"Topic2\", \"Topic2\", \"Topic2\", \"Topic2\", \"Topic2\", \"Topic2\", \"Topic2\", \"Topic2\", \"Topic2\", \"Topic2\", \"Topic2\", \"Topic2\", \"Topic2\", \"Topic2\", \"Topic2\", \"Topic2\", \"Topic2\", \"Topic2\", \"Topic2\", \"Topic2\", \"Topic2\", \"Topic2\", \"Topic2\", \"Topic2\", \"Topic2\", \"Topic2\", \"Topic2\", \"Topic2\", \"Topic2\", \"Topic3\", \"Topic3\", \"Topic3\", \"Topic3\", \"Topic3\", \"Topic3\", \"Topic3\", \"Topic3\", \"Topic3\", \"Topic3\", \"Topic3\", \"Topic3\", \"Topic3\", \"Topic3\", \"Topic3\", \"Topic3\", \"Topic3\", \"Topic3\", \"Topic3\", \"Topic3\", \"Topic3\", \"Topic3\", \"Topic3\", \"Topic3\", \"Topic3\", \"Topic3\", \"Topic3\", \"Topic3\", \"Topic3\", \"Topic3\", \"Topic3\", \"Topic3\", \"Topic3\", \"Topic3\", \"Topic4\", \"Topic4\", \"Topic4\", \"Topic4\", \"Topic4\", \"Topic4\", \"Topic4\", \"Topic4\", \"Topic4\", \"Topic4\", \"Topic4\", \"Topic4\", \"Topic4\", \"Topic4\", \"Topic4\", \"Topic4\", \"Topic4\", \"Topic4\", \"Topic4\", \"Topic4\", \"Topic4\", \"Topic4\", \"Topic4\", \"Topic4\", \"Topic4\", \"Topic4\", \"Topic4\", \"Topic4\", \"Topic4\", \"Topic4\", \"Topic4\", \"Topic4\", \"Topic4\", \"Topic5\", \"Topic5\", \"Topic5\", \"Topic5\", \"Topic5\", \"Topic5\", \"Topic5\", \"Topic5\", \"Topic5\", \"Topic5\", \"Topic5\", \"Topic5\", \"Topic5\", \"Topic5\", \"Topic5\", \"Topic5\", \"Topic5\", \"Topic5\", \"Topic5\", \"Topic5\", \"Topic5\", \"Topic5\", \"Topic5\", \"Topic5\", \"Topic5\", \"Topic5\", \"Topic5\", \"Topic5\", \"Topic5\", \"Topic5\", \"Topic5\", \"Topic5\", \"Topic6\", \"Topic6\", \"Topic6\", \"Topic6\", \"Topic6\", \"Topic6\", \"Topic6\", \"Topic6\", \"Topic6\", \"Topic6\", \"Topic6\", \"Topic6\", \"Topic6\", \"Topic6\", \"Topic6\", \"Topic6\", \"Topic6\", \"Topic6\", \"Topic6\", \"Topic6\", \"Topic6\", \"Topic6\", \"Topic6\", \"Topic6\", \"Topic6\", \"Topic6\", \"Topic6\", \"Topic6\", \"Topic6\", \"Topic6\", \"Topic6\", \"Topic6\", \"Topic7\", \"Topic7\", \"Topic7\", \"Topic7\", \"Topic7\", \"Topic7\", \"Topic7\", \"Topic7\", \"Topic7\", \"Topic7\", \"Topic7\", \"Topic7\", \"Topic7\", \"Topic7\", \"Topic7\", \"Topic7\", \"Topic7\", \"Topic7\", \"Topic7\", \"Topic7\", \"Topic7\", \"Topic7\", \"Topic7\", \"Topic7\", \"Topic7\", \"Topic7\", \"Topic7\", \"Topic7\", \"Topic7\", \"Topic7\", \"Topic7\", \"Topic7\", \"Topic7\", \"Topic8\", \"Topic8\", \"Topic8\", \"Topic8\", \"Topic8\", \"Topic8\", \"Topic8\", \"Topic8\", \"Topic8\", \"Topic8\", \"Topic8\", \"Topic8\", \"Topic8\", \"Topic8\", \"Topic8\", \"Topic8\", \"Topic8\", \"Topic8\", \"Topic8\", \"Topic8\", \"Topic8\", \"Topic8\", \"Topic8\", \"Topic8\", \"Topic8\", \"Topic8\", \"Topic8\", \"Topic8\", \"Topic8\", \"Topic8\", \"Topic8\", \"Topic9\", \"Topic9\", \"Topic9\", \"Topic9\", \"Topic9\", \"Topic9\", \"Topic9\", \"Topic9\", \"Topic9\", \"Topic9\", \"Topic9\", \"Topic9\", \"Topic9\", \"Topic9\", \"Topic9\", \"Topic9\", \"Topic9\", \"Topic9\", \"Topic9\", \"Topic9\", \"Topic9\", \"Topic9\", \"Topic9\", \"Topic9\", \"Topic9\", \"Topic9\", \"Topic9\", \"Topic9\", \"Topic9\", \"Topic9\", \"Topic10\", \"Topic10\", \"Topic10\", \"Topic10\", \"Topic10\", \"Topic10\", \"Topic10\", \"Topic10\", \"Topic10\", \"Topic10\", \"Topic10\", \"Topic10\", \"Topic10\", \"Topic10\", \"Topic10\", \"Topic10\", \"Topic10\", \"Topic10\", \"Topic10\", \"Topic10\", \"Topic10\", \"Topic10\", \"Topic10\", \"Topic10\", \"Topic10\", \"Topic10\", \"Topic10\", \"Topic10\", \"Topic10\", \"Topic10\"], \"logprob\": [30.0, 29.0, 28.0, 27.0, 26.0, 25.0, 24.0, 23.0, 22.0, 21.0, 20.0, 19.0, 18.0, 17.0, 16.0, 15.0, 14.0, 13.0, 12.0, 11.0, 10.0, 9.0, 8.0, 7.0, 6.0, 5.0, 4.0, 3.0, 2.0, 1.0, -2.9445, -2.9903, -3.1723, -3.6046, -3.6547, -3.8503, -3.9931, -4.0041, -4.0543, -4.0599, -4.1257, -4.2093, -4.3208, -4.3736, -4.3748, -4.4011, -4.598, -4.6577, -4.6851, -4.7407, -4.6901, -4.7816, -4.7933, -4.8496, -4.872, -4.9526, -4.968, -4.9905, -5.0055, -5.0071, -4.2537, -4.5364, -4.4987, -4.4022, -1.6876, -2.2851, -3.1278, -3.6244, -3.653, -3.6533, -3.7529, -3.7625, -3.8837, -3.9094, -3.9402, -4.2417, -4.4316, -4.4638, -4.6168, -4.6973, -4.9152, -4.9408, -4.9479, -4.9512, -5.0137, -5.0286, -5.0692, -5.1281, -5.1553, -5.2004, -5.2644, -5.2654, -5.268, -5.3342, -3.6774, -4.5486, -4.0191, -4.9227, -5.06, -4.9376, -1.8357, -2.2833, -3.0585, -3.1925, -3.6992, -3.8615, -4.175, -4.296, -4.65, -4.6984, -4.7075, -4.7112, -4.7138, -4.7838, -4.7986, -4.8375, -4.9056, -4.9192, -4.9855, -5.0068, -5.1296, -5.1308, -5.1485, -5.187, -5.23, -5.2316, -5.2648, -5.2802, -5.319, -5.329, -3.0833, -4.593, -3.9898, -5.1329, -1.7601, -2.3078, -2.7611, -2.7201, -3.7885, -3.9001, -4.0115, -4.0119, -4.0405, -4.0664, -4.1538, -4.1731, -4.2517, -4.4225, -4.4256, -4.507, -4.6008, -4.6611, -4.7393, -4.8316, -4.8476, -4.8979, -4.918, -4.9689, -4.9952, -5.0669, -5.0982, -5.0986, -5.0991, -5.1374, -2.978, -4.3096, -3.7057, -3.4287, -3.4676, -3.5246, -3.6006, -3.8315, -3.8532, -3.9569, -3.9809, -4.0689, -4.136, -4.2009, -4.2335, -4.2806, -4.3045, -4.3682, -4.3762, -4.5331, -4.6134, -3.5901, -4.6411, -4.6493, -4.6544, -4.6605, -4.668, -4.6974, -4.7446, -4.7931, -4.7957, -4.7978, -4.8857, -4.4966, -4.5522, -1.9836, -2.0617, -3.4515, -3.792, -3.9132, -3.9942, -4.1278, -4.1395, -4.1737, -4.2393, -4.3145, -4.3224, -4.4189, -4.4351, -4.5539, -4.5748, -4.605, -4.6401, -4.6663, -4.6898, -4.6935, -4.7668, -4.7751, -4.8371, -4.9285, -4.9404, -4.9752, -5.0265, -5.0545, -5.1035, -4.5005, -4.3594, -2.8879, -3.2498, -3.4576, -3.7473, -3.7621, -3.9294, -3.9325, -3.9435, -3.9477, -4.0439, -4.0596, -4.1295, -4.1682, -4.1904, -4.2658, -4.3238, -4.5055, -4.5625, -4.5955, -4.66, -4.7186, -4.7512, -4.7856, -4.8727, -4.8745, -4.8787, -5.0196, -5.065, -5.0697, -5.1006, -4.6865, -3.042, -4.5048, -3.2196, -3.3528, -3.5748, -3.684, -3.71, -3.7594, -3.9026, -4.0381, -4.1091, -4.1207, -4.1335, -4.1568, -4.2922, -4.2968, -4.3402, -4.4778, -4.48, -4.4903, -4.5011, -4.5145, -4.5275, -4.6026, -4.6772, -4.6859, -4.7038, -4.735, -4.7679, -4.8053, -4.8107, -4.8623, -4.7128, -3.3416, -3.355, -3.4574, -3.4982, -3.5392, -3.7177, -3.8712, -3.9282, -4.013, -4.0187, -4.0853, -4.1563, -4.1679, -4.2602, -4.2768, -4.3325, -4.3687, -4.4176, -4.5357, -4.5729, -3.4499, -4.7617, -4.7803, -4.8115, -4.8141, -4.8501, -4.8513, -4.8959, -4.904, -4.9113, -2.9538, -3.1419, -3.1948, -3.5248, -3.6005, -3.6187, -3.6579, -3.7693, -3.7767, -3.8402, -3.9908, -4.0203, -4.093, -4.1094, -4.1105, -4.311, -4.3579, -4.3742, -4.3874, -4.4564, -4.4602, -4.463, -4.5203, -4.8094, -4.8381, -4.8473, -4.9636, -5.0171, -5.0796, -5.0904], \"loglift\": [30.0, 29.0, 28.0, 27.0, 26.0, 25.0, 24.0, 23.0, 22.0, 21.0, 20.0, 19.0, 18.0, 17.0, 16.0, 15.0, 14.0, 13.0, 12.0, 11.0, 10.0, 9.0, 8.0, 7.0, 6.0, 5.0, 4.0, 3.0, 2.0, 1.0, 1.1045, 1.1044, 1.1034, 1.1032, 1.1031, 1.1025, 1.102, 1.1019, 1.1017, 1.1017, 1.1014, 1.1011, 1.1005, 1.1002, 1.1002, 1.1001, 1.0988, 1.0984, 1.0982, 1.0978, 1.0975, 1.0974, 1.0973, 1.0969, 1.0967, 1.0959, 1.0957, 1.0955, 1.0954, 1.0953, 1.003, 1.0052, 0.9417, 0.8801, 1.9631, 1.9623, 1.9602, 1.9577, 1.9576, 1.9576, 1.9569, 1.9568, 1.9559, 1.9556, 1.9554, 1.9525, 1.9501, 1.9496, 1.9473, 1.9459, 1.9415, 1.941, 1.9408, 1.9407, 1.9393, 1.9389, 1.9379, 1.9363, 1.9355, 1.9343, 1.9323, 1.9323, 1.9322, 1.9301, 1.9203, 1.9209, 1.8469, 1.8648, 1.4801, 0.3446, 2.226, 2.2252, 2.2227, 2.2221, 2.2186, 2.2171, 2.2134, 2.2116, 2.205, 2.2039, 2.2036, 2.2036, 2.2035, 2.2018, 2.2014, 2.2004, 2.1985, 2.1982, 2.1962, 2.1955, 2.1915, 2.1914, 2.1908, 2.1894, 2.1877, 2.1877, 2.1864, 2.1857, 2.1841, 2.1837, 1.817, 2.0116, 0.8076, 0.3075, 2.2903, 2.2894, 2.288, 2.2876, 2.2815, 2.2803, 2.2789, 2.2789, 2.2785, 2.2782, 2.277, 2.2767, 2.2755, 2.2725, 2.2724, 2.2708, 2.2688, 2.2674, 2.2654, 2.2629, 2.2625, 2.261, 2.2603, 2.2587, 2.2579, 2.2554, 2.2543, 2.2543, 2.2542, 2.2528, 1.8194, 1.8862, 1.1945, 2.5107, 2.5103, 2.5098, 2.509, 2.5062, 2.5059, 2.5045, 2.5041, 2.5027, 2.5015, 2.5003, 2.4997, 2.4987, 2.4982, 2.4968, 2.4966, 2.4928, 2.4906, 2.4903, 2.4898, 2.4895, 2.4894, 2.4892, 2.489, 2.4881, 2.4866, 2.4849, 2.4849, 2.4848, 2.4817, 2.3935, 2.2296, 2.6259, 2.6257, 2.618, 2.6139, 2.6112, 2.6107, 2.6082, 2.6079, 2.6072, 2.6058, 2.6041, 2.6039, 2.6014, 2.601, 2.5976, 2.597, 2.596, 2.5949, 2.594, 2.5932, 2.5931, 2.5904, 2.5901, 2.5877, 2.5839, 2.5834, 2.5819, 2.5795, 2.5781, 2.5757, 2.5589, 1.9864, 2.8136, 2.8105, 2.8082, 2.804, 2.8038, 2.8007, 2.8007, 2.8005, 2.8004, 2.7983, 2.798, 2.7964, 2.7954, 2.7949, 2.7929, 2.7912, 2.7855, 2.7834, 2.7822, 2.7797, 2.7773, 2.7759, 2.7744, 2.7702, 2.7702, 2.77, 2.7625, 2.7599, 2.7596, 2.7577, 2.7464, 2.6866, 1.6909, 3.1305, 3.1286, 3.1248, 3.1226, 3.122, 3.1209, 3.1174, 3.1136, 3.1114, 3.111, 3.1106, 3.1099, 3.105, 3.1048, 3.1031, 3.0972, 3.0971, 3.0966, 3.0961, 3.0955, 3.0949, 3.0911, 3.0872, 3.0866, 3.0856, 3.0839, 3.0819, 3.0796, 3.0793, 3.076, 1.0158, 3.1367, 3.1365, 3.1348, 3.1341, 3.1333, 3.1296, 3.1259, 3.1244, 3.122, 3.1218, 3.1197, 3.1174, 3.117, 3.1136, 3.113, 3.1108, 3.1093, 3.1071, 3.1017, 3.0998, 3.0941, 3.0892, 3.0881, 3.0861, 3.0859, 3.0836, 3.0835, 3.0804, 3.0799, 3.0794, 3.8085, 3.8041, 3.8028, 3.7925, 3.7896, 3.7889, 3.7873, 3.7824, 3.7821, 3.7791, 3.7711, 3.7694, 3.765, 3.764, 3.7639, 3.7498, 3.7461, 3.7447, 3.7438, 3.7378, 3.7376, 3.7373, 3.732, 3.7015, 3.698, 3.6969, 3.6815, 3.6741, 3.6648, 3.6625]}, \"token.table\": {\"Topic\": [8, 1, 2, 2, 2, 2, 3, 3, 3, 8, 1, 6, 1, 9, 5, 4, 3, 1, 3, 9, 5, 1, 4, 4, 10, 1, 6, 5, 1, 7, 6, 4, 2, 2, 3, 8, 1, 3, 1, 4, 10, 8, 4, 6, 5, 9, 8, 4, 9, 8, 9, 5, 7, 1, 7, 4, 7, 5, 7, 7, 8, 8, 7, 1, 6, 8, 1, 4, 1, 8, 10, 4, 3, 3, 3, 4, 2, 6, 3, 7, 9, 10, 10, 5, 9, 8, 9, 5, 8, 9, 1, 2, 10, 4, 10, 2, 5, 9, 2, 9, 6, 6, 2, 3, 7, 6, 7, 8, 4, 10, 2, 6, 9, 1, 2, 5, 1, 3, 5, 8, 3, 1, 4, 10, 2, 4, 4, 2, 5, 6, 1, 6, 8, 7, 7, 5, 4, 8, 9, 10, 2, 6, 10, 6, 4, 10, 4, 7, 5, 7, 4, 5, 10, 3, 1, 9, 2, 10, 3, 8, 1, 1, 2, 1, 2, 3, 6, 3, 1, 7, 2, 8, 9, 4, 3, 2, 7, 10, 5, 10, 9, 6, 2, 2, 6, 1, 5, 1, 5, 9, 2, 1, 2, 8, 1, 9, 10, 1, 9, 1, 6, 3, 10, 7, 10, 9, 7, 5, 4, 10, 8, 3, 1, 4, 3, 2, 2, 5, 9, 1, 1, 5, 4, 3, 4, 3, 7, 7, 3, 10, 10, 3, 1, 2, 5, 2, 3, 2, 8, 5, 5, 9, 8, 6, 6, 2, 2, 5, 2, 7, 3, 10, 6, 10, 6, 2, 8, 5, 9, 3, 9, 4, 6, 7, 1, 8, 5, 3, 4, 4, 1, 3, 4, 6, 10, 3, 9, 9, 5, 9, 2, 2, 2, 3, 4, 7, 9, 10, 9, 8, 5, 6, 7, 8, 1, 1, 2, 4, 7, 6, 6, 10, 7, 1, 5, 8, 9, 7, 8, 6, 8, 4, 6, 2, 7, 6, 10, 3, 7, 5, 7, 2, 5, 1, 1, 3, 7, 8, 10, 4, 5, 8, 7, 8, 10, 7, 4, 6, 1, 9, 5, 6], \"Freq\": [0.9727232223364642, 0.10045214703166605, 0.8858052965519643, 0.9615481094122116, 0.9680247148365577, 0.9717669291026083, 0.9643362462444471, 0.980355575016377, 0.9388362367610099, 0.9823893784463705, 0.9947895839839939, 0.9679712433738906, 0.9988213263320601, 0.9593536342039177, 0.9787463963659822, 0.9695023002636972, 0.9729035919701376, 0.8472460719740141, 0.14916304084049545, 0.9754894235733121, 0.9902398939527782, 0.9967512877686437, 0.985426658568097, 0.9698653081445836, 0.9557705589392906, 0.4573728583819314, 0.531142674249985, 0.9771135242414608, 0.9878130351236123, 0.9733542420155716, 0.9715963644195578, 0.9798165358487825, 0.9708804141390095, 0.9944240042293595, 0.9973241845833061, 0.9603022863779581, 0.9920639145207178, 0.9649608156677685, 0.9946118233377185, 0.9690157232881752, 0.9642477991466625, 0.9836808884553812, 0.9905556984440147, 0.9847775937499693, 0.9788533473145883, 0.9454274343441469, 0.9655486816127378, 0.9503827422735857, 0.907483559230023, 0.9374719769681954, 0.9811490760146993, 0.9868502846156787, 0.9751264805715529, 0.991624572148509, 0.9942293707636902, 0.9821628847384589, 0.9780724643676235, 0.9611434618653396, 0.9852555358176773, 0.910605212007268, 0.9294581968729826, 0.9675466114598694, 0.9552644802028737, 0.9953696217725353, 0.9584201544239801, 0.9218155189265016, 0.9036556535162773, 0.09433767811433665, 0.9953474257106631, 0.9820086391631737, 0.8822992636129432, 0.9622237316990446, 0.9727762569711491, 0.9985554456206186, 0.98870907051338, 0.9643313474375598, 0.9674691104502537, 0.9981274017554049, 0.997942490301288, 0.9773078957818739, 0.9052967336121003, 0.9239857544480478, 0.9744786642383871, 0.956012325564692, 0.948694654312971, 0.9661580562954073, 0.9701987999632129, 0.7530056628137097, 0.09127341367438906, 0.13691012051158358, 0.9898810097005106, 0.9902262817839595, 0.9515703841480557, 0.9772465675965532, 0.9845732218156383, 0.9635392316325475, 0.9671481566686705, 0.9815968260346994, 0.9919625010063422, 0.9638831380429264, 0.9723142945441713, 0.9413309236595115, 0.9787754053721885, 0.9530471805367396, 0.9716493008198436, 0.9364187675961607, 0.9692127498944552, 0.9928380432425572, 0.9822732249259627, 0.9745848692251785, 0.9837601779772349, 0.9793022449921738, 0.9818329293780192, 0.03491320643036977, 0.9566218561921317, 0.9566203236106967, 0.9950621011688171, 0.10171449820797326, 0.890001859319766, 0.9583502894991808, 0.9868439261510689, 0.9899148329820417, 0.9948157117335926, 0.9680771099892299, 0.9968393021083068, 0.9986840761784878, 0.9837604037024853, 0.9910740027696109, 0.9782017282894695, 0.9692665525482353, 0.9966062139386405, 0.9802837328615946, 0.9844809285628067, 0.991544715423585, 0.9626515506195578, 0.9705211391397326, 0.9911347605842603, 0.9753892587292358, 0.9396319663973282, 0.8936175367537912, 0.9686481211541635, 0.9548934942711663, 0.9001383134355578, 0.957733201462303, 0.9873814221221524, 0.981274454857089, 0.9670062449684311, 0.9750437791899931, 0.9780162213231217, 0.9785978162286404, 0.9910969518991738, 0.9762513164551552, 0.9231523542818979, 0.9667972284766875, 0.9896276913081358, 0.9871923975487902, 0.9877017095828019, 0.972816801987414, 0.9792926100443495, 0.980011314230132, 0.9978718793002115, 0.033395203695934246, 0.9517633053341259, 0.9932203096269867, 0.9935701949166446, 0.976406316264444, 0.9827904483800909, 0.9510696330624868, 0.9904006039516408, 0.9845420553562628, 0.999363772878216, 0.9877562788352627, 0.9745011847424577, 0.9693953671216724, 0.9574633473073985, 0.988898809814925, 0.9787808660038779, 0.812059567704169, 0.9786042966599494, 0.9416555059376083, 0.9468441984493152, 0.9710235262088784, 0.9741832655591077, 0.990491280313901, 0.981434696572183, 0.9986800286696145, 0.9768698372062443, 0.992024456004834, 0.9629613677437341, 0.9612543037835012, 0.9960631507298622, 0.37629127626099484, 0.6092334948987536, 0.9579351473785896, 0.9864123525888506, 0.9621637489231164, 0.9377486480158479, 0.03597590810138858, 0.9353736106361031, 0.9980012089576465, 0.9516084563978329, 0.9497832760008319, 0.9525557803287834, 0.963134132878882, 0.9425212500600605, 0.9744686582943881, 0.9713517812153099, 0.9656167772646118, 0.9915340492950867, 0.9368874811640082, 0.9626658686016194, 0.9939133199597523, 0.9978775956352368, 0.9715392385020462, 0.9781959793125075, 0.9683813956593039, 0.022629921236999154, 0.9730866131909636, 0.9769582985724855, 0.9949533074209118, 0.995132228046778, 0.9835742947611433, 0.9964742262449205, 0.9905987382023481, 0.9793623019911017, 0.9941935455387677, 0.9616145165312974, 0.9870303944264777, 0.9495715779359137, 0.8190523832214508, 0.9489630051233717, 0.948185305811452, 0.7997313500559122, 0.19865937995019478, 0.9800881873879995, 0.9649310342553992, 0.9562683025402446, 0.9611714305532517, 0.9142714768893183, 0.9744161685703436, 0.9924709170029712, 0.9305289886586554, 0.9697897902381956, 0.9700296513759737, 0.9773430639157958, 0.9834116446778849, 0.8950468326989615, 0.06884975636145857, 0.0437555409944137, 0.9188663608826877, 0.9478135882545687, 0.9371302644160697, 0.9975261180350913, 0.9363100011512299, 0.9807865018087515, 0.9787624177812986, 0.9782002094569436, 0.9894084603031439, 0.9041726532154194, 0.9853310064012849, 0.9823792980863443, 0.9647567658412199, 0.9871149280841481, 0.9439714418290046, 0.9977615986532616, 0.9282771074137398, 0.9830861905847502, 0.6639890112593678, 0.33373269675863515, 0.986284612961554, 0.13174182460676884, 0.24152667844574285, 0.6242053118273094, 0.9849303868823194, 0.9305584354688561, 0.9780729910636625, 0.910938257292651, 0.9726571451906502, 0.9425342030921295, 0.9899430706437932, 0.9981958001153255, 0.9747779358319968, 0.1720108312490681, 0.8027172124956511, 0.9832901548675529, 0.9374612284444107, 0.9171807925234327, 0.8796604551581418, 0.9385891056342862, 0.9634098308566922, 0.9806169883037423, 0.973619180246733, 0.9306902707980921, 0.9553139230530986, 0.9944316425866822, 0.9044516684138912, 0.09242571794010568, 0.6603312850811517, 0.31746696398132296, 0.961757324295054, 0.9877549707198301, 0.9428899369812819, 0.96953741737549, 0.9969492281660637, 0.987562618003281, 0.9710675083569964, 0.966263098186426, 0.9706761205775664, 0.96559801959678, 0.9749762397602095, 0.9402310178780947, 0.9776011667867062, 0.9476038807848011, 0.9989034069737173, 0.9491501862402623, 0.9573087245559361, 0.9018662725131885, 0.9791591205189447, 0.9785636885096571, 0.9906003658858169, 0.9744734250834407, 0.9733873076763193, 0.9747119661759568, 0.9899696126621658, 0.9932551980560144, 0.9820099702103476, 0.9523951868053696, 0.9519155453176894, 0.9402061629118642, 0.9878983569159298, 0.9941899696261286, 0.9428979810832168, 0.8755571161210315, 0.11939415219832247, 0.9626630150415414, 0.9886220818074365, 0.9986844153903368, 0.9754456605239866, 0.9978556984534375, 0.9798377435231893, 0.03011896657386728, 0.9336879637898856], \"Term\": [\"ability\", \"able\", \"able\", \"absolutely\", \"access\", \"actually\", \"added\", \"adding\", \"addition\", \"additional\", \"alarm\", \"alarms\", \"alexa\", \"alexia\", \"almost\", \"alone\", \"already\", \"also\", \"also\", \"always\", \"amazing\", \"amazon\", \"another\", \"anything\", \"apartment\", \"app\", \"app\", \"around\", \"ask\", \"audible\", \"away\", \"awesome\", \"bad\", \"bedroom\", \"better\", \"blue\", \"bluetooth\", \"books\", \"bought\", \"built\", \"bulb\", \"bulbs\", \"buy\", \"cable\", \"cannot\", \"capabilities\", \"channels\", \"checking\", \"clear\", \"colors\", \"command\", \"commands\", \"computer\", \"connect\", \"connected\", \"connection\", \"convenient\", \"cool\", \"couple\", \"create\", \"created\", \"customer\", \"daughter\", \"day\", \"decided\", \"default\", \"device\", \"device\", \"devices\", \"disappointed\", \"discovery\", \"dislike\", \"door\", \"dot\", \"dots\", \"ease\", \"easier\", \"easy\", \"echo\", \"echos\", \"effective\", \"electronics\", \"enjoying\", \"enough\", \"entire\", \"error\", \"especially\", \"etc\", \"etc\", \"etc\", \"even\", \"everything\", \"exactly\", \"excellent\", \"expected\", \"external\", \"fact\", \"family\", \"far\", \"fast\", \"favorite\", \"feature\", \"features\", \"feel\", \"fidelity\", \"figured\", \"finally\", \"fine\", \"fire\", \"firestick\", \"free\", \"friends\", \"full\", \"fun\", \"fun\", \"gave\", \"get\", \"gift\", \"gift\", \"gives\", \"goes\", \"going\", \"good\", \"google\", \"got\", \"great\", \"handy\", \"happy\", \"hear\", \"help\", \"home\", \"hook\", \"hooked\", \"house\", \"household\", \"however\", \"hub\", \"hue\", \"huge\", \"inexpensive\", \"information\", \"install\", \"installation\", \"instructions\", \"internet\", \"issue\", \"issues\", \"item\", \"keep\", \"keeps\", \"kids\", \"kind\", \"kindle\", \"kitchen\", \"know\", \"learn\", \"learning\", \"less\", \"life\", \"light\", \"like\", \"listen\", \"listen\", \"listening\", \"little\", \"live\", \"lol\", \"look\", \"lot\", \"loud\", \"love\", \"loved\", \"loves\", \"low\", \"made\", \"make\", \"makes\", \"manage\", \"may\", \"mind\", \"mine\", \"minutes\", \"months\", \"much\", \"multiple\", \"music\", \"must\", \"need\", \"needed\", \"needs\", \"new\", \"news\", \"news\", \"next\", \"nice\", \"night\", \"office\", \"old\", \"old\", \"one\", \"option\", \"order\", \"ordered\", \"original\", \"outlets\", \"part\", \"parts\", \"pay\", \"perfect\", \"performs\", \"philips\", \"phone\", \"play\", \"plays\", \"pleased\", \"plugged\", \"plus\", \"plus\", \"pretty\", \"price\", \"prime\", \"problems\", \"product\", \"purchase\", \"put\", \"quality\", \"question\", \"questions\", \"quite\", \"ran\", \"read\", \"ready\", \"really\", \"really\", \"reason\", \"recommend\", \"regular\", \"remote\", \"requests\", \"responds\", \"room\", \"running\", \"satisfied\", \"say\", \"says\", \"second\", \"see\", \"see\", \"seems\", \"seems\", \"sensitive\", \"service\", \"set\", \"setting\", \"setup\", \"show\", \"shows\", \"simple\", \"sister\", \"size\", \"skills\", \"sleep\", \"small\", \"smaller\", \"smart\", \"someone\", \"something\", \"sound\", \"sound\", \"sounds\", \"speaker\", \"speaker\", \"speaker\", \"speakers\", \"spend\", \"spot\", \"stand\", \"star\", \"stars\", \"stick\", \"still\", \"super\", \"take\", \"take\", \"talking\", \"tap\", \"task\", \"tasks\", \"tech\", \"technology\", \"tell\", \"tells\", \"thank\", \"thermostat\", \"thing\", \"things\", \"things\", \"think\", \"think\", \"third\", \"thought\", \"three\", \"throughout\", \"time\", \"times\", \"took\", \"trek\", \"trying\", \"turns\", \"two\", \"type\", \"updates\", \"upstairs\", \"use\", \"useful\", \"user\", \"variety\", \"video\", \"volume\", \"want\", \"wanted\", \"watch\", \"way\", \"weather\", \"well\", \"white\", \"whole\", \"wife\", \"willing\", \"wish\", \"without\", \"wonderful\", \"work\", \"work\", \"worked\", \"working\", \"works\", \"worth\", \"would\", \"year\", \"yet\", \"yet\"]}, \"R\": 30, \"lambda.step\": 0.01, \"plot.opts\": {\"xlab\": \"PC1\", \"ylab\": \"PC2\"}, \"topic.order\": [4, 6, 3, 2, 7, 8, 1, 5, 9, 10]};\n",
              "\n",
              "function LDAvis_load_lib(url, callback){\n",
              "  var s = document.createElement('script');\n",
              "  s.src = url;\n",
              "  s.async = true;\n",
              "  s.onreadystatechange = s.onload = callback;\n",
              "  s.onerror = function(){console.warn(\"failed to load library \" + url);};\n",
              "  document.getElementsByTagName(\"head\")[0].appendChild(s);\n",
              "}\n",
              "\n",
              "if(typeof(LDAvis) !== \"undefined\"){\n",
              "   // already loaded: just create the visualization\n",
              "   !function(LDAvis){\n",
              "       new LDAvis(\"#\" + \"ldavis_el5011398001871773288197851230\", ldavis_el5011398001871773288197851230_data);\n",
              "   }(LDAvis);\n",
              "}else if(typeof define === \"function\" && define.amd){\n",
              "   // require.js is available: use it to load d3/LDAvis\n",
              "   require.config({paths: {d3: \"https://d3js.org/d3.v5\"}});\n",
              "   require([\"d3\"], function(d3){\n",
              "      window.d3 = d3;\n",
              "      LDAvis_load_lib(\"https://cdn.jsdelivr.net/gh/bmabey/pyLDAvis@3.2.2/pyLDAvis/js/ldavis.v3.0.0.js\", function(){\n",
              "        new LDAvis(\"#\" + \"ldavis_el5011398001871773288197851230\", ldavis_el5011398001871773288197851230_data);\n",
              "      });\n",
              "    });\n",
              "}else{\n",
              "    // require.js not available: dynamically load d3 & LDAvis\n",
              "    LDAvis_load_lib(\"https://d3js.org/d3.v5.js\", function(){\n",
              "         LDAvis_load_lib(\"https://cdn.jsdelivr.net/gh/bmabey/pyLDAvis@3.2.2/pyLDAvis/js/ldavis.v3.0.0.js\", function(){\n",
              "                 new LDAvis(\"#\" + \"ldavis_el5011398001871773288197851230\", ldavis_el5011398001871773288197851230_data);\n",
              "            })\n",
              "         });\n",
              "}\n",
              "</script>"
            ]
          },
          "metadata": {},
          "execution_count": 152
        }
      ]
    },
    {
      "cell_type": "code",
      "source": [
        "import re\n",
        "import nltk\n",
        "from nltk.corpus import stopwords\n",
        "\n",
        "# Download the stopwords if not already downloaded\n",
        "nltk.download('stopwords')\n",
        "\n",
        "# Define the stop words\n",
        "stop_words = set(stopwords.words('english'))\n",
        "\n",
        "def clean(string):\n",
        "    string = str(string)\n",
        "    cleanString = re.sub('[^A-Za-z]+', ' ', string)\n",
        "    return cleanString\n",
        "\n",
        "df_amazon_mod['reviews_non_numeric'] = df_amazon_mod['verified_reviews'].map(clean)\n",
        "df_amazon_mod['reviews_len_trim'] = df_amazon_mod['reviews_non_numeric'].apply(lambda x: ' '.join([w for w in x.split() if len(w) > 2]))\n",
        "df_amazon_mod['reviews_Tokenized'] = df_amazon_mod['reviews_len_trim'].map(lambda x: x.lower().split())\n",
        "df_amazon_mod['reviews_Tokenized_stop'] = df_amazon_mod['reviews_Tokenized'].map(lambda x: \" \".join(x for x in x if x not in stop_words))\n",
        "df_amazon_mod['reviews_Tokenized_stop'] = df_amazon_mod['reviews_Tokenized_stop'].map(lambda x: x.split())\n"
      ],
      "metadata": {
        "colab": {
          "base_uri": "https://localhost:8080/"
        },
        "id": "bqcydBVxt7Vp",
        "outputId": "be151960-5f4d-4464-e2cb-d5249891477a"
      },
      "id": "bqcydBVxt7Vp",
      "execution_count": null,
      "outputs": [
        {
          "output_type": "stream",
          "name": "stderr",
          "text": [
            "[nltk_data] Downloading package stopwords to /root/nltk_data...\n",
            "[nltk_data]   Package stopwords is already up-to-date!\n"
          ]
        }
      ]
    },
    {
      "cell_type": "markdown",
      "id": "660ce55d",
      "metadata": {
        "id": "660ce55d"
      },
      "source": [
        "### LDA Mallet Model"
      ]
    },
    {
      "cell_type": "code",
      "source": [
        "import gensim\n",
        "from gensim.models import LdaModel\n",
        "from gensim import corpora\n",
        "\n",
        "# Assuming you have already created 'corpus' and 'id2word' variables\n",
        "\n",
        "num_topics = 20\n",
        "lda_model = LdaModel(corpus=corpus, id2word=id2word, num_topics=num_topics)\n",
        "\n"
      ],
      "metadata": {
        "colab": {
          "base_uri": "https://localhost:8080/"
        },
        "id": "QvZZFc0eOiPF",
        "outputId": "3ae87043-f82b-464a-bfa4-c7be708c3b8f"
      },
      "id": "QvZZFc0eOiPF",
      "execution_count": null,
      "outputs": [
        {
          "output_type": "stream",
          "name": "stderr",
          "text": [
            "WARNING:gensim.models.ldamodel:too few updates, training might not converge; consider increasing the number of passes or iterations to improve accuracy\n"
          ]
        }
      ]
    },
    {
      "cell_type": "code",
      "source": [
        "# Show Topics\n",
        "topics = lda_model.show_topics(formatted=False)\n",
        "for topic in topics:\n",
        "    print(topic)\n",
        "\n",
        "# Compute Coherence Score\n",
        "coherence_model_lda = CoherenceModel(model=lda_model, texts=df_amazon_mod['reviews_Tokenized_stop'], dictionary=id2word, coherence='c_v')\n",
        "coherence_lda = coherence_model_lda.get_coherence()\n",
        "print('\\nCoherence Score:', coherence_lda)\n"
      ],
      "metadata": {
        "colab": {
          "base_uri": "https://localhost:8080/"
        },
        "id": "B-yuqfvWP619",
        "outputId": "6b2a5e72-8261-495e-d8d6-28aab4970f2e"
      },
      "id": "B-yuqfvWP619",
      "execution_count": null,
      "outputs": [
        {
          "output_type": "stream",
          "name": "stdout",
          "text": [
            "(12, [('love', 0.028227901), ('convenient', 0.022450289), ('nothing', 0.012677194), ('daily', 0.012379139), ('daughter', 0.01212525), ('life', 0.011575363), ('entertainment', 0.011395337), ('friendly', 0.0111463955), ('user', 0.010966694), ('news', 0.010714998)])\n",
            "(11, [('alexa', 0.03611067), ('love', 0.027832061), ('music', 0.017827122), ('firestick', 0.016462684), ('play', 0.014341983), ('echo', 0.013456904), ('like', 0.010196947), ('good', 0.009886924), ('use', 0.009601351), ('smart', 0.009319253)])\n",
            "(16, [('echo', 0.023212219), ('love', 0.020215625), ('great', 0.019000042), ('alexa', 0.01847025), ('easy', 0.015118683), ('cable', 0.01193684), ('set', 0.011703427), ('many', 0.011056361), ('hook', 0.010668086), ('like', 0.009924791)])\n",
            "(15, [('like', 0.03568727), ('use', 0.032137163), ('echo', 0.02746768), ('easy', 0.020990832), ('music', 0.019466108), ('set', 0.017358413), ('love', 0.015211164), ('play', 0.01507389), ('alexa', 0.013372776), ('device', 0.013195742)])\n",
            "(14, [('music', 0.028026553), ('love', 0.019852575), ('great', 0.014287247), ('play', 0.012570654), ('echo', 0.01254834), ('one', 0.012131535), ('speaker', 0.011400803), ('alexa', 0.011087449), ('set', 0.010339902), ('connected', 0.010262462)])\n",
            "(18, [('music', 0.026200583), ('great', 0.02226471), ('alexa', 0.021826262), ('use', 0.021502925), ('echo', 0.020890003), ('home', 0.014459578), ('like', 0.012331987), ('smart', 0.011721164), ('play', 0.011337923), ('prime', 0.010029836)])\n",
            "(1, [('echo', 0.034081694), ('love', 0.026470823), ('like', 0.013624694), ('set', 0.013356371), ('dot', 0.013141893), ('work', 0.011980106), ('one', 0.009597965), ('speaker', 0.009373464), ('getting', 0.008984758), ('home', 0.008975372)])\n",
            "(6, [('great', 0.037975535), ('works', 0.03731453), ('love', 0.028774766), ('echo', 0.017005777), ('one', 0.01619973), ('use', 0.014060278), ('alexa', 0.013055447), ('set', 0.010882715), ('music', 0.009940741), ('play', 0.009542274)])\n",
            "(3, [('dot', 0.035239596), ('great', 0.034048475), ('echo', 0.033063747), ('love', 0.026564937), ('use', 0.020414678), ('hub', 0.016983429), ('bulbs', 0.014727253), ('work', 0.013831745), ('bought', 0.012447209), ('philips', 0.012115467)])\n",
            "(4, [('like', 0.027552739), ('time', 0.019880475), ('far', 0.018118728), ('sure', 0.015992554), ('alexa', 0.015303332), ('music', 0.015195811), ('questions', 0.0142729515), ('working', 0.013908775), ('phenomenal', 0.013002525), ('enjoyable', 0.012986048)])\n",
            "\n",
            "Coherence Score: 0.45481159654850967\n"
          ]
        }
      ]
    },
    {
      "cell_type": "code",
      "execution_count": null,
      "id": "a31270a2",
      "metadata": {
        "id": "a31270a2"
      },
      "outputs": [],
      "source": [
        "def compute_coherence_values(dictionary, corpus, texts, limit, start=2, step=3):\n",
        "    \"\"\"\n",
        "    Compute c_v coherence for various number of topics\n",
        "\n",
        "    Parameters:\n",
        "    ----------\n",
        "    dictionary : Gensim dictionary\n",
        "    corpus : Gensim corpus\n",
        "    texts : List of input texts\n",
        "    limit : Max num of topics\n",
        "\n",
        "    Returns:\n",
        "    -------\n",
        "    model_list : List of LDA topic models\n",
        "    coherence_values : Coherence values corresponding to the LDA model with respective number of topics\n",
        "    \"\"\"\n",
        "    coherence_values = []\n",
        "    model_list = []\n",
        "    for num_topics in range(start, limit, step):\n",
        "        model = gensim.models.wrappers.LdaMallet(mallet_path, corpus=corpus, num_topics=num_topics, id2word=id2word)\n",
        "        model_list.append(model)\n",
        "        coherencemodel = CoherenceModel(model=model, texts=texts, dictionary=dictionary, coherence='c_v')\n",
        "        coherence_values.append(coherencemodel.get_coherence())\n",
        "\n",
        "    return model_list, coherence_values"
      ]
    },
    {
      "cell_type": "code",
      "source": [
        "def compute_coherence_values(dictionary, corpus, texts, start, limit, step):\n",
        "    coherence_values = []\n",
        "    model_list = []\n",
        "    for num_topics in range(start, limit, step):\n",
        "        # Create LDA model\n",
        "        model = LdaModel(corpus=corpus, id2word=dictionary, num_topics=num_topics)\n",
        "        model_list.append(model)\n",
        "\n",
        "        # Compute coherence value\n",
        "        coherence_model = CoherenceModel(model=model, texts=texts, dictionary=dictionary, coherence='c_v')\n",
        "        coherence_values.append(coherence_model.get_coherence())\n",
        "\n",
        "    return model_list, coherence_values\n",
        "\n",
        "# Call the compute_coherence_values function\n",
        "model_list, coherence_values = compute_coherence_values(dictionary=id2word, corpus=corpus, texts=df_amazon_mod['reviews_Tokenized_stop'], start=2, limit=40, step=6)\n"
      ],
      "metadata": {
        "colab": {
          "base_uri": "https://localhost:8080/"
        },
        "id": "gMGwYr9RQrnJ",
        "outputId": "88282ff0-9121-46fb-eac6-65ac1fbbb376"
      },
      "id": "gMGwYr9RQrnJ",
      "execution_count": null,
      "outputs": [
        {
          "output_type": "stream",
          "name": "stderr",
          "text": [
            "WARNING:gensim.models.ldamodel:too few updates, training might not converge; consider increasing the number of passes or iterations to improve accuracy\n",
            "WARNING:gensim.models.ldamodel:too few updates, training might not converge; consider increasing the number of passes or iterations to improve accuracy\n",
            "WARNING:gensim.models.ldamodel:too few updates, training might not converge; consider increasing the number of passes or iterations to improve accuracy\n",
            "WARNING:gensim.models.ldamodel:too few updates, training might not converge; consider increasing the number of passes or iterations to improve accuracy\n",
            "WARNING:gensim.models.ldamodel:too few updates, training might not converge; consider increasing the number of passes or iterations to improve accuracy\n",
            "WARNING:gensim.models.ldamodel:too few updates, training might not converge; consider increasing the number of passes or iterations to improve accuracy\n",
            "WARNING:gensim.models.ldamodel:too few updates, training might not converge; consider increasing the number of passes or iterations to improve accuracy\n"
          ]
        }
      ]
    },
    {
      "cell_type": "code",
      "execution_count": null,
      "id": "86701189",
      "metadata": {
        "id": "86701189",
        "outputId": "465b32d0-6816-4f04-eb80-cd6c55d11ac3",
        "colab": {
          "base_uri": "https://localhost:8080/",
          "height": 451
        }
      },
      "outputs": [
        {
          "output_type": "display_data",
          "data": {
            "text/plain": [
              "<Figure size 640x480 with 1 Axes>"
            ],
            "image/png": "[encoded data removed]"
          },
          "metadata": {}
        }
      ],
      "source": [
        "# Show graph\n",
        "limit=40; start=2; step=6;\n",
        "x = range(start, limit, step)\n",
        "plt.plot(x, coherence_values)\n",
        "plt.xlabel(\"Num Topics\")\n",
        "plt.ylabel(\"Coherence score\")\n",
        "plt.legend((\"coherence_values\"), loc='best')\n",
        "plt.show()"
      ]
    },
    {
      "cell_type": "code",
      "execution_count": null,
      "id": "e1abb28b",
      "metadata": {
        "id": "e1abb28b",
        "outputId": "dec51546-aeec-4c5c-c827-5def56504eb4",
        "colab": {
          "base_uri": "https://localhost:8080/"
        }
      },
      "outputs": [
        {
          "output_type": "stream",
          "name": "stdout",
          "text": [
            "Num Topics = 2  has Coherence Value of 0.5929\n",
            "Num Topics = 8  has Coherence Value of 0.4968\n",
            "Num Topics = 14  has Coherence Value of 0.467\n",
            "Num Topics = 20  has Coherence Value of 0.4619\n",
            "Num Topics = 26  has Coherence Value of 0.4468\n",
            "Num Topics = 32  has Coherence Value of 0.4194\n",
            "Num Topics = 38  has Coherence Value of 0.4085\n"
          ]
        }
      ],
      "source": [
        "# Print the coherence scores\n",
        "for m, cv in zip(x, coherence_values):\n",
        "    print(\"Num Topics =\", m, \" has Coherence Value of\", round(cv, 4))"
      ]
    },
    {
      "cell_type": "code",
      "execution_count": null,
      "id": "e07c5f5c",
      "metadata": {
        "id": "e07c5f5c",
        "outputId": "683d5c8f-8e69-4efc-abe6-64562899c8a0",
        "colab": {
          "base_uri": "https://localhost:8080/"
        }
      },
      "outputs": [
        {
          "output_type": "stream",
          "name": "stdout",
          "text": [
            "(0, '0.025*\"love\" + 0.018*\"use\" + 0.016*\"alexa\" + 0.016*\"easy\" + 0.015*\"music\" + 0.015*\"like\" + 0.015*\"echo\" + 0.012*\"set\" + 0.009*\"great\" + 0.009*\"dot\"')\n",
            "\n",
            "\n",
            "(1, '0.025*\"great\" + 0.022*\"love\" + 0.020*\"echo\" + 0.016*\"works\" + 0.012*\"alexa\" + 0.011*\"music\" + 0.010*\"like\" + 0.009*\"product\" + 0.008*\"sound\" + 0.008*\"one\"')\n"
          ]
        }
      ],
      "source": [
        "# Select the model and print the topics\n",
        "optimal_model = model_list[0]\n",
        "model_topics = optimal_model.show_topics(formatted=False)\n",
        "print(*optimal_model.print_topics(num_words=10),sep='\\n\\n\\n')\n",
        "\n"
      ]
    },
    {
      "cell_type": "markdown",
      "id": "4cd9e283",
      "metadata": {
        "id": "4cd9e283"
      },
      "source": [
        "### Finding the dominant topic in each sentence\n",
        "### Finding the most representative document for each topic\n",
        "### Topic distributions across documents"
      ]
    },
    {
      "cell_type": "code",
      "execution_count": null,
      "id": "048fb18e",
      "metadata": {
        "id": "048fb18e"
      },
      "outputs": [],
      "source": []
    },
    {
      "cell_type": "markdown",
      "id": "870b958a",
      "metadata": {
        "id": "870b958a"
      },
      "source": [
        "### Topic Modeling - LSA model"
      ]
    },
    {
      "cell_type": "code",
      "execution_count": null,
      "id": "fb6602c2",
      "metadata": {
        "id": "fb6602c2",
        "outputId": "4c712d3a-34ea-49fe-ac4b-6332b2bb340e",
        "colab": {
          "base_uri": "https://localhost:8080/"
        }
      },
      "outputs": [
        {
          "output_type": "stream",
          "name": "stdout",
          "text": [
            "[[(0, 1), (1, 1)]]\n"
          ]
        }
      ],
      "source": [
        "# Create Dictionary\n",
        "id2word = corpora.Dictionary(df_amazon_mod['reviews_Tokenized_stop'])\n",
        "\n",
        "# Create Corpus\n",
        "texts = df_amazon_mod['reviews_Tokenized_stop']\n",
        "\n",
        "# Term Document Frequency\n",
        "corpus = [id2word.doc2bow(text) for text in texts]\n",
        "\n",
        "# View\n",
        "print(corpus[:1])"
      ]
    },
    {
      "cell_type": "code",
      "execution_count": null,
      "id": "2f185fa8",
      "metadata": {
        "id": "2f185fa8"
      },
      "outputs": [],
      "source": []
    },
    {
      "cell_type": "code",
      "execution_count": null,
      "id": "c82e9754",
      "metadata": {
        "id": "c82e9754",
        "outputId": "4c422a13-579d-4d19-bfc7-0a2f4936a6b7",
        "colab": {
          "base_uri": "https://localhost:8080/"
        }
      },
      "outputs": [
        {
          "output_type": "stream",
          "name": "stdout",
          "text": [
            "Coherence score with 2 clusters: 0.6023518168264237\n",
            "Coherence score with 3 clusters: 0.6482210681888715\n",
            "Coherence score with 4 clusters: 0.5354078427603695\n",
            "Coherence score with 5 clusters: 0.6038810536617147\n",
            "Coherence score with 6 clusters: 0.6024505564882646\n",
            "Coherence score with 7 clusters: 0.5811961443450462\n",
            "Coherence score with 8 clusters: 0.6375900653779134\n",
            "Coherence score with 9 clusters: 0.5806713453317339\n",
            "Coherence score with 10 clusters: 0.6406752691752231\n"
          ]
        }
      ],
      "source": [
        "from gensim.models import LsiModel\n",
        "from gensim.models.coherencemodel import CoherenceModel\n",
        "\n",
        "# find the coherence score with a different number of topics\n",
        "for i in range(2,11):\n",
        "    lsi = LsiModel(corpus, num_topics=i, id2word=id2word)\n",
        "    coherence_model = CoherenceModel(model=lsi, texts=df_amazon_mod['reviews_Tokenized_stop'], dictionary=id2word, coherence='c_v')\n",
        "    coherence_score = coherence_model.get_coherence()\n",
        "    print('Coherence score with {} clusters: {}'.format(i, coherence_score))"
      ]
    },
    {
      "cell_type": "code",
      "execution_count": null,
      "id": "13784cb6",
      "metadata": {
        "id": "13784cb6"
      },
      "outputs": [],
      "source": [
        "### The coherence score is highest with 10 topics"
      ]
    },
    {
      "cell_type": "code",
      "execution_count": null,
      "id": "c304a51f",
      "metadata": {
        "id": "c304a51f"
      },
      "outputs": [],
      "source": [
        "# perform SVD on the bag of words with the LsiModel to extract 2 topics\n",
        "lsi = LsiModel(corpus, num_topics=2, id2word=id2word)"
      ]
    },
    {
      "cell_type": "code",
      "execution_count": null,
      "id": "4c2ccf9f",
      "metadata": {
        "id": "4c2ccf9f",
        "outputId": "adc33b47-46b7-4345-c3de-a0700966de82",
        "colab": {
          "base_uri": "https://localhost:8080/"
        }
      },
      "outputs": [
        {
          "output_type": "stream",
          "name": "stdout",
          "text": [
            "Words in 0: 0.474*\"echo\" + 0.313*\"alexa\" + 0.265*\"love\" + 0.214*\"music\" + 0.202*\"great\".\n",
            "Words in 1: -0.676*\"echo\" + 0.332*\"alexa\" + 0.323*\"love\" + 0.218*\"music\" + -0.174*\"hub\".\n"
          ]
        }
      ],
      "source": [
        "# find the 5 words with the srongest association to the derived topics\n",
        "for topic_num, words in lsi.print_topics(num_words=5):\n",
        "    print('Words in {}: {}.'.format(topic_num, words))"
      ]
    },
    {
      "cell_type": "code",
      "execution_count": null,
      "id": "29d42a1e",
      "metadata": {
        "id": "29d42a1e"
      },
      "outputs": [],
      "source": []
    }
  ],
  "metadata": {
    "kernelspec": {
      "display_name": "Python 3",
      "language": "python",
      "name": "python3"
    },
    "language_info": {
      "codemirror_mode": {
        "name": "ipython",
        "version": 3
      },
      "file_extension": ".py",
      "mimetype": "text/x-python",
      "name": "python",
      "nbconvert_exporter": "python",
      "pygments_lexer": "ipython3",
      "version": "3.8.8"
    },
    "colab": {
      "provenance": [],
      "include_colab_link": true
    }
  },
  "nbformat": 4,
  "nbformat_minor": 5
}